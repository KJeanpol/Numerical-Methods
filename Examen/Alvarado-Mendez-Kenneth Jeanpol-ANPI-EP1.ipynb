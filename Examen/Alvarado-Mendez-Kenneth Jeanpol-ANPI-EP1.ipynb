{
 "cells": [
  {
   "cell_type": "markdown",
   "metadata": {
    "kernel": "SoS"
   },
   "source": [
    "<div style=\"text-align: center;\" role=\"presentation\">\n",
    "<h1 role=\"presentation\"><strong><span role=\"presentation\">An&aacute;lisis Num&eacute;rico para Ingenier&iacute;a - I Semestre 2020</span></strong></h1>"
   ]
  },
  {
   "cell_type": "markdown",
   "metadata": {
    "kernel": "SoS"
   },
   "source": [
    "<h1 style=\"text-align: center;\"><span style=\"color: #0000ff;\">Examen Programado 1</span></h1>"
   ]
  },
  {
   "cell_type": "markdown",
   "metadata": {
    "kernel": "SoS"
   },
   "source": [
    "<p><strong>Descripci&oacute;n:&nbsp;</strong>Este documento presenta la resolucion del primer exámen programado del curso Analisis Numerico para Ingenieria.</p>\n",
    "\n",
    "<p><strong>Estudiante</strong><ul>\n",
    "<li>Kenneth Jeanpol Alvarado Mendez 2015095715</li>\n",
    "</ul>.</p>\n"
   ]
  },
  {
   "cell_type": "markdown",
   "metadata": {
    "kernel": "SoS"
   },
   "source": [
    "<h2><span style=\"color: #993300;\"><span style=\"text-decoration: underline;\"><strong></strong>Pregunta 1</span></span></h2>"
   ]
  },
  {
   "cell_type": "markdown",
   "metadata": {
    "kernel": "SoS"
   },
   "source": [
    "<h3><strong>a)Codigo del metodo NSM en GNU Octave</strong></h3>"
   ]
  },
  {
   "cell_type": "code",
   "execution_count": 231,
   "metadata": {
    "kernel": "Octave"
   },
   "outputs": [],
   "source": [
    "warning('off')\n",
    "# Solve Newton-Steffense mehtod\n",
    "#inputs: f: Function\n",
    "#        x0: initial value\n",
    "#        iterMax: Maximun Iterations to execute the code\n",
    "#        tol: Accepted Tolerance given, to find xk\n",
    "#outputs: xk: Root of the function\n",
    "#         iter: Iteration needed to find xk\n",
    "\n",
    "function [xk, iter] = NSM(f, x0, iterMax, tol)\n",
    "  syms x;\n",
    "  err= tol + 1;\n",
    "  fx = function_handle(f);\n",
    "  fd = diff(f);\n",
    "  fdx = function_handle(fd);\n",
    "  iter=0;\n",
    "  xk=x0;\n",
    "  while (iter<=iterMax && err>tol)\n",
    "    xna=xk-fx(xk)/fdx(xk);\n",
    "    denominador=(fx(xk)-fx(xna))*(fdx(xk));\n",
    "    double(denominador);\n",
    "     if (denominador==0)   % Evalua si el denominador es cero, lo que indefine la solucion\n",
    "      xk='Failure';\n",
    "      iter=iter+1;\n",
    "      break\n",
    "    endif\n",
    "     xn=xk-fx(xk)^2/denominador;\n",
    "     err=abs(fx(xn));\n",
    "     xk=xn;\n",
    "     iter=iter+1;\n",
    "  endwhile\n",
    "  if(iter==iterMax)        % Evalua si se salio del while, porque ha alcanzado iteraciones maximas\n",
    "    iter='Non Converge to given iterMax';    % No converge dado las iteraciones dadas, pues no cumple el error aceptado\n",
    "    return \n",
    "  endif\n",
    "endfunction"
   ]
  },
  {
   "cell_type": "markdown",
   "metadata": {
    "kernel": "Python 3"
   },
   "source": [
    "<h3><strong>b)Codigo del metodo SM en GNU Octave</strong></h3>"
   ]
  },
  {
   "cell_type": "code",
   "execution_count": 232,
   "metadata": {
    "kernel": "Octave"
   },
   "outputs": [],
   "source": [
    "# Solve Newton-Steffense mehtod\n",
    "#inputs: f: Function\n",
    "#        x0: initial value\n",
    "#        iterMax: Maximun Iterations to execute the code\n",
    "#        tol: Accepted Tolerance given, to find xk\n",
    "#outputs: k:  Iteration needed to find the root of the function\n",
    "\n",
    "function [k] = SM(f,x0,tol,iterMax)\n",
    "  syms x\n",
    "  fd = diff(f);\n",
    "  f = function_handle(f);\n",
    "  fd = function_handle(fd);\n",
    "  k=1;\n",
    "  error=tol+1;\n",
    "  xn=x0;\n",
    "  while(k<iterMax && error>tol)\n",
    "    xa= (f(xn + f(xn)) - f(xn))/f(xn);\n",
    "    if (xa==0)            % Evalua si el denominador es cero, lo que indefine la solucion\n",
    "      k='Failure';\n",
    "      return  \n",
    "    endif\n",
    "    xn=xn- f(xn)/xa;\n",
    "    error= abs(f(xn)); % Evalua el error como |f(xk)|\n",
    "    k=k+1;\n",
    "  endwhile\n",
    "  if(k==iterMax)   % Evalua si se salio del while, porque ha alcanzado iteraciones maximas\n",
    "    k='Non Converge to given iterMax';   % No converge dado las iteraciones dadas, pues no cumple el error aceptado\n",
    "    return  \n",
    "  endif\n",
    "endfunction\n"
   ]
  },
  {
   "cell_type": "markdown",
   "metadata": {
    "kernel": "Python 3"
   },
   "source": [
    "<h3><strong>c)Codigo del metodo NM en GNU Octave</strong></h3>"
   ]
  },
  {
   "cell_type": "code",
   "execution_count": 233,
   "metadata": {
    "kernel": "Octave"
   },
   "outputs": [],
   "source": [
    "# Solve Newton-Steffense mehtod\n",
    "#inputs: f: Function\n",
    "#        x0: initial value\n",
    "#        iterMax: Maximun Iterations to execute the code\n",
    "#        tol: Accepted Tolerance given, to find xk\n",
    "#outputs: k:  Iteration needed to find the root of the function\n",
    "\n",
    "function [k] = NM(f, x0, tol, iterMax)\n",
    "  fd = diff(f);\n",
    "  f = function_handle(f);\n",
    "  fd = function_handle(fd);\n",
    "  xk = x0;\n",
    "  k=1;\n",
    "  error=tol+1;\n",
    "  while(k<iterMax && error>tol)\n",
    "    if (fd(xk)==0)  % Evalua si el denominador es cero, lo que indefine la solucion\n",
    "      k='Failure';\n",
    "      return\n",
    "    endif\n",
    "    xk=xk- f(xk)/fd(xk);\n",
    "    error= abs(f(xk));   % Evalua el error como |f(xk)|\n",
    "    k=k+1;\n",
    "  endwhile\n",
    "  if(k==iterMax) % Evalua si se salio del while, porque ha alcanzado iteraciones maximas\n",
    "    k='Non Converge to given iterMax';   % No converge dado las iteraciones dadas, pues no cumple el error aceptado\n",
    "    return \n",
    "  endif\n",
    "endfunction"
   ]
  },
  {
   "cell_type": "markdown",
   "metadata": {
    "kernel": "Python 3"
   },
   "source": [
    "<h3><strong>d)Codigo de metodo auxiliar para obtener los resultados de los metodos anteriores</strong></h3>"
   ]
  },
  {
   "cell_type": "code",
   "execution_count": 234,
   "metadata": {
    "kernel": "Octave"
   },
   "outputs": [],
   "source": [
    "# Solve the NM, SM and NSM methods above\n",
    "#inputs: f: Function\n",
    "#        x0: initial value\n",
    "#        iterMax: Maximun Iterations to execute the code\n",
    "#        tol: Accepted Tolerance given, to find xk\n",
    "#outputs: alpha:  Root of the function f, found with NSM function\n",
    "#         k1:  Iteration needed to find the root of the function with NSM\n",
    "#         k2:  Iteration needed to find the root of the function with NM\n",
    "#         k3:  Iteration needed to find the root of the function with SM\n",
    "\n",
    "function [alpha,k1,k2,k3] = resultados(f,x0,tol,iterMax)\n",
    "  [alpha,k1]=NSM(f,x0,iterMax,tol);\n",
    "  k2=NM(f,x0,tol,iterMax);\n",
    "  k3=SM(f,x0,tol,iterMax);\n",
    "endfunction\n"
   ]
  },
  {
   "cell_type": "markdown",
   "metadata": {
    "kernel": "Octave"
   },
   "source": [
    "<h3><strong>e)Tabla a Mostrar de comparacion de metodos.</strong></h3>"
   ]
  },
  {
   "cell_type": "code",
   "execution_count": 235,
   "metadata": {
    "kernel": "Octave"
   },
   "outputs": [
    {
     "name": "stdout",
     "output_type": "stream",
     "text": [
      "ans = dataframe with 5 rows and 6 columns                                                                         \n",
      "_1                                         funcion     x0   x__Root_a    NSM      NM                            SM\n",
      "Nr                                            char double      double double    char                          char\n",
      " 1                                       tan^-1(x)      2 -6.7353e-12      3 Failure                       Failure\n",
      " 2                                      sin(x)-x/2      2  1.8955e+00      2       5                             4\n",
      " 3                                10*x*exp(-x^2)-1      1  1.6796e+00      3       5                       Failure\n",
      " 4 x^6-36*x^5+450*x^4-2400*x^3+5400*x^2-4320*x+720     15  1.5983e+01      9      10 Non Converge to given iterMax\n",
      " 5                                   xlog10(x)-1.2      2  2.7406e+00      3       5                             5\n"
     ]
    }
   ],
   "source": [
    "warning('off')\n",
    "pkg load dataframe\n",
    "pkg load symbolic\n",
    "syms x\n",
    "\n",
    "[A1,A2,A3,A4]=resultados(atan(x),2,10^-10,200);\n",
    "[B1,B2,B3,B4]=resultados(sin(x)-x/2,2,10^-10,200);\n",
    "[C1,C2,C3,C4]=resultados(10*x*exp(-x^2)-1,1,10^-10,200);\n",
    "[D1,D2,D3,D4]=resultados(x^6-36*x^5+450*x^4-2400*x^3+5400*x^2-4320*x+720,15,10^-10,200);\n",
    "[E1,E2,E3,E4]=resultados(x*log10(x)-1.2,2,10^-10,200);\n",
    "\n",
    "\n",
    "C = {\"funcion\", \"x0\", \"  Root a\", \"NSM\",\"NM\",\"SM\"; \n",
    "     \"tan^-1(x)\", 2, A1, A2, A3,A4 ; \n",
    "     \"sin(x)-x/2\", 2,  B1, B2, B3,B4 ;\n",
    "     \"10*x*exp(-x^2)-1\", 1,  C1, C2, C3,C4 ;\n",
    "     \"x^6-36*x^5+450*x^4-2400*x^3+5400*x^2-4320*x+720\", 15,  D1, D2, D3,D4 ;   \n",
    "     \"xlog10(x)-1.2\", 2, E1, E2, E3,E4  } ;\n",
    "dataframe (C)"
   ]
  },
  {
   "cell_type": "markdown",
   "metadata": {
    "kernel": "Octave"
   },
   "source": [
    "<h2><span style=\"color: #993300;\"><span style=\"text-decoration: underline;\"><strong></strong>Pregunta 2</span></span></h2>"
   ]
  },
  {
   "cell_type": "markdown",
   "metadata": {
    "kernel": "Octave"
   },
   "source": [
    "<h3><strong>a)Codigo del metodo de Thomas en Python</strong></h3>"
   ]
  },
  {
   "cell_type": "code",
   "execution_count": 236,
   "metadata": {
    "kernel": "Python 3"
   },
   "outputs": [],
   "source": [
    "import numpy as np\n",
    "\n",
    "# Solve the Thomas algorithm to solve a tridiagonal system of equations.\n",
    "# Outputs: xi= Vector with the xi values of the solution Ax=d\n",
    "\n",
    "def Thomas():\n",
    "    xi=[]    # Lista que almacenara el vector de xi de la solucion Ax=d, con i= iteracion\n",
    "    ci=0\n",
    "    di=0\n",
    "    qi=0\n",
    "    bi=0\n",
    "    A=createTridiagonal(100,1,5,1)  \n",
    "    d=createD(100)\n",
    "    for i in range(0,100-1):\n",
    "        if (i==0):        # Actualizancion de variables en la primera iteracion\n",
    "            ci=A[i][i+1]\n",
    "            bi=A[i][i]\n",
    "            di=d[i]\n",
    "            pi=ci/bi\n",
    "            qi=di/bi\n",
    "            xn=qi\n",
    "            xi.append(qi-pi*xn)\n",
    "        else:           # Actualizancion de variables para iteraciones > 1\n",
    "            ai=A[i][i-1]\n",
    "            bi=A[i][i]\n",
    "            di=d[i]\n",
    "            ci=A[i][i+1]\n",
    "            pi=ci/(bi-pi*ai)\n",
    "            qi=(di-qi*ai)/(bi-pi*ai)\n",
    "            xi.append(qi-pi*xi[i-1])      \n",
    "    return xi\n",
    "\n",
    "\n",
    "# Generates a tridiagonal matrix with the diagonal needed to solve the Thomas Method  \n",
    "# Inputs: N = Size of matrix NXN\n",
    "#         a= adjacent diagonals above\n",
    "#         a= adjacent diagonals below\n",
    "# Outputs: matrix= Tridiagonal matrix fill with the values needed to solve the Thomas Method\n",
    "\n",
    "def createTridiagonal(N,a,b,c):\n",
    "    matrix=np.zeros((N,N))\n",
    "    np.fill_diagonal(matrix,b)\n",
    "    n=N\n",
    "    print(matrix[0][5])\n",
    "    for i in range(0,n-1): \n",
    "        matrix[i][i+1]=c   # Actualiza los valores de arriba de la diagonal\n",
    "        matrix[i+1][i]=a   # Actualiza los valores de abajo de la diagonal\n",
    "    return matrix\n",
    "  \n",
    "    \n",
    "# Generates a list with the values of the variable d at the equation Ax=d    \n",
    "# Inputs: N = Size of list\n",
    "# Outputs: d= List of size N with values needed to solve Thomas Method\n",
    "def createD(N):\n",
    "    n=N\n",
    "    d=[]\n",
    "    for i in range(0,n): \n",
    "        if((i==0) or (i==n-1)):\n",
    "            d.append(-12)\n",
    "        else:\n",
    "             d.append(-14)\n",
    "    return d\n",
    "    "
   ]
  },
  {
   "cell_type": "markdown",
   "metadata": {
    "kernel": "Python 3"
   },
   "source": [
    "<h3><strong>a)Solucion del sistema de ecuaciones $Ax = d$ , donde\n",
    "    $A \\in \\mathbb{R} ^{100x100}$ y $d \\in \\mathbb{R}^{100}$\n",
    "    </strong></h3>"
   ]
  },
  {
   "cell_type": "code",
   "execution_count": 237,
   "metadata": {
    "kernel": "Python 3"
   },
   "outputs": [
    {
     "name": "stdout",
     "output_type": "stream",
     "text": [
      "0.0\n",
      "[-1.92, -2.0208695652173914, -1.994950222829089, -2.0012068362956392, -1.999716555475722, -2.0000657610408457, -1.9999848974609518, -2.0000034395944484, -1.9999992221090448, -2.0000001748792884, -1.99999996088666, -2.0000000087089833, -1.9999999980684655, -2.000000000426899, -1.9999999999059408, -2.000000000020666, -1.9999999999954707, -2.0000000000009903, -1.9999999999997837, -2.000000000000047, -1.99999999999999, -2.000000000000002, -1.9999999999999993, -2.0000000000000004, -1.9999999999999996, -2.0000000000000004, -1.9999999999999996, -2.0000000000000004, -1.9999999999999996, -2.0000000000000004, -1.9999999999999996, -2.0000000000000004, -1.9999999999999996, -2.0000000000000004, -1.9999999999999996, -2.0000000000000004, -1.9999999999999996, -2.0000000000000004, -1.9999999999999996, -2.0000000000000004, -1.9999999999999996, -2.0000000000000004, -1.9999999999999996, -2.0000000000000004, -1.9999999999999996, -2.0000000000000004, -1.9999999999999996, -2.0000000000000004, -1.9999999999999996, -2.0000000000000004, -1.9999999999999996, -2.0000000000000004, -1.9999999999999996, -2.0000000000000004, -1.9999999999999996, -2.0000000000000004, -1.9999999999999996, -2.0000000000000004, -1.9999999999999996, -2.0000000000000004, -1.9999999999999996, -2.0000000000000004, -1.9999999999999996, -2.0000000000000004, -1.9999999999999996, -2.0000000000000004, -1.9999999999999996, -2.0000000000000004, -1.9999999999999996, -2.0000000000000004, -1.9999999999999996, -2.0000000000000004, -1.9999999999999996, -2.0000000000000004, -1.9999999999999996, -2.0000000000000004, -1.9999999999999996, -2.0000000000000004, -1.9999999999999996, -2.0000000000000004, -1.9999999999999996, -2.0000000000000004, -1.9999999999999996, -2.0000000000000004, -1.9999999999999996, -2.0000000000000004, -1.9999999999999996, -2.0000000000000004, -1.9999999999999996, -2.0000000000000004, -1.9999999999999996, -2.0000000000000004, -1.9999999999999996, -2.0000000000000004, -1.9999999999999996, -2.0000000000000004, -1.9999999999999996, -2.0000000000000004, -1.9999999999999996]\n"
     ]
    }
   ],
   "source": [
    "xn=Thomas()\n",
    "print(xn)"
   ]
  }
 ],
 "metadata": {
  "kernelspec": {
   "display_name": "SoS",
   "language": "sos",
   "name": "sos"
  },
  "language_info": {
   "codemirror_mode": "sos",
   "file_extension": ".sos",
   "mimetype": "text/x-sos",
   "name": "sos",
   "nbconvert_exporter": "sos_notebook.converter.SoS_Exporter",
   "pygments_lexer": "sos"
  },
  "sos": {
   "kernels": [
    [
     "Octave",
     "octave",
     "octave",
     "",
     ""
    ],
    [
     "Python 3",
     "python3",
     "python3",
     "",
     {
      "name": "ipython",
      "version": 3
     }
    ]
   ],
   "panel": {
    "displayed": true,
    "height": 0
   },
   "version": "0.21.7"
  }
 },
 "nbformat": 4,
 "nbformat_minor": 2
}
