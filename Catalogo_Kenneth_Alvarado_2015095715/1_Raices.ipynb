{
 "cells": [
  {
   "cell_type": "markdown",
   "metadata": {
    "kernel": "SoS"
   },
   "source": [
    "<h1 style=\"text-align: center;\"><strong>1. Soluci&oacute;n de Ecuaciones No Lineales</strong></h1>"
   ]
  },
  {
   "cell_type": "markdown",
   "metadata": {
    "kernel": "SoS"
   },
   "source": [
    "<a id='biseccion'></a>\n",
    "<h2><span style=\"color: #993300;\"><span style=\"text-decoration: underline;\"><strong>M&eacute;todo 1:</strong> M&eacute;todo de la Bisecci&oacute;n</span></span></h2>"
   ]
  },
  {
   "cell_type": "markdown",
   "metadata": {
    "kernel": "SoS"
   },
   "source": [
    "<h3><strong>a) Formulaci&oacute;n Matem&aacute;tica</strong></h3>"
   ]
  },
  {
   "cell_type": "markdown",
   "metadata": {
    "kernel": "SoS"
   },
   "source": [
    "\n",
    "$\\begin{equation}\n",
    "I_{k+1} = \\left[a_{k+1},b_{k+1}\\right] = \\left\\{ \\begin{array}{lcc}\n",
    "            \\left[a_{k},x_{k}\\right] &   si  & f(a_{k})f(x_{k}) < 0 \\\\\n",
    "             \\left[x_{k},b_{k}\\right] &   si  & f(a_{k})f(x_{k}) > 0\n",
    "             \\end{array}\n",
    "   \\right.\n",
    "\\end{equation}$\n"
   ]
  },
  {
   "cell_type": "markdown",
   "metadata": {
    "kernel": "SoS"
   },
   "source": [
    "<h3><strong>b) Valores Iniciales</strong></h3>\n"
   ]
  },
  {
   "cell_type": "markdown",
   "metadata": {
    "kernel": "SoS"
   },
   "source": [
    "\n",
    "$\\begin{equation}\n",
    "    \\left[a,b\\right] \\hspace{0.2cm} y \\hspace{0.2cm} f(x) \\hspace{0.2cm} continua\n",
    "\\end{equation}$"
   ]
  },
  {
   "cell_type": "markdown",
   "metadata": {
    "kernel": "SoS"
   },
   "source": [
    "<h3><strong>c) Ventajas y Desvantajas</strong></h3>"
   ]
  },
  {
   "cell_type": "markdown",
   "metadata": {
    "kernel": "SoS"
   },
   "source": [
    "<div class=\"alert alert-block alert-success row\">\n",
    "    <div class=\"column\">\n",
    "        <p>\n",
    "            <span style=\"text-decoration: underline;\">\n",
    "                <span style=\"text-decoration: underline;\">\n",
    "                    <strong>Ventajas:</strong>\n",
    "                </span>\n",
    "            </span>\n",
    "        </p>\n",
    "        <li>Siempre converge</li>\n",
    "        <li>Útil como aproximación inicial de otros métodos</li>\n",
    "    </div>\n",
    "    <div class =\"column\">\n",
    "        <p>\n",
    "            <span style=\"text-decoration: underline;\">\n",
    "                <span style=\"text-decoration: underline;\">\n",
    "                    <strong>Desventajas:</strong>\n",
    "                </span>\n",
    "            </span>\n",
    "        </p>\n",
    "        <li>Convergencia Lenta</li>\n",
    "        <li>No tiene en cuenta la magnitud d elos valores de la función en las aproximaciones calculadas, solo tiene en cuneta el sifgno de f(x), por lo que hace que una aproximación intermedia, mejor que la respuesta final, pase desapercibida  </li>\n",
    "    </div>\n",
    "</div>"
   ]
  },
  {
   "cell_type": "markdown",
   "metadata": {
    "kernel": "SoS"
   },
   "source": [
    "<h3><strong>d) Pasos del m&eacute;todo (Pseudoc&oacute;digo)</strong></h3>"
   ]
  },
  {
   "cell_type": "markdown",
   "metadata": {
    "kernel": "SoS"
   },
   "source": [
    "![](bpseu.JPG)"
   ]
  },
  {
   "cell_type": "markdown",
   "metadata": {
    "kernel": "SoS"
   },
   "source": [
    "<h3><strong>e) C&oacute;digo en GNU Octave</strong></h3>"
   ]
  },
  {
   "cell_type": "code",
   "execution_count": 2,
   "metadata": {
    "kernel": "Octave",
    "scrolled": true
   },
   "outputs": [],
   "source": [
    "function [x,k,error]=biseccion3(f,a,b,tol,iterMax)\n",
    "\n",
    "    %Esta función aproxima la solución de la ecuación f(x)=0, utilizando el método de la bisección\n",
    "    %\n",
    "    %Sintaxis:  biseccion1(f,a,b,tol,iterMax)\n",
    "    % \n",
    "    %Parámetros Iniciales: \n",
    "    %            f = una  cadena de caracteres (string) que representa a la función f\n",
    "    %            a,b = son los extremos del intervalo [a,b]\n",
    "    %            tol = un número positivo que representa a la tolerancia para el criterio |f(x_k)|<tol\n",
    "    %            iterMax = cantidad de iteraciones máximas\n",
    "    %            \n",
    "    %Parámetros de Salida:                           \n",
    "    %            x = aproximación del cero de la función f\n",
    "    %            k = número de iteraciones realizados\n",
    "    %            error =  |f(x)|\n",
    "\n",
    "\n",
    "    pkg load symbolic\n",
    "    \n",
    "    f1 = matlabFunction(sym(f));  % Se obtiene la funcion\n",
    "    %df = matlabFunction(diff(sym(funcion)));  % Se calcula la derivada\n",
    "    \n",
    "    if f1(a)*f1(b)>0\n",
    "        x=[]; k=[]; error=[];\n",
    "        display('El teorema de Bolzano no se cumple, es decir, f(a)*f(b)>0')\n",
    "    else\n",
    "        k=0;\n",
    "        error=tol+1;\n",
    "        e=[];\n",
    "        while and(error>tol,k<iterMax)\n",
    "            k=k+1;\n",
    "            x=(a+b)/2;\n",
    "            error=abs(f1(x));\n",
    "            e=[e error];\n",
    "            if f1(a)*f1(x)<0\n",
    "                b=x;\n",
    "            else\n",
    "                a=x;\n",
    "            end\n",
    "        end\n",
    "        plot(1:k,e)\n",
    "    end\n",
    "end\n",
    "\n",
    "%help biseccion3\n"
   ]
  },
  {
   "cell_type": "markdown",
   "metadata": {
    "kernel": "octave"
   },
   "source": [
    "<h3><strong>f) C&oacute;digo en Python</strong></h3>"
   ]
  },
  {
   "cell_type": "code",
   "execution_count": 4,
   "metadata": {
    "kernel": "Python 3"
   },
   "outputs": [
    {
     "data": {
      "text/plain": [
       "'help(biseccion1)'"
      ]
     },
     "execution_count": 4,
     "metadata": {},
     "output_type": "execute_result"
    }
   ],
   "source": [
    "def biseccion1(f,a,b,tol,iterMax):\n",
    "\n",
    "    \"\"\"\n",
    "    Esta función aproxima la solución de la ecuación f(x)=0, utilizando el método de la bisección\n",
    "    \n",
    "    Sintaxis:  biseccion1(f,a,b,tol,iterMax)\n",
    "    \n",
    "    Parámetros Iniciales: \n",
    "                f = una  cadena de caracteres (string) que representa a la función f\n",
    "                a,b = son los extremos del intervalo [a,b]\n",
    "                tol = un número positivo que representa a la tolerancia para el criterio |f(x_k)|<tol\n",
    "                iterMax = cantidad de iteraciones máximas\n",
    "                \n",
    "    Parámetros de Salida: \n",
    "                [x_k,k,error], donde                \n",
    "                x_k = aproximación del cero de la función f\n",
    "                k = número de iteraciones realizados\n",
    "                error =  |f(x_k)|\n",
    "    \"\"\"\n",
    "    \n",
    "    \n",
    "    from sympy import  sympify\n",
    "    import matplotlib.pyplot\n",
    "\n",
    "    \n",
    "    funcion = sympify(f)\n",
    "    fa=funcion.subs({'x': a})\n",
    "    fb=funcion.subs({'x': b})\n",
    "    \n",
    "    if fa*fb>0:\n",
    "        x=[]\n",
    "        k=[]\n",
    "        error=[]\n",
    "        display('El teorema de Bolzano no se cumple, es decir, f(a)*f(b)>0')\n",
    "    else:\n",
    "        error=tol+1\n",
    "        k=0\n",
    "        it=[]\n",
    "        er=[]\n",
    "        while error>tol and k<iterMax:\n",
    "            k=k+1\n",
    "            x=(a+b)/2\n",
    "            fa=funcion.subs({'x': a})\n",
    "            fx=funcion.subs({'x': x})\n",
    "            error=abs(fx)\n",
    "            it.append(k)\n",
    "            er.append(error)\n",
    "            if fa*fx<0:\n",
    "                b=x                \n",
    "            else:\n",
    "                a=x   \n",
    "    matplotlib.pyplot.plot(it, er)\n",
    "    return [x,k,float(error)]\n",
    "\n",
    "\"\"\"help(biseccion1)\"\"\""
   ]
  },
  {
   "cell_type": "markdown",
   "metadata": {
    "kernel": "python3"
   },
   "source": [
    "<h3><strong>g) Ejemplo Num&eacute;rico</strong></h3>"
   ]
  },
  {
   "cell_type": "markdown",
   "metadata": {
    "kernel": "python3"
   },
   "source": [
    "Utilice el método de bisección para aproximar la solucion de la ecuación $e^{x}-x-2=0$, en el intervalo $[0,2]$ para una tolerancia de $1x10^{-4}$. El resultado de la operación se da con 8 iteraciones y la aproximacion es $x_7 = 1.1484375$ "
   ]
  },
  {
   "cell_type": "code",
   "execution_count": 3,
   "metadata": {
    "kernel": "Octave"
   },
   "outputs": [
    {
     "name": "stdout",
     "output_type": "stream",
     "text": [
      "tolerancia =  0.00010000\n",
      "Symbolic pkg v2.8.0: Python communication link active, SymPy v1.4.\n",
      "x =  1.1462\n",
      "k =  15\n",
      "error =  0.000030092\n"
     ]
    },
    {
     "data": {
      "image/png": "[encoded data removed]",
      "text/plain": [
       "<IPython.core.display.Image object>"
      ]
     },
     "metadata": {},
     "output_type": "display_data"
    }
   ],
   "source": [
    "% Solución del ejemplo utilizando GNU Octave\n",
    "a=0;\n",
    "b=2;\n",
    "iterMax=50;\n",
    "tolerancia=1*(10**-4)\n",
    "[x,k,error]=biseccion3('exp(x)-x-2',a,b,tolerancia,iterMax)"
   ]
  },
  {
   "cell_type": "code",
   "execution_count": 42,
   "metadata": {
    "kernel": "Python 3"
   },
   "outputs": [
    {
     "name": "stdout",
     "output_type": "stream",
     "text": [
      "[1.14617919921875, 15, 3.00923282878784e-5]\n"
     ]
    },
    {
     "data": {
      "image/png": "[encoded data removed]",
      "text/plain": [
       "<Figure size 432x288 with 1 Axes>"
      ]
     },
     "metadata": {
      "needs_background": "light"
     },
     "output_type": "display_data"
    }
   ],
   "source": [
    "#Solución del ejemplo utilizando GNU Octave\n",
    "a=0;\n",
    "b=2;\n",
    "iterMax=50;\n",
    "tolerancia=1*(10**-4)\n",
    "resultado=biseccion1('exp(x)-x-2',a,b,tolerancia,iterMax)\n",
    "print(resultado)"
   ]
  },
  {
   "cell_type": "markdown",
   "metadata": {
    "kernel": "python3"
   },
   "source": [
    "<a id='metodo2'></a>\n",
    "<h2><span style=\"color: #993300;\"><strong>M&eacute;todo 2: Newton-Raphson </strong> </span></h2>"
   ]
  },
  {
   "cell_type": "markdown",
   "metadata": {
    "kernel": "SoS"
   },
   "source": [
    "<h3><strong>a) Formulaci&oacute;n Matem&aacute;tica</strong></h3>"
   ]
  },
  {
   "cell_type": "markdown",
   "metadata": {
    "kernel": "SoS"
   },
   "source": [
    "\n",
    "$ \\begin{equation}\n",
    "       \\left\\{  \\begin{array}{lcc}\n",
    "                 x_{k+1} = x_{k}- \\frac{f(x_{k})}{f^{\\prime}(x_{k})} &  donde  & f^{\\prime}(x_{k}) \\neq 0 \\text{ para todo }  k \\geq 0 \\\\\n",
    "                 x_{0} \\in \\mathbb{R} & \\text {valor inicial} \n",
    "                \\end{array}\n",
    "     \\right.\n",
    "    \\end{equation}$\n"
   ]
  },
  {
   "cell_type": "markdown",
   "metadata": {
    "kernel": "Python 3"
   },
   "source": [
    "<h3><strong>b) Valores Iniciales</strong></h3>"
   ]
  },
  {
   "cell_type": "markdown",
   "metadata": {
    "kernel": "SoS"
   },
   "source": [
    "Algún valor $x_{0}$ dado"
   ]
  },
  {
   "cell_type": "markdown",
   "metadata": {
    "kernel": "SoS"
   },
   "source": [
    "<h3><strong>c) Ventajas y Desvantajas</strong></h3>"
   ]
  },
  {
   "cell_type": "markdown",
   "metadata": {
    "kernel": "SoS"
   },
   "source": [
    "<div class=\"alert alert-block alert-success row\">\n",
    "    <div class=\"column\">\n",
    "        <p>\n",
    "            <span style=\"text-decoration: underline;\">\n",
    "                <span style=\"text-decoration: underline;\">\n",
    "                    <strong>Ventajas:</strong>\n",
    "                </span>\n",
    "            </span>\n",
    "        </p>\n",
    "        <li> Converge muy rápido</li>\n",
    "        <li>Proporciona buena precisión en los resultados.</li>\n",
    "    </div>\n",
    "    <div class =\"column\">\n",
    "        <p>\n",
    "            <span style=\"text-decoration: underline;\">\n",
    "                <span style=\"text-decoration: underline;\">\n",
    "                    <strong>Desventajas:</strong>\n",
    "                </span>\n",
    "            </span>\n",
    "        </p>\n",
    "        <li>Tiene como restricción el cálculo de la derivada de una función.</li>\n",
    "        <li>No existe un criterio general de Convergencia </li>\n",
    "    </div>\n",
    "</div>"
   ]
  },
  {
   "cell_type": "markdown",
   "metadata": {
    "kernel": "SoS"
   },
   "source": [
    "<h3><strong>d) Pasos del m&eacute;todo (Pseudoc&oacute;digo)</strong></h3>"
   ]
  },
  {
   "cell_type": "markdown",
   "metadata": {
    "kernel": "SoS"
   },
   "source": [
    "![](npseu.JPG)"
   ]
  },
  {
   "cell_type": "markdown",
   "metadata": {
    "kernel": "SoS"
   },
   "source": [
    "<h3><strong>e) C&oacute;digo en GNU Octave</strong></h3>"
   ]
  },
  {
   "cell_type": "code",
   "execution_count": 7,
   "metadata": {
    "kernel": "Octave",
    "scrolled": true
   },
   "outputs": [],
   "source": [
    "function [xn, err, iter, fx]= nr(f,x0,tol,maxIter)\n",
    "\n",
    "    %Esta función aproxima la solución de la ecuación f(x)=0, utilizando el método de Newton-Raphson\n",
    "    %Devuelve el valor de la raíz más aproximada según la tolerancia dada\n",
    "    %\n",
    "    %Sintaxis:  nr(f,x0,tol,maxIter)\n",
    "    % \n",
    "    %Parámetros Iniciales: \n",
    "    %            f = una  cadena de caracteres (string) que representa a la función f\n",
    "    %            x0 = Valor inicial dado\n",
    "    %            tol = un número positivo que representa a la tolerancia para el criterio |f(x_k)|<tol\n",
    "    %            iterMax = cantidad de iteraciones máximas\n",
    "    %            \n",
    "    %Parámetros de Salida:                           \n",
    "    %            x = aproximación del cero de la función f\n",
    "    %            k = número de iteraciones realizados\n",
    "    %            error =  |f(x)|\n",
    "\n",
    "  pkg load symbolic\n",
    "  f1 = matlabFunction(sym(f));  % Se obtiene la funcion\n",
    "  df = matlabFunction(diff(sym(f1)));  % Se calcula la derivada\n",
    "  xNext = x0;\n",
    "  figure\n",
    "  hold on\n",
    "  for iter=0:maxIter\n",
    "    xn = xNext;\n",
    "    dfx = df(xn);\n",
    "    if dfx == 0\n",
    "      disp(\"Error: Division by zero\");\n",
    "      return\n",
    "    endif\n",
    "    fx = f1(xn);\n",
    "    xNext = xn - fx/dfx;\n",
    "    err = abs(fx);\n",
    "    if err <= tol\n",
    "      break\n",
    "    endif\n",
    "    plot(iter, err, 'ro');\n",
    "    title(\"Newton-Raphson Method\");\n",
    "    xlabel(\"Iterations\")\n",
    "    ylabel(\"Error\")\n",
    "  endfor\n",
    "endfunction"
   ]
  },
  {
   "cell_type": "markdown",
   "metadata": {
    "kernel": "octave"
   },
   "source": [
    "<h3><strong>f) C&oacute;digo en Python</strong></h3>"
   ]
  },
  {
   "cell_type": "code",
   "execution_count": 10,
   "metadata": {
    "kernel": "Python 3"
   },
   "outputs": [],
   "source": [
    "def nr(f,x0,tol,maxIter):\n",
    "    \"\"\"\n",
    "    Esta función aproxima la solución de la ecuación f(x)=0, utilizando el método de Newton-Raphson\n",
    "    Devuelve el valor de la raíz más aproximada según la tolerancia dada\n",
    "    \n",
    "    Sintaxis:  nr(f,x0,tol,maxIter)\n",
    "    \n",
    "    Parámetros Iniciales: \n",
    "                f = una  cadena de caracteres (string) que representa a la función f\n",
    "                x0 = Valor inicial dado\n",
    "                tol = un número positivo que representa a la tolerancia para el criterio |f(x_k)|<tol\n",
    "                iterMax = cantidad de iteraciones máximas\n",
    "                \n",
    "    Parámetros de Salida: \n",
    "                [xn,float(err),iter], donde                \n",
    "                xn = aproximación del cero de la función f\n",
    "                iter = número de iteraciones realizados\n",
    "                err =  |f(x_k)|\n",
    "    \"\"\"\n",
    "    \n",
    "    \n",
    "    import sympy\n",
    "    import matplotlib.pyplot\n",
    "    x,y,z = sympy.symbols ('x y z')  #Define x,y,z como variables de una funcion\n",
    "    f1 = sympy.sympify(f) \n",
    "    df = f1.diff(x);\n",
    "    xNext = x0\n",
    "    k=[]\n",
    "    error=[]\n",
    "    iteracion=0\n",
    "    for iter in range(0, maxIter):\n",
    "        xn = xNext\n",
    "        dfx = float(sympy.sympify(df).subs(x,xn))\n",
    "        if (dfx == 0):\n",
    "          print(\"Error: Division by zero\")\n",
    "          return\n",
    "        fx = float(sympy.sympify(f1).subs(x,xn))\n",
    "        xNext = xn - fx/dfx;\n",
    "        err = abs(fx);\n",
    "        error.append(err)\n",
    "        k.append(iter)\n",
    "        iteracion=iter\n",
    "        if (err <= tol or err==0):\n",
    "            break\n",
    "        \n",
    "    matplotlib.pyplot.plot(k, error)\n",
    "    return [xn,float(err),iter]"
   ]
  },
  {
   "cell_type": "markdown",
   "metadata": {
    "kernel": "python3"
   },
   "source": [
    "<h3><strong>g) Ejemplo Num&eacute;rico</strong></h3>"
   ]
  },
  {
   "cell_type": "markdown",
   "metadata": {
    "kernel": "python3"
   },
   "source": [
    "Usando el método iterativo de Newton, determine una solución de la\n",
    "ecuación $e^{x}-1/x=0$, con una tolerancia de $10^{-4}$ y $x_0=1$. la aproximación de la solución de la ecuación es $0.56714329$"
   ]
  },
  {
   "cell_type": "code",
   "execution_count": 8,
   "metadata": {
    "kernel": "Octave"
   },
   "outputs": [
    {
     "name": "stdout",
     "output_type": "stream",
     "text": [
      "tolerancia =  0.00010000\n",
      "Symbolic pkg v2.8.0: Python communication link active, SymPy v1.4.\n",
      "xn =  0.56714\n",
      "err =  0.0000034595\n",
      "iter =  3\n"
     ]
    },
    {
     "data": {
      "image/png": "[encoded data removed]",
      "text/plain": [
       "<IPython.core.display.Image object>"
      ]
     },
     "metadata": {},
     "output_type": "display_data"
    }
   ],
   "source": [
    "% Solución del ejemplo utilizando GNU Octave\n",
    "x0=1;\n",
    "b=2;\n",
    "iterMax=50;\n",
    "tolerancia=1*(10**-4)\n",
    "[xn, err, iter]=nr('exp(x)-(1/x)',x0,tolerancia,iterMax)"
   ]
  },
  {
   "cell_type": "code",
   "execution_count": 11,
   "metadata": {
    "kernel": "Python 3"
   },
   "outputs": [
    {
     "data": {
      "text/plain": [
       "[0.5671425803617602, 3.4594823934419594e-06, 3]"
      ]
     },
     "execution_count": 11,
     "metadata": {},
     "output_type": "execute_result"
    },
    {
     "data": {
      "image/png": "[encoded data removed]",
      "text/plain": [
       "<Figure size 432x288 with 1 Axes>"
      ]
     },
     "metadata": {
      "needs_background": "light"
     },
     "output_type": "display_data"
    }
   ],
   "source": [
    "# Solución del ejemplo utilizando Python\n",
    "x0=1;\n",
    "b=2;\n",
    "iterMax=50;\n",
    "tolerancia=1*(10**-4)\n",
    "nr('exp(x)-(1/x)',x0,tolerancia,iterMax)\n"
   ]
  },
  {
   "cell_type": "markdown",
   "metadata": {
    "kernel": "SoS"
   },
   "source": [
    "# <a id='metodo2'></a>\n",
    "<h2><span style=\"color: #993300;\"><strong>M&eacute;todo 3: Método de la Secante </strong> </span></h2>"
   ]
  },
  {
   "cell_type": "markdown",
   "metadata": {
    "kernel": "SoS"
   },
   "source": [
    "<h3><strong>a) Formulaci&oacute;n Matem&aacute;tica</strong></h3>"
   ]
  },
  {
   "cell_type": "markdown",
   "metadata": {
    "kernel": "SoS"
   },
   "source": [
    "$    \n",
    "\\begin{equation}\n",
    "    x_{k+1} = x_{k}- \\left(\\frac{ x_{k}- x_{k-1}} {f(x_{k}) -f(x_{k-1}) } \\right)f(x_{k})\n",
    "\\end{equation}\n",
    "$\n",
    "\n",
    "para k= 1,2....., donde $x_{0}$ y $x_{1}$ son los valores iniciales y se asume que $f(x_{k})-f(x_{k}) \\neq 0$ para todo $k \\geq 1$\n"
   ]
  },
  {
   "cell_type": "markdown",
   "metadata": {
    "kernel": "Python 3"
   },
   "source": [
    "<h3><strong>b) Valores Iniciales</strong></h3>"
   ]
  },
  {
   "cell_type": "markdown",
   "metadata": {
    "kernel": "SoS"
   },
   "source": [
    "$x_{0}$ y $x_{1}$ "
   ]
  },
  {
   "cell_type": "markdown",
   "metadata": {
    "kernel": "SoS"
   },
   "source": [
    "<h3><strong>c) Ventajas y Desvantajas</strong></h3>"
   ]
  },
  {
   "cell_type": "markdown",
   "metadata": {
    "kernel": "SoS"
   },
   "source": [
    "<div class=\"alert alert-block alert-success row\">\n",
    "    <div class=\"column\">\n",
    "        <p>\n",
    "            <span style=\"text-decoration: underline;\">\n",
    "                <span style=\"text-decoration: underline;\">\n",
    "                    <strong>Ventajas:</strong>\n",
    "                </span>\n",
    "            </span>\n",
    "        </p>\n",
    "        <li>Se puede aplicar cuando la función f(x) es demasiado compleja como para obtener su derivada</li>\n",
    "        <li>Beneficioso en aspectos computacionales, donde los algoritmos de obteción de derivadas son númericos y no algebraicos.</li>\n",
    "    </div>\n",
    "    <div class =\"column\">\n",
    "        <p>\n",
    "            <span style=\"text-decoration: underline;\">\n",
    "                <span style=\"text-decoration: underline;\">\n",
    "                    <strong>Desventajas:</strong>\n",
    "                </span>\n",
    "            </span>\n",
    "        </p>\n",
    "        <li>Su velocidad de convergencia es emnor al de otros métodos como Newton-Raphson</li>\n",
    "        <li>Tiene el riesgo de que no converga y no se pueda hallar la raíz.</li>\n",
    "    </div>\n",
    "</div>"
   ]
  },
  {
   "cell_type": "markdown",
   "metadata": {
    "kernel": "SoS"
   },
   "source": [
    "<h3><strong>d) Pasos del m&eacute;todo (Pseudoc&oacute;digo)</strong></h3>"
   ]
  },
  {
   "cell_type": "markdown",
   "metadata": {
    "kernel": "SoS"
   },
   "source": [
    "![](spseud.JPG)"
   ]
  },
  {
   "cell_type": "markdown",
   "metadata": {
    "kernel": "SoS"
   },
   "source": [
    "<h3><strong>e) C&oacute;digo en GNU Octave</strong></h3>"
   ]
  },
  {
   "cell_type": "code",
   "execution_count": 8,
   "metadata": {
    "kernel": "Octave",
    "scrolled": true
   },
   "outputs": [],
   "source": [
    "function [xk, err, iter]= secanteO(f,x0,x1,tol,maxIter)\n",
    "\n",
    "    %Esta función aproxima la solución de la ecuación f(x)=0, utilizando el método de la Secante\n",
    "    %Devuelve el valor de la raíz más aproximada según la tolerancia dada\n",
    "    %\n",
    "    %Sintaxis:  secanteO(f,x0,x1,tol,maxIter)\n",
    "    % \n",
    "    %Parámetros Iniciales: \n",
    "    %            f = una  cadena de caracteres (string) que representa a la función f\n",
    "    %            x0 = Primer valor de la iteracion\n",
    "    %            x1 = Segundo  valor de la iteracion       \n",
    "    %            tol = un número positivo que representa a la tolerancia para el criterio |f(x_k)|<tol\n",
    "    %            iterMax = cantidad de iteraciones máximas\n",
    "    %            \n",
    "    %Parámetros de Salida:                           \n",
    "    %            xk = aproximación del cero de la función f\n",
    "    %            iter = número de iteraciones realizados\n",
    "    %            error =  |f(x)|\n",
    "\n",
    "\n",
    "  f1 = matlabFunction(sym(f));  % Se obtiene la funcion\n",
    "  k = 2;\n",
    "  figure\n",
    "  hold on\n",
    "  for iter=0:maxIter\n",
    "    xk = x1 - f1(x1) * ((x1 - x0)/(f1(x1) - f1(x0)));\n",
    "    err = abs(f1(xk));\n",
    "    if (err <= tol)\n",
    "      break;\n",
    "    endif\n",
    "    plot(iter, err, 'ro');\n",
    "    title(\"Secant Method\");\n",
    "    xlabel(\"Iterations\")\n",
    "    ylabel(\"Error\")\n",
    "  endfor\n",
    "endfunction"
   ]
  },
  {
   "cell_type": "markdown",
   "metadata": {
    "kernel": "octave"
   },
   "source": [
    "<h3><strong>f) C&oacute;digo en Python</strong></h3>"
   ]
  },
  {
   "cell_type": "code",
   "execution_count": 13,
   "metadata": {
    "kernel": "Python 3"
   },
   "outputs": [],
   "source": [
    "def secante(f,x0,x1,tol,iterMax):   \n",
    "    \"\"\"\n",
    "    Esta función aproxima la solución de la ecuación f(x)=0, utilizando el método de Newton-Raphson\n",
    "    Devuelve el valor de la raíz más aproximada según la tolerancia dada\n",
    "    \n",
    "    Sintaxis:  nr(f,x0,tol,maxIter)\n",
    "    \n",
    "    Parámetros Iniciales: \n",
    "                f = una  cadena de caracteres (string) que representa a la función f\n",
    "                x0 = Primer valor dado\n",
    "                x1 = Segundo valor dado\n",
    "                tol = un número positivo que representa a la tolerancia para el criterio |f(x_k)|<tol\n",
    "                iterMax = cantidad de iteraciones máximas\n",
    "                \n",
    "    Parámetros de Salida: \n",
    "                [xn,float(err),iter], donde                \n",
    "                xn = aproximación del cero de la función f\n",
    "                iter = número de iteraciones realizados\n",
    "                err =  |f(x_k)|\n",
    "    \"\"\"\n",
    "    from sympy import sympify\n",
    "    import matplotlib.pyplot\n",
    "    x,y,z = sympy.symbols ('x y z') #Define x,y,z como variables de una funcion\n",
    "    funcion = sympy.sympify(f) \n",
    "    k = 2\n",
    "    error = []\n",
    "    iteraciones=[]\n",
    "    xk=0\n",
    "    for _iter in range(1, iterMax):\n",
    "        xk = float(x1 - (funcion.subs({\"x\": x1}) * (x1 - x0)) /\n",
    "                   (funcion.subs({\"x\": x1}) - funcion.subs({\"x\": x0})))\n",
    "        err = abs(float(funcion.subs({\"x\": xk})))\n",
    "        iteraciones.append(k)\n",
    "        error.append(err)\n",
    "        if (err <= tol):\n",
    "            break \n",
    "        k=k+1\n",
    "\n",
    "        x0=x1\n",
    "        x1=xk\n",
    "    matplotlib.pyplot.plot(iteraciones, error)\n",
    "    return [xk,k,err]"
   ]
  },
  {
   "cell_type": "markdown",
   "metadata": {
    "kernel": "python3"
   },
   "source": [
    "<h3><strong>g) Ejemplo Num&eacute;rico</strong></h3>"
   ]
  },
  {
   "cell_type": "markdown",
   "metadata": {
    "kernel": "python3"
   },
   "source": [
    "Considere la ecuación $e^{-x^{2}}=0$, y utilice el m\u0013etodo de la secante para aproximar una solución de esta ecuación con una tolerancia de $ tol = 10^{-2}$ y valores iniciales de $x0=0$ y $x1=1$. Con dicha tolerancia su aproximación es $0.652917...$"
   ]
  },
  {
   "cell_type": "code",
   "execution_count": 80,
   "metadata": {
    "kernel": "Octave"
   },
   "outputs": [
    {
     "name": "stdout",
     "output_type": "stream",
     "text": [
      "tolerancia =  0.010000\n",
      "xn =  0.61270\n",
      "err =  0.074314\n",
      "iter =  50\n"
     ]
    },
    {
     "data": {
      "image/png": "[encoded data removed]",
      "text/plain": [
       "<IPython.core.display.Image object>"
      ]
     },
     "metadata": {},
     "output_type": "display_data"
    }
   ],
   "source": [
    "% Solución del ejemplo utilizando GNU Octave\n",
    "x0=0;\n",
    "x1=1;\n",
    "iterMax=50;\n",
    "tolerancia=1*(10**-2)\n",
    "[xn, err, iter]=secanteO('exp(-x**2)-x',x0,x1,tolerancia,iterMax)"
   ]
  },
  {
   "cell_type": "code",
   "execution_count": 69,
   "metadata": {
    "kernel": "Python 3"
   },
   "outputs": [
    {
     "name": "stdout",
     "output_type": "stream",
     "text": [
      "0.6126998367802821\n",
      "0.6534421332877829\n"
     ]
    },
    {
     "data": {
      "text/plain": [
       "[0.6534421332877829, 3, 0.0009698520541936428]"
      ]
     },
     "execution_count": 69,
     "metadata": {},
     "output_type": "execute_result"
    },
    {
     "data": {
      "image/png": "[encoded data removed]",
      "text/plain": [
       "<Figure size 432x288 with 1 Axes>"
      ]
     },
     "metadata": {
      "needs_background": "light"
     },
     "output_type": "display_data"
    }
   ],
   "source": [
    "#Solucion en Python\n",
    "x0=0;\n",
    "x1=1;\n",
    "iterMax=50;\n",
    "tolerancia=1*(10**-2)\n",
    "iterMax=50\n",
    "secante('exp(-x**2)-x',x0,x1,tolerancia,iterMax)"
   ]
  },
  {
   "cell_type": "markdown",
   "metadata": {
    "kernel": "SoS"
   },
   "source": [
    "# <a id='metodo2'></a>\n",
    "<h2><span style=\"color: #993300;\"><strong>M&eacute;todo 4: Método de la Falsa Posicion </strong> </span></h2>"
   ]
  },
  {
   "cell_type": "markdown",
   "metadata": {
    "kernel": "SoS"
   },
   "source": [
    "<h3><strong>a) Formulaci&oacute;n Matem&aacute;tica</strong></h3>"
   ]
  },
  {
   "cell_type": "markdown",
   "metadata": {
    "kernel": "SoS"
   },
   "source": [
    "Sea $x_0 = a$ y $x_1 = b$  verificar que $f(x_0)*f(x_1) < 0$ y calcular $x_2$ utilizando:\n",
    "$ \n",
    "    \\begin{equation}\n",
    "        x_{k+1} = x_{k}- \\left(\\frac{ x_{k}- x_{k-1}} {f(x_{k}) -f(x_{k-1}) } \\right)f(x_{k})\n",
    "    \\end{equation}\n",
    "    \n",
    "$ \n",
    "$para k= 1,2....., donde $x_{0}$ y $x_{1}$ son los valores iniciales y se asume que $f(x_{k})-f(x_{k}) \\neq 0$ para todo $k \\geq 1$\n",
    "   \n",
    "\n",
    "Posteriormente, se escoge el intervalo que garantice la existencia de un cero, como :\n",
    "\n",
    "\\begin{equation}\n",
    "I_{k+1} = \\left[a_{k+1},b_{k+1}\\right] = \\left\\{ \\begin{array}{lcc}\n",
    "            \\left[a_{k},x_{k}\\right] &   si  & f(a_{k})f(x_{k}) < 0 \\\\\n",
    "             \\left[x_{k},b_{k}\\right] &   si  & f(a_{k})f(x_{k}) > 0\n",
    "             \\end{array}\n",
    "   \\right.\n",
    "\\end{equation}\n"
   ]
  },
  {
   "cell_type": "markdown",
   "metadata": {
    "kernel": "Python 3"
   },
   "source": [
    "<h3><strong>b) Valores Iniciales</strong></h3>"
   ]
  },
  {
   "cell_type": "markdown",
   "metadata": {
    "kernel": "SoS"
   },
   "source": [
    "$x_{0}$ y $x_{1}$ "
   ]
  },
  {
   "cell_type": "markdown",
   "metadata": {
    "kernel": "SoS"
   },
   "source": [
    "<h3><strong>c) Ventajas y Desventajas</strong></h3>"
   ]
  },
  {
   "cell_type": "markdown",
   "metadata": {
    "kernel": "SoS"
   },
   "source": [
    "<div class=\"alert alert-block alert-success row\">\n",
    "    <div class=\"column\">\n",
    "        <p>\n",
    "            <span style=\"text-decoration: underline;\">\n",
    "                <span style=\"text-decoration: underline;\">\n",
    "                    <strong>Ventajas:</strong>\n",
    "                </span>\n",
    "            </span>\n",
    "        </p>\n",
    "        <li>Es una mezcla de la seguridad del método de bisección con la rapidez del método de la secante, que mide los puntos con una recta que intersecta en el eje x, la cual proporciona una mejor aproximación a la raíz</li>\n",
    "    </div>\n",
    "    <div class =\"column\">\n",
    "        <p>\n",
    "            <span style=\"text-decoration: underline;\">\n",
    "                <span style=\"text-decoration: underline;\">\n",
    "                    <strong>Desventajas:</strong>\n",
    "                </span>\n",
    "            </span>\n",
    "        </p>\n",
    "        <li>Converge lentamente a la solución, debido al efectuar las iteraciones uno de los extremos del intervalo no se modifica.</li>\n",
    "    </div>\n",
    "</div>"
   ]
  },
  {
   "cell_type": "markdown",
   "metadata": {
    "kernel": "SoS"
   },
   "source": [
    "<h3><strong>d) Pasos del m&eacute;todo (Pseudoc&oacute;digo)</strong></h3>"
   ]
  },
  {
   "cell_type": "markdown",
   "metadata": {
    "kernel": "SoS"
   },
   "source": [
    "![](falsa.JPG)"
   ]
  },
  {
   "cell_type": "markdown",
   "metadata": {
    "kernel": "SoS"
   },
   "source": [
    "<h3><strong>e) C&oacute;digo en GNU Octave</strong></h3>"
   ]
  },
  {
   "cell_type": "code",
   "execution_count": 10,
   "metadata": {
    "kernel": "Octave",
    "scrolled": true
   },
   "outputs": [],
   "source": [
    "function [xn, err, iter, fx]=falsePosition(funcion,an,bn,tol,maxIter)\n",
    "    f=inline(funcion);\n",
    "    fa=f(an);\n",
    "    fb=f(bn);\n",
    "    xLast=an;\n",
    "    xn=bn;\n",
    "    xNext=0;\n",
    "    fx=0;\n",
    "    k=1;\n",
    "    if (fa*fb > 0)\n",
    "        return\n",
    "    endif\n",
    "    figure\n",
    "    hold on\n",
    "    for iter=1:maxIter\n",
    "      div=f(xn)-f(xLast);\n",
    "      if div == 0;\n",
    "        disp(\"Error: Division by zero\");\n",
    "        return\n",
    "      endif\n",
    "      fx = f(xn);\n",
    "      xNext = xn - (fx*(xn - xLast))/div;\n",
    "      err = abs(xNext - xn) / abs(xNext);\n",
    "      if fx == 0\n",
    "        a = xn;\n",
    "        b = xn;\n",
    "      elseif fb * fx < 0\n",
    "        an = xn;\n",
    "        fa = fx;\n",
    "      else\n",
    "        bn = xn;\n",
    "        fb = fx;\n",
    "      endif\n",
    "      if err <= tol\n",
    "      plot(iter, err, 'ro');\n",
    "        return\n",
    "      endif\n",
    "      xLast = xn;\n",
    "      xn = xNext;\n",
    "      plot(iter, err, 'ro');\n",
    "    endfor\n",
    "endfunction"
   ]
  },
  {
   "cell_type": "markdown",
   "metadata": {
    "kernel": "octave"
   },
   "source": [
    "<h3><strong>f) C&oacute;digo en Python</strong></h3>"
   ]
  },
  {
   "cell_type": "code",
   "execution_count": 12,
   "metadata": {
    "kernel": "Python 3"
   },
   "outputs": [],
   "source": [
    "from sympy import sympify as sy\n",
    "from sympy import symbols as symb\n",
    "import matplotlib.pyplot\n",
    "def falsePosition(funcion,an,bn,tol,maxIter):\n",
    "    \"\"\"Resuelve una ecuación no lineal mediante el método de la Falsa Posicion.\n",
    "    Devuelve el valor de la raíz más aproximada según la tolerancia dada\n",
    "    unos valores iniciales x0,x1\n",
    "    Parámetros:\n",
    "    funcion -- Funcion dependiente de X, a cálcular su raíz\n",
    "    x0      -- Primer valor inicial\n",
    "    x1      -- Segundo valor inicial\n",
    "    tol     -- Tolerancia miníma aceptada para encontrar la raíz\n",
    "   \n",
    "    \"\"\"     \n",
    "    \n",
    "    x,y,z = symb('x y z') #Define x,y,z como variables de una funcion\n",
    "    f = sy(funcion) \n",
    "\n",
    "    fa=f.subs({\"x\": an})\n",
    "    fb=f.subs({\"x\": bn})\n",
    "    xLast=an\n",
    "    xn=bn\n",
    "    xNext=0\n",
    "    fx=0\n",
    "    error = []\n",
    "    iteraciones=[]\n",
    "    if (fa*fb > 0):\n",
    "        return\n",
    "    \n",
    "    for iter in range(1, maxIter):\n",
    "        \n",
    "      div=f.subs({\"x\": xn})-f.subs({\"x\": xLast})\n",
    "      \n",
    "      if (div == 0):\n",
    "        print(\"Error: Division by zero\")\n",
    "        return\n",
    "    \n",
    "      fx = f.subs({\"x\": xn})\n",
    "      xNext = xn - (fx*(xn - xLast))/div\n",
    "      err = abs(xNext - xn) / abs(xNext)\n",
    "      if (fx == 0):\n",
    "        a = xn\n",
    "        b = xn\n",
    "      elif (fb * fx < 0):\n",
    "        an = xn\n",
    "        fa = fx\n",
    "      else:\n",
    "        bn = xn\n",
    "        fb = fx\n",
    "      if (err <= tol):\n",
    "          matplotlib.pyplot.plot(iteraciones, error)\n",
    "          return [float(xn),iter,float(err)]\n",
    "      xLast = xn\n",
    "      xn = xNext\n",
    "      error.append(err)\n",
    "      iteraciones.append(iter)\n"
   ]
  },
  {
   "cell_type": "markdown",
   "metadata": {
    "kernel": "python3"
   },
   "source": [
    "<h3><strong>g) Ejemplo Num&eacute;rico</strong></h3>"
   ]
  },
  {
   "cell_type": "markdown",
   "metadata": {
    "kernel": "python3"
   },
   "source": [
    "Considere la ecuación $cos(x)=x$, y utilice el método de la falasa posicion para aproximar una solución con una tolerancia de $ tol = 10^{-3}$ en el intervalo $[\\frac{1}{2},\\frac{\\pi}{4}]$"
   ]
  },
  {
   "cell_type": "code",
   "execution_count": 11,
   "metadata": {
    "kernel": "Octave"
   },
   "outputs": [
    {
     "name": "stdout",
     "output_type": "stream",
     "text": [
      "tol =  0.0010000\n",
      "xn =  0.73902\n",
      "err =  0.000085022\n",
      "iter =  3\n"
     ]
    },
    {
     "data": {
      "image/png": "[encoded data removed]",
      "text/plain": [
       "<IPython.core.display.Image object>"
      ]
     },
     "metadata": {},
     "output_type": "display_data"
    }
   ],
   "source": [
    "% Solución del ejemplo utilizando GNU Octave\n",
    "an=1/4;\n",
    "bn=pi/4;\n",
    "maxIter=200;\n",
    "tol=1*(10**-3)\n",
    "[xn, err, iter]=falsePosition('cos(x)-x',an,bn,tol,maxIter)"
   ]
  },
  {
   "cell_type": "code",
   "execution_count": 14,
   "metadata": {
    "kernel": "Python 3"
   },
   "outputs": [
    {
     "data": {
      "text/plain": [
       "[0.7390223815642151, 3, 8.502236811792242e-05]"
      ]
     },
     "execution_count": 14,
     "metadata": {},
     "output_type": "execute_result"
    },
    {
     "data": {
      "image/png": "[encoded data removed]",
      "text/plain": [
       "<Figure size 432x288 with 1 Axes>"
      ]
     },
     "metadata": {
      "needs_background": "light"
     },
     "output_type": "display_data"
    }
   ],
   "source": [
    "#Solucion en Python\n",
    "from sympy import *\n",
    "an=1/4;\n",
    "bn=pi/4;\n",
    "maxIter=200;\n",
    "tol=1*(10**-3)\n",
    "falsePosition('cos(x)-x',an,bn,tol,maxIter)"
   ]
  },
  {
   "cell_type": "markdown",
   "metadata": {
    "kernel": "SoS"
   },
   "source": [
    "# <a id='metodo2'></a>\n",
    "<h2><span style=\"color: #993300;\"><strong>M&eacute;todo 5 Método del Punto Fijo </strong> </span></h2>"
   ]
  },
  {
   "cell_type": "markdown",
   "metadata": {
    "kernel": "SoS"
   },
   "source": [
    "<h3><strong>a) Formulaci&oacute;n Matem&aacute;tica</strong></h3>"
   ]
  },
  {
   "cell_type": "markdown",
   "metadata": {
    "kernel": "SoS"
   },
   "source": [
    "$    \n",
    "    \\begin{equation}\n",
    "        x - \\phi(x) = 0\n",
    "    \\end{equation}\n",
    "$\n"
   ]
  },
  {
   "cell_type": "markdown",
   "metadata": {
    "kernel": "Python 3"
   },
   "source": [
    "<h3><strong>b) Valores Iniciales</strong></h3>"
   ]
  },
  {
   "cell_type": "markdown",
   "metadata": {
    "kernel": "SoS"
   },
   "source": [
    "a y b, los cuales representan el intervalo inicial $\\left[ a,b\\right]$"
   ]
  },
  {
   "cell_type": "markdown",
   "metadata": {
    "kernel": "SoS"
   },
   "source": [
    "<h3><strong>c) Ventajas y Desventajas</strong></h3>"
   ]
  },
  {
   "cell_type": "markdown",
   "metadata": {
    "kernel": "SoS"
   },
   "source": [
    "<div class=\"alert alert-block alert-success row\">\n",
    "    <div class=\"column\">\n",
    "        <p>\n",
    "            <span style=\"text-decoration: underline;\">\n",
    "                <span style=\"text-decoration: underline;\">\n",
    "                    <strong>Ventajas:</strong>\n",
    "                </span>\n",
    "            </span>\n",
    "        </p>\n",
    "        <li> Posee condiciones para asegurar la convergencia.</li>\n",
    "        <li> Facil convergencia</li>\n",
    "    </div>\n",
    "    <div class =\"column\">\n",
    "        <p>\n",
    "            <span style=\"text-decoration: underline;\">\n",
    "                <span style=\"text-decoration: underline;\">\n",
    "                    <strong>Desventajas:</strong>\n",
    "                </span>\n",
    "            </span>\n",
    "        </p>\n",
    "        <li>La convergencia depende de la magnitud de $f^{\\prime}(x)$</li>\n",
    "        <li>Necesidad de construir funciones $f(x)$ para iterar</li>     \n",
    "        <li>Pueden existir diversas $f(x)$, por lo que hay que encontrar la adecuada.</li>\n",
    "    </div>\n",
    "</div>"
   ]
  },
  {
   "cell_type": "markdown",
   "metadata": {
    "kernel": "SoS"
   },
   "source": [
    "<h3><strong>d) Pasos del m&eacute;todo (Pseudoc&oacute;digo)</strong></h3>"
   ]
  },
  {
   "cell_type": "markdown",
   "metadata": {
    "kernel": "SoS"
   },
   "source": [
    "![](pfpsud.JPG)"
   ]
  },
  {
   "cell_type": "markdown",
   "metadata": {
    "kernel": "SoS"
   },
   "source": [
    "<h3><strong>e) C&oacute;digo en GNU Octave</strong></h3>"
   ]
  },
  {
   "cell_type": "code",
   "execution_count": 17,
   "metadata": {
    "kernel": "Octave",
    "scrolled": true
   },
   "outputs": [],
   "source": [
    "#{\n",
    "    Resuelve una ecuación no lineal mediante el método del Punto Fijo.\n",
    "\n",
    "    Devuelve el valor de la raíz más aproximada según la tolerancia dada\n",
    "    y el valor inicial especificado\n",
    "\n",
    "    Parámetros:\n",
    "    funcion -- Funcion dependiente de X, a cálcular su raíz\n",
    "    funciong -- Es el parametro funcion, despejada\n",
    "    x0      -- Valor inical dado a resolver\n",
    "    tol     -- Tolerancia miníma aceptada para encontrar la raíz\n",
    "   \n",
    "    Probado con: puntoFijo(\"(sin(x)-x)\",\"(sin(x))\",2,0.001)\n",
    "#}\n",
    "\n",
    "function [x, err, iter] = puntoFijo(f,g,x0,tol,maxIter)\n",
    "  aprox = 0;\n",
    "  func = inline(f);\n",
    "  gfunc = inline(g);\n",
    "  pkg load symbolic;\n",
    "  syms x;\n",
    "  dg = diff(g, x);\n",
    "  x = x0;\n",
    "  if(abs(eval(dg))<1)\n",
    "    figure\n",
    "    hold on\n",
    "    for iter=1:maxIter\n",
    "      x = gfunc(x);\n",
    "      err = abs(func(x));\n",
    "      if err <= tol\n",
    "        plot(iter, err, 'ro');\n",
    "        return\n",
    "      endif\n",
    "      plot(iter, err, 'ro');\n",
    "    endfor\n",
    "  else\n",
    "    display('\"El metodo no converge con la funcion g(x) dada\"');\n",
    "  endif\n",
    "endfunction\n",
    "      "
   ]
  },
  {
   "cell_type": "markdown",
   "metadata": {
    "kernel": "octave"
   },
   "source": [
    "<h3><strong>f) C&oacute;digo en Python</strong></h3>"
   ]
  },
  {
   "cell_type": "code",
   "execution_count": 16,
   "metadata": {
    "kernel": "Python 3"
   },
   "outputs": [],
   "source": [
    "\n",
    "from sympy import sympify as sy\n",
    "from sympy import symbols as symb\n",
    "import matplotlib.pyplot\n",
    "        \n",
    "def puntoFijo(funcion,funciong,x0,tol,maxIter):\n",
    "    \"\"\"Resuelve una ecuación no lineal mediante el método del Punto Fijo.\n",
    "    Devuelve el valor de la raíz más aproximada según la tolerancia dada\n",
    "    y el valor inicial especificado\n",
    "    Parámetros:\n",
    "    funcion -- Funcion dependiente de X, a cálcular su raíz\n",
    "    funciong -- Es el parametro funcion, despejada\n",
    "    x0      -- Valor inical dado a resolver\n",
    "    tol     -- Tolerancia miníma aceptada para encontrar la raíz\n",
    "   \n",
    "    Probado con: puntofijo(\"(sin(x)-x)\",\"(sin(x))\",2,0.001)\n",
    "    \"\"\"  \n",
    "    x,y,z = symb('x y z') #Define x,y,z como variables de una funcion\n",
    "    func = sy(funcion) \n",
    "    gfunc = sy(funciong)\n",
    "    x = x0;\n",
    "    error = []\n",
    "    iteraciones=[]\n",
    "    for  iter in range(1, maxIter):\n",
    "        x = gfunc.subs({\"x\": x});\n",
    "        err = abs(func.subs({\"x\": x}));\n",
    "        if (err <= tol):\n",
    "            matplotlib.pyplot.plot(iteraciones, error)\n",
    "            return [float(x),iter,float(err)]\n",
    "        error.append(err)\n",
    "        iteraciones.append(iter)"
   ]
  },
  {
   "cell_type": "markdown",
   "metadata": {
    "kernel": "python3"
   },
   "source": [
    "<h3><strong>g) Ejemplo Num&eacute;rico</strong></h3>"
   ]
  },
  {
   "cell_type": "markdown",
   "metadata": {
    "kernel": "python3"
   },
   "source": [
    "Considere la ecuación $x=sen(x)$, y determine $x_5, donde (x_k) es la iteración de punto fijo y el valor inicial corresponde a $x_0=2$"
   ]
  },
  {
   "cell_type": "code",
   "execution_count": 21,
   "metadata": {
    "kernel": "Octave"
   },
   "outputs": [
    {
     "name": "stdout",
     "output_type": "stream",
     "text": [
      "tol =  0.010000\n",
      "xn =  0.60646\n",
      "err =  0.036498\n",
      "iter =  5\n"
     ]
    },
    {
     "data": {
      "image/png": "[encoded data removed]",
      "text/plain": [
       "<IPython.core.display.Image object>"
      ]
     },
     "metadata": {},
     "output_type": "display_data"
    }
   ],
   "source": [
    "% Solución del ejemplo utilizando GNU Octave\n",
    "x0=2;\n",
    "x1=1;\n",
    "maxIter=5;\n",
    "tol=1*(10**-2)\n",
    "[xn, err, iter]=puntoFijo(\"(sin(x)-x)\",\"(sin(x))\",x0,tol,maxIter)"
   ]
  },
  {
   "cell_type": "code",
   "execution_count": 20,
   "metadata": {
    "kernel": "Python 3",
    "scrolled": true
   },
   "outputs": [],
   "source": [
    "# Solución del ejemplo utilizando GNU Octave\n",
    "x0=2;\n",
    "x1=1;\n",
    "maxIter=5;\n",
    "tol=1*(10**-2)\n",
    "puntoFijo(\"(sin(x)-x)\",\"(sin(x))\",x0,tol,maxIter)"
   ]
  },
  {
   "cell_type": "markdown",
   "metadata": {
    "kernel": "SoS"
   },
   "source": [
    "# <a id='metodo2'></a>\n",
    "<h2><span style=\"color: #993300;\"><strong>M&eacute;todo 6: Método de Muller</strong> </span></h2>"
   ]
  },
  {
   "cell_type": "markdown",
   "metadata": {
    "kernel": "SoS"
   },
   "source": [
    "<h3><strong>a) Formulaci&oacute;n Matem&aacute;tica</strong></h3>"
   ]
  },
  {
   "cell_type": "markdown",
   "metadata": {
    "kernel": "SoS"
   },
   "source": [
    "  \n",
    "Sea $\\varphi$ una funcion real, definida y continua sobre un intervalo $\\left[ a,b\\right]$ de $\\mathbb{R}$ y $\\varphi(x) \\in \\left[ a,b\\right]$. Entonces existe $\\xi \\in \\left[ a,b\\right]$, tal que $\\xi= \\varphi(\\xi). $\n",
    "\n",
    "\n"
   ]
  },
  {
   "cell_type": "markdown",
   "metadata": {
    "kernel": "Python 3"
   },
   "source": [
    "<h3><strong>b) Valores Iniciales</strong></h3>"
   ]
  },
  {
   "cell_type": "markdown",
   "metadata": {
    "kernel": "SoS"
   },
   "source": [
    " $x_0$, $x_1$, $x_2$ valores iniciales"
   ]
  },
  {
   "cell_type": "markdown",
   "metadata": {
    "kernel": "SoS"
   },
   "source": [
    "<h3><strong>c) Ventajas y Desventajas</strong></h3>"
   ]
  },
  {
   "cell_type": "markdown",
   "metadata": {
    "kernel": "SoS"
   },
   "source": [
    "<div class=\"alert alert-block alert-success row\">\n",
    "    <div class=\"column\">\n",
    "        <p>\n",
    "            <span style=\"text-decoration: underline;\">\n",
    "                <span style=\"text-decoration: underline;\">\n",
    "                    <strong>Ventajas:</strong>\n",
    "                </span>\n",
    "            </span>\n",
    "        </p>\n",
    "        <li>Convergencia rápida</li>\n",
    "        <li>Se encuentran raíces tanto reales como complejas.</li>\n",
    "    </div>\n",
    "    <div class =\"column\">\n",
    "        <p>\n",
    "            <span style=\"text-decoration: underline;\">\n",
    "                <span style=\"text-decoration: underline;\">\n",
    "                    <strong>Desventajas:</strong>\n",
    "                </span>\n",
    "            </span>\n",
    "        </p>\n",
    "        <li>Al usar la fórmula cuadrática, es capaz de hallar raíces complejas</li>\n",
    "        <li>La principal desventaja es que en cada iteración se descarta una posible raíz de la parábola sin conocer la naturaleza de la misma..</li>\n",
    "    </div>\n",
    "</div>"
   ]
  },
  {
   "cell_type": "markdown",
   "metadata": {
    "kernel": "SoS"
   },
   "source": [
    "<h3><strong>d) Pasos del m&eacute;todo (Pseudoc&oacute;digo)</strong></h3>"
   ]
  },
  {
   "cell_type": "markdown",
   "metadata": {
    "kernel": "SoS"
   },
   "source": [
    "  <p>\n",
    "        <li> Encontrar las funciones cuadraticas que pasan por los puntos: $(x0; f(x0))$; $(x1; f(x1))$ y $(x2; f(x2))$.</li>\n",
    "        <li>Encontrar el valor de r mediante la formula cuadratica racionalizada.</li>\n",
    "        <li>Inmediatamente se evalua, si r es la solucion de la ecuacion o esta muy cerca de x2 el metodo se detiene; en caso opuesto se continua</li>\n",
    "    <li> Se encuentran los nuevos valores para x0; x1 y x2, asignandoles los valores de r y los dos mas cercanos a r entre los x0; x1 y x2 anteriores</li>\n",
    "    </p>\n"
   ]
  },
  {
   "cell_type": "markdown",
   "metadata": {
    "kernel": "SoS"
   },
   "source": [
    "<h3><strong>e) C&oacute;digo en GNU Octave</strong></h3>"
   ]
  },
  {
   "cell_type": "code",
   "execution_count": 1,
   "metadata": {
    "kernel": "Octave",
    "scrolled": true
   },
   "outputs": [],
   "source": [
    "function [x2, err, iter, fx] = muller(f, x0, x1, x2, tol, maxIter)\n",
    "  % Muller Method\n",
    "\t% Inputs:\n",
    "\t%   - f is a polinomial expression introduced as a symbolic expression\n",
    "\t%   - x0 is an initial value\n",
    "  %   - x1 is an initial value\n",
    "  %   - x2 is an initial value\n",
    "\t%   - tol is the tolerance\n",
    "\t% \t- maxIter is the maximum amount of iterations\n",
    "\t% Outputs:\n",
    "\t%   - x2 is the solution\n",
    "\t%   - err is the error\n",
    "\t%   - iter is the amount of completed iterations\n",
    "\t%   - fx is f(x)\n",
    "  % Errors:\n",
    "  %   - Division by zero\n",
    "  %   - No real solution: no real solution found for ax**2+bx+c\n",
    "  f = inline(f);\n",
    "  figure\n",
    "  hold on\n",
    "  for iter=1:maxIter\n",
    "    div = (x0 - x1)*(x0 - x2)*(x1 - x2);\n",
    "    if div == 0\n",
    "      disp(\"Error: Division by zero\");\n",
    "      return\n",
    "    endif\n",
    "    a = ((x0 - x2)*(f(x1)-f(x2))-(x1-x2)*(f(x0)-f(x2)))/div;\n",
    "    b = ((x0 - x2)^2*(f(x1)-f(x2))-(x1-x2)^2*(f(x0)-f(x2)))/div;\n",
    "    c = f(x2);\n",
    "    disc = b^2 - 4*a*c;\n",
    "    if disc < 0\n",
    "      disp(\"Error: No real solution\");\n",
    "      return\n",
    "    endif\n",
    "    div = b + sign(b)*sqrt(disc);\n",
    "    xn = x2 - 2*c/div;\n",
    "    fx = f(xn);\n",
    "    err = abs(xn - x2)/abs(xn);\n",
    "    if err <= tol\n",
    "      plot(iter, err, 'ro');\n",
    "      return\n",
    "    endif\n",
    "    x0Dist = abs(xn - x0);\n",
    "    x1Dist = abs(xn - x1);\n",
    "    x2Dist = abs(xn - x2);\n",
    "    if x0Dist > x2Dist && x0Dist > x1Dist\n",
    "      x0 = x2;\n",
    "    elseif x1Dist > x2Dist && x1Dist > x0Dist\n",
    "      x1 = x2;\n",
    "    endif\n",
    "    plot(iter, err, 'ro');\n",
    "    x2 = xn;\n",
    "  endfor\n",
    "endfunction"
   ]
  },
  {
   "cell_type": "markdown",
   "metadata": {
    "kernel": "octave"
   },
   "source": [
    "<h3><strong>f) C&oacute;digo en Python</strong></h3>"
   ]
  },
  {
   "cell_type": "code",
   "execution_count": 25,
   "metadata": {
    "kernel": "Python 3",
    "scrolled": true
   },
   "outputs": [],
   "source": [
    "from sympy import sympify as sy\n",
    "from sympy import symbols as symb\n",
    "import matplotlib.pyplot\n",
    "import math\n",
    "\n",
    "def muller(funcion, x0, x1, x2, tol, maxIter):\n",
    "    \"\"\"Resuelve una ecuación no lineal mediante el método de la Falsa Posicion.\n",
    "    Devuelve el valor de la raíz más aproximada según la tolerancia dada\n",
    "    unos valores iniciales x0,x1\n",
    "    Parámetros:\n",
    "    funcion -- Funcion dependiente de X, a cálcular su raíz\n",
    "    x0      -- Primer valor inicial\n",
    "    x1      -- Segundo valor inicial\n",
    "    tol     -- Tolerancia miníma aceptada para encontrar la raíz\n",
    "   \n",
    "    \"\"\"     \n",
    "    x,y,z = symb('x y z') #Define x,y,z como variables de una funcion\n",
    "    f = sy(funcion) \n",
    "    error = []\n",
    "    iteraciones=[]\n",
    "\n",
    "    for iter in range(0, maxIter):\n",
    "        div = float((x0-x2)*(x1-x2)*(x0-x1))\n",
    "        if (div == 0):\n",
    "          print(x2)\n",
    "          print(\"Error: Division by zero\")\n",
    "          return\n",
    "        a = float((x1-x2)*(f.subs({\"x\": x0})-f.subs({\"x\": x2}))-(x0-x2)*(f.subs({\"x\": x1})-f.subs({\"x\": x2})))/div\n",
    "        b = float(pow((x0-x2),2)*(f.subs({\"x\": x1})-f.subs({\"x\": x2}))-pow((x1-x2),2)*(f.subs({\"x\": x0})-f.subs({\"x\": x2})))/div\n",
    "    \n",
    "        c = float(f.subs({\"x\": x2}))\n",
    "        print(\"a: \"+str(a))\n",
    "        print(\"b: \"+str(b))\n",
    "        print(\"c: \"+str(c))\n",
    "        disc = float(pow(b,2)-(4*a*c))\n",
    "        if (disc < 0):\n",
    "            print(\"Error: No real solution\")\n",
    "            return\n",
    "        div = b + b*(math.sqrt(abs(disc)))\n",
    "        xn = x2 - ((2*c)/div)\n",
    "        err = abs(f.subs({\"x\": xn}))\n",
    "        if (err <= tol):\n",
    "            error.append(err)\n",
    "            iteraciones.append(iter)\n",
    "            matplotlib.pyplot.plot(iteraciones, error)\n",
    "            return [float(xn),iter,float(err)]\n",
    "        x0Dist = abs(xn - x0)\n",
    "        x1Dist = abs(xn - x1)\n",
    "        x2Dist = abs(xn - x2)\n",
    "\n",
    "        if (x0Dist > x2Dist and x0Dist > x1Dist):\n",
    "            x0 = (x2)\n",
    "        elif (x1Dist > x2Dist and x1Dist > x0Dist):\n",
    "            x1 = (x2)\n",
    "        error.append(err)\n",
    "        iteraciones.append(iter)\n",
    "        x2 = xn\n",
    "         "
   ]
  },
  {
   "cell_type": "markdown",
   "metadata": {
    "kernel": "python3"
   },
   "source": [
    "<h3><strong>g) Ejemplo Num&eacute;rico</strong></h3>"
   ]
  },
  {
   "cell_type": "markdown",
   "metadata": {
    "kernel": "python3"
   },
   "source": [
    "Considere la función $f(x)=sin(x) - \\frac{x}{2}$, y ulizando el método de muller con $x_0=2$, $x_1=2.2$, $x_2=1.8$,  realice dos iteraciones para calcular una aproximación de un cero de dicha f."
   ]
  },
  {
   "cell_type": "code",
   "execution_count": 24,
   "metadata": {
    "kernel": "Octave",
    "scrolled": true
   },
   "outputs": [
    {
     "name": "stdout",
     "output_type": "stream",
     "text": [
      "tol =  0.010000\n",
      "xn =  1.9081\n",
      "err =  0.0065602\n",
      "iter =  2\n"
     ]
    },
    {
     "data": {
      "image/png": "[encoded data removed]",
      "text/plain": [
       "<IPython.core.display.Image object>"
      ]
     },
     "metadata": {},
     "output_type": "display_data"
    }
   ],
   "source": [
    "% Solución del ejemplo utilizando GNU Octave\n",
    "x0=2;\n",
    "x1=2.2;\n",
    "x2=1.8;\n",
    "iterMax=50;\n",
    "tol=1*(10**-2)\n",
    "\n",
    "[xn, err, iter]=muller('sin(x)-x/2', x0, x1, x2, tol, iterMax)"
   ]
  },
  {
   "cell_type": "code",
   "execution_count": 26,
   "metadata": {
    "kernel": "Python 3",
    "scrolled": true
   },
   "outputs": [
    {
     "name": "stdout",
     "output_type": "stream",
     "text": [
      "a: -0.4531352369197222\n",
      "b: -0.7321239728786233\n",
      "c: 0.07384763087819513\n",
      "a: -0.4721620995631248\n",
      "b: -0.8330802027971875\n",
      "c: -0.012761735284534503\n"
     ]
    },
    {
     "data": {
      "text/plain": [
       "[1.894090388589334, 1, 0.0011488739749442312]"
      ]
     },
     "execution_count": 26,
     "metadata": {},
     "output_type": "execute_result"
    },
    {
     "data": {
      "image/png": "[encoded data removed]",
      "text/plain": [
       "<Figure size 432x288 with 1 Axes>"
      ]
     },
     "metadata": {
      "needs_background": "light"
     },
     "output_type": "display_data"
    }
   ],
   "source": [
    "# Solución del ejemplo utilizando GNU Octave\n",
    "x0=2;\n",
    "x1=2.2;\n",
    "x2=1.8;\n",
    "iterMax=50;\n",
    "tol=1*(10**-2)\n",
    "\n",
    "muller('sin(x)-x/2', x0, x1, x2, tol, iterMax)"
   ]
  },
  {
   "cell_type": "code",
   "execution_count": null,
   "metadata": {
    "kernel": "Python 3"
   },
   "outputs": [],
   "source": []
  }
 ],
 "metadata": {
  "kernelspec": {
   "display_name": "SoS",
   "language": "sos",
   "name": "sos"
  },
  "language_info": {
   "codemirror_mode": "sos",
   "file_extension": ".sos",
   "mimetype": "text/x-sos",
   "name": "sos",
   "nbconvert_exporter": "sos_notebook.converter.SoS_Exporter",
   "pygments_lexer": "sos"
  },
  "sos": {
   "kernels": [
    [
     "Octave",
     "octave",
     "octave",
     "",
     ""
    ],
    [
     "Python 3",
     "python3",
     "python3",
     "",
     {
      "name": "ipython",
      "version": 3
     }
    ]
   ],
   "panel": {
    "displayed": true,
    "height": 0
   },
   "version": "0.21.7"
  }
 },
 "nbformat": 4,
 "nbformat_minor": 2
}
