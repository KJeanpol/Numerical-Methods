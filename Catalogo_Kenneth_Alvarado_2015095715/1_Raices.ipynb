{
 "cells": [
  {
   "cell_type": "markdown",
   "metadata": {
    "kernel": "SoS"
   },
   "source": [
    "<h1 style=\"text-align: center;\"><strong>1. Soluci&oacute;n de Ecuaciones No Lineales</strong></h1>"
   ]
  },
  {
   "cell_type": "markdown",
   "metadata": {
    "kernel": "python3"
   },
   "source": [
    "<h2 style=\"text-align: center;\"><span style=\"text-decoration: underline; color: #008080;\"><strong>Algoritmos</strong></span></h2>\n",
    "\n",
    "[<strong>M&eacute;todo 1: M&eacute;todo de la Bisecci&oacute;n</strong>](#biseccion)\n",
    "\n",
    "[<strong>M&eacute;todo 2: Nombre&nbsp;</strong>](#metodo2)\n",
    "\n",
    "<strong>M&eacute;todo 3:</strong>"
   ]
  },
  {
   "cell_type": "markdown",
   "metadata": {
    "kernel": "SoS"
   },
   "source": [
    "<a id='biseccion'></a>\n",
    "<h2><span style=\"color: #993300;\"><span style=\"text-decoration: underline;\"><strong>M&eacute;todo 1:</strong> M&eacute;todo de la Bisecci&oacute;n</span></span></h2>"
   ]
  },
  {
   "cell_type": "markdown",
   "metadata": {
    "kernel": "SoS"
   },
   "source": [
    "<h3><strong>a) Formulaci&oacute;n Matem&aacute;tica</strong></h3>"
   ]
  },
  {
   "cell_type": "markdown",
   "metadata": {
    "kernel": "SoS"
   },
   "source": [
    "\n",
    "$\\begin{equation}\n",
    "I_{k+1} = \\left[a_{k+1},b_{k+1}\\right] = \\left\\{ \\begin{array}{lcc}\n",
    "            \\left[a_{k},x_{k}\\right] &   si  & f(a_{k})f(x_{k}) < 0 \\\\\n",
    "             \\left[x_{k},b_{k}\\right] &   si  & f(a_{k})f(x_{k}) > 0\n",
    "             \\end{array}\n",
    "   \\right.\n",
    "\\end{equation}$\n"
   ]
  },
  {
   "cell_type": "markdown",
   "metadata": {
    "kernel": "SoS"
   },
   "source": [
    "<h3><strong>b) Valores Iniciales</strong></h3>\n"
   ]
  },
  {
   "cell_type": "markdown",
   "metadata": {
    "kernel": "SoS"
   },
   "source": [
    "\n",
    "$\\begin{equation}\n",
    "    \\left[a,b\\right] \\hspace{0.2cm} y \\hspace{0.2cm} f(x) \\hspace{0.2cm} continua\n",
    "\\end{equation}$"
   ]
  },
  {
   "cell_type": "markdown",
   "metadata": {
    "kernel": "SoS"
   },
   "source": [
    "<h3><strong>c) Ventajas y Desvantajas</strong></h3>"
   ]
  },
  {
   "cell_type": "markdown",
   "metadata": {
    "kernel": "SoS"
   },
   "source": [
    "<div class=\"alert alert-block alert-success row\">\n",
    "    <div class=\"column\">\n",
    "        <p>\n",
    "            <span style=\"text-decoration: underline;\">\n",
    "                <span style=\"text-decoration: underline;\">\n",
    "                    <strong>Ventajas:</strong>\n",
    "                </span>\n",
    "            </span>\n",
    "        </p>\n",
    "        <li>Siempre converge</li>\n",
    "        <li>Útil como aproximación inicial de otros métodos</li>\n",
    "    </div>\n",
    "    <div class =\"column\">\n",
    "        <p>\n",
    "            <span style=\"text-decoration: underline;\">\n",
    "                <span style=\"text-decoration: underline;\">\n",
    "                    <strong>Desventajas:</strong>\n",
    "                </span>\n",
    "            </span>\n",
    "        </p>\n",
    "        <li>Convergencia Lenta</li>\n",
    "        <li>No tiene en cuenta la magnitud d elos valores de la función en las aproximaciones calculadas, solo tiene en cuneta el sifgno de f(x), por lo que hace que una aproximación intermedia, mejor que la respuesta final, pase desapercibida  </li>\n",
    "    </div>\n",
    "</div>"
   ]
  },
  {
   "cell_type": "markdown",
   "metadata": {
    "kernel": "SoS"
   },
   "source": [
    "<h3><strong>d) Pasos del m&eacute;todo (Pseudoc&oacute;digo)</strong></h3>"
   ]
  },
  {
   "cell_type": "markdown",
   "metadata": {
    "kernel": "SoS"
   },
   "source": [
    "![](bpseu.JPG)"
   ]
  },
  {
   "cell_type": "markdown",
   "metadata": {
    "kernel": "SoS"
   },
   "source": [
    "<h3><strong>e) C&oacute;digo en GNU Octave</strong></h3>"
   ]
  },
  {
   "cell_type": "code",
   "execution_count": 2,
   "metadata": {
    "kernel": "Octave",
    "scrolled": true
   },
   "outputs": [],
   "source": [
    "function [x,k,error]=biseccion3(f,a,b,tol,iterMax)\n",
    "\n",
    "    %Esta función aproxima la solución de la ecuación f(x)=0, utilizando el método de la bisección\n",
    "    %\n",
    "    %Sintaxis:  biseccion1(f,a,b,tol,iterMax)\n",
    "    % \n",
    "    %Parámetros Iniciales: \n",
    "    %            f = una  cadena de caracteres (string) que representa a la función f\n",
    "    %            a,b = son los extremos del intervalo [a,b]\n",
    "    %            tol = un número positivo que representa a la tolerancia para el criterio |f(x_k)|<tol\n",
    "    %            iterMax = cantidad de iteraciones máximas\n",
    "    %            \n",
    "    %Parámetros de Salida:                           \n",
    "    %            x = aproximación del cero de la función f\n",
    "    %            k = número de iteraciones realizados\n",
    "    %            error =  |f(x)|\n",
    "\n",
    "\n",
    "    pkg load symbolic\n",
    "    \n",
    "    f1 = matlabFunction(sym(f));  % Se obtiene la funcion\n",
    "    %df = matlabFunction(diff(sym(funcion)));  % Se calcula la derivada\n",
    "    \n",
    "    if f1(a)*f1(b)>0\n",
    "        x=[]; k=[]; error=[];\n",
    "        display('El teorema de Bolzano no se cumple, es decir, f(a)*f(b)>0')\n",
    "    else\n",
    "        k=0;\n",
    "        error=tol+1;\n",
    "        e=[];\n",
    "        while and(error>tol,k<iterMax)\n",
    "            k=k+1;\n",
    "            x=(a+b)/2;\n",
    "            error=abs(f1(x));\n",
    "            e=[e error];\n",
    "            if f1(a)*f1(x)<0\n",
    "                b=x;\n",
    "            else\n",
    "                a=x;\n",
    "            end\n",
    "        end\n",
    "        plot(1:k,e)\n",
    "    end\n",
    "end\n",
    "\n",
    "%help biseccion3\n"
   ]
  },
  {
   "cell_type": "markdown",
   "metadata": {
    "kernel": "octave"
   },
   "source": [
    "<h3><strong>f) C&oacute;digo en Python</strong></h3>"
   ]
  },
  {
   "cell_type": "code",
   "execution_count": 4,
   "metadata": {
    "kernel": "Python 3"
   },
   "outputs": [
    {
     "data": {
      "text/plain": [
       "'help(biseccion1)'"
      ]
     },
     "execution_count": 4,
     "metadata": {},
     "output_type": "execute_result"
    }
   ],
   "source": [
    "def biseccion1(f,a,b,tol,iterMax):\n",
    "\n",
    "    \"\"\"\n",
    "    Esta función aproxima la solución de la ecuación f(x)=0, utilizando el método de la bisección\n",
    "    \n",
    "    Sintaxis:  biseccion1(f,a,b,tol,iterMax)\n",
    "    \n",
    "    Parámetros Iniciales: \n",
    "                f = una  cadena de caracteres (string) que representa a la función f\n",
    "                a,b = son los extremos del intervalo [a,b]\n",
    "                tol = un número positivo que representa a la tolerancia para el criterio |f(x_k)|<tol\n",
    "                iterMax = cantidad de iteraciones máximas\n",
    "                \n",
    "    Parámetros de Salida: \n",
    "                [x_k,k,error], donde                \n",
    "                x_k = aproximación del cero de la función f\n",
    "                k = número de iteraciones realizados\n",
    "                error =  |f(x_k)|\n",
    "    \"\"\"\n",
    "    \n",
    "    \n",
    "    from sympy import  sympify\n",
    "    import matplotlib.pyplot\n",
    "\n",
    "    \n",
    "    funcion = sympify(f)\n",
    "    fa=funcion.subs({'x': a})\n",
    "    fb=funcion.subs({'x': b})\n",
    "    \n",
    "    if fa*fb>0:\n",
    "        x=[]\n",
    "        k=[]\n",
    "        error=[]\n",
    "        display('El teorema de Bolzano no se cumple, es decir, f(a)*f(b)>0')\n",
    "    else:\n",
    "        error=tol+1\n",
    "        k=0\n",
    "        it=[]\n",
    "        er=[]\n",
    "        while error>tol and k<iterMax:\n",
    "            k=k+1\n",
    "            x=(a+b)/2\n",
    "            fa=funcion.subs({'x': a})\n",
    "            fx=funcion.subs({'x': x})\n",
    "            error=abs(fx)\n",
    "            it.append(k)\n",
    "            er.append(error)\n",
    "            if fa*fx<0:\n",
    "                b=x                \n",
    "            else:\n",
    "                a=x   \n",
    "    matplotlib.pyplot.plot(it, er)\n",
    "    return [x,k,float(error)]\n",
    "\n",
    "\"\"\"help(biseccion1)\"\"\""
   ]
  },
  {
   "cell_type": "markdown",
   "metadata": {
    "kernel": "python3"
   },
   "source": [
    "<h3><strong>g) Ejemplo Num&eacute;rico</strong></h3>"
   ]
  },
  {
   "cell_type": "markdown",
   "metadata": {
    "kernel": "python3"
   },
   "source": [
    "Utilice el método de bisección para aproximar la solucion de la ecuación $e^{x}-x-2=0$, en el intervalo $[0,2]$ para una tolerancia de $1x10^{-4}$. El resultado de la operación se da con 8 iteraciones y la aproximacion es $x_7 = 1.1484375$ "
   ]
  },
  {
   "cell_type": "code",
   "execution_count": 3,
   "metadata": {
    "kernel": "Octave"
   },
   "outputs": [
    {
     "name": "stdout",
     "output_type": "stream",
     "text": [
      "tolerancia =  0.00010000\n",
      "Symbolic pkg v2.8.0: Python communication link active, SymPy v1.4.\n",
      "x =  1.1462\n",
      "k =  15\n",
      "error =  0.000030092\n"
     ]
    },
    {
     "data": {
      "image/png": "[encoded data removed]",
      "text/plain": [
       "<IPython.core.display.Image object>"
      ]
     },
     "metadata": {},
     "output_type": "display_data"
    }
   ],
   "source": [
    "% Solución del ejemplo utilizando GNU Octave\n",
    "a=0;\n",
    "b=2;\n",
    "iterMax=50;\n",
    "tolerancia=1*(10**-4)\n",
    "[x,k,error]=biseccion3('exp(x)-x-2',a,b,tolerancia,iterMax)"
   ]
  },
  {
   "cell_type": "code",
   "execution_count": 42,
   "metadata": {
    "kernel": "Python 3"
   },
   "outputs": [
    {
     "name": "stdout",
     "output_type": "stream",
     "text": [
      "[1.14617919921875, 15, 3.00923282878784e-5]\n"
     ]
    },
    {
     "data": {
      "image/png": "[encoded data removed]",
      "text/plain": [
       "<Figure size 432x288 with 1 Axes>"
      ]
     },
     "metadata": {
      "needs_background": "light"
     },
     "output_type": "display_data"
    }
   ],
   "source": [
    "#Solución del ejemplo utilizando GNU Octave\n",
    "a=0;\n",
    "b=2;\n",
    "iterMax=50;\n",
    "tolerancia=1*(10**-4)\n",
    "resultado=biseccion1('exp(x)-x-2',a,b,tolerancia,iterMax)\n",
    "print(resultado)"
   ]
  },
  {
   "cell_type": "markdown",
   "metadata": {
    "kernel": "python3"
   },
   "source": [
    "<a id='metodo2'></a>\n",
    "<h2><span style=\"color: #993300;\"><strong>M&eacute;todo 2: Newton-Raphson </strong> </span></h2>"
   ]
  },
  {
   "cell_type": "markdown",
   "metadata": {
    "kernel": "SoS"
   },
   "source": [
    "<h3><strong>a) Formulaci&oacute;n Matem&aacute;tica</strong></h3>"
   ]
  },
  {
   "cell_type": "markdown",
   "metadata": {
    "kernel": "SoS"
   },
   "source": [
    "\n",
    "$ \\begin{equation}\n",
    "       \\left\\{  \\begin{array}{lcc}\n",
    "                 x_{k+1} = x_{k}- \\frac{f(x_{k})}{f^{\\prime}(x_{k})} &  donde  & f^{\\prime}(x_{k}) \\neq 0 \\text{ para todo }  k \\geq 0 \\\\\n",
    "                 x_{0} \\in \\mathbb{R} & \\text {valor inicial} \n",
    "                \\end{array}\n",
    "     \\right.\n",
    "    \\end{equation}$\n"
   ]
  },
  {
   "cell_type": "markdown",
   "metadata": {
    "kernel": "Python 3"
   },
   "source": [
    "<h3><strong>b) Valores Iniciales</strong></h3>"
   ]
  },
  {
   "cell_type": "markdown",
   "metadata": {
    "kernel": "SoS"
   },
   "source": [
    "Algún valor $x_{0}$ dado"
   ]
  },
  {
   "cell_type": "markdown",
   "metadata": {
    "kernel": "SoS"
   },
   "source": [
    "<h3><strong>c) Ventajas y Desvantajas</strong></h3>"
   ]
  },
  {
   "cell_type": "markdown",
   "metadata": {
    "kernel": "SoS"
   },
   "source": [
    "<div class=\"alert alert-block alert-success row\">\n",
    "    <div class=\"column\">\n",
    "        <p>\n",
    "            <span style=\"text-decoration: underline;\">\n",
    "                <span style=\"text-decoration: underline;\">\n",
    "                    <strong>Ventajas:</strong>\n",
    "                </span>\n",
    "            </span>\n",
    "        </p>\n",
    "        <li> Converge muy rápido</li>\n",
    "        <li>Proporciona buena precisión en los resultados.</li>\n",
    "    </div>\n",
    "    <div class =\"column\">\n",
    "        <p>\n",
    "            <span style=\"text-decoration: underline;\">\n",
    "                <span style=\"text-decoration: underline;\">\n",
    "                    <strong>Desventajas:</strong>\n",
    "                </span>\n",
    "            </span>\n",
    "        </p>\n",
    "        <li>Tiene como restricción el cálculo de la derivada de una función.</li>\n",
    "        <li>No existe un criterio general de Convergencia </li>\n",
    "    </div>\n",
    "</div>"
   ]
  },
  {
   "cell_type": "markdown",
   "metadata": {
    "kernel": "SoS"
   },
   "source": [
    "<h3><strong>d) Pasos del m&eacute;todo (Pseudoc&oacute;digo)</strong></h3>"
   ]
  },
  {
   "cell_type": "markdown",
   "metadata": {
    "kernel": "SoS"
   },
   "source": [
    "![](npseu.JPG)"
   ]
  },
  {
   "cell_type": "markdown",
   "metadata": {
    "kernel": "SoS"
   },
   "source": [
    "<h3><strong>e) C&oacute;digo en GNU Octave</strong></h3>"
   ]
  },
  {
   "cell_type": "code",
   "execution_count": 5,
   "metadata": {
    "kernel": "Octave",
    "scrolled": true
   },
   "outputs": [],
   "source": [
    "function [xn, err, iter, fx]= nr(f,x0,tol,maxIter)\n",
    "\n",
    "    %Esta función aproxima la solución de la ecuación f(x)=0, utilizando el método de Newton-Raphson\n",
    "    %Devuelve el valor de la raíz más aproximada según la tolerancia dada\n",
    "    %\n",
    "    %Sintaxis:  nr(f,x0,tol,maxIter)\n",
    "    % \n",
    "    %Parámetros Iniciales: \n",
    "    %            f = una  cadena de caracteres (string) que representa a la función f\n",
    "    %            x0 = Valor inicial dado\n",
    "    %            tol = un número positivo que representa a la tolerancia para el criterio |f(x_k)|<tol\n",
    "    %            iterMax = cantidad de iteraciones máximas\n",
    "    %            \n",
    "    %Parámetros de Salida:                           \n",
    "    %            x = aproximación del cero de la función f\n",
    "    %            k = número de iteraciones realizados\n",
    "    %            error =  |f(x)|\n",
    "\n",
    "\n",
    "  f1 = matlabFunction(sym(f));  % Se obtiene la funcion\n",
    "  df = matlabFunction(diff(sym(f1)));  % Se calcula la derivada\n",
    "  xNext = x0;\n",
    "  figure\n",
    "  hold on\n",
    "  for iter=0:maxIter\n",
    "    xn = xNext;\n",
    "    dfx = df(xn);\n",
    "    if dfx == 0\n",
    "      disp(\"Error: Division by zero\");\n",
    "      return\n",
    "    endif\n",
    "    fx = f1(xn);\n",
    "    xNext = xn - fx/dfx;\n",
    "    err = abs(fx);\n",
    "    if err <= tol\n",
    "      break\n",
    "    endif\n",
    "    plot(iter, err, 'ro');\n",
    "    title(\"Newton-Raphson Method\");\n",
    "    xlabel(\"Iterations\")\n",
    "    ylabel(\"Error\")\n",
    "  endfor\n",
    "endfunction"
   ]
  },
  {
   "cell_type": "markdown",
   "metadata": {
    "kernel": "octave"
   },
   "source": [
    "<h3><strong>f) C&oacute;digo en Python</strong></h3>"
   ]
  },
  {
   "cell_type": "code",
   "execution_count": 6,
   "metadata": {
    "kernel": "Python 3"
   },
   "outputs": [],
   "source": [
    "def nr(f,x0,tol,maxIter):\n",
    "    \"\"\"\n",
    "    Esta función aproxima la solución de la ecuación f(x)=0, utilizando el método de Newton-Raphson\n",
    "    Devuelve el valor de la raíz más aproximada según la tolerancia dada\n",
    "    \n",
    "    Sintaxis:  nr(f,x0,tol,maxIter)\n",
    "    \n",
    "    Parámetros Iniciales: \n",
    "                f = una  cadena de caracteres (string) que representa a la función f\n",
    "                x0 = Valor inicial dado\n",
    "                tol = un número positivo que representa a la tolerancia para el criterio |f(x_k)|<tol\n",
    "                iterMax = cantidad de iteraciones máximas\n",
    "                \n",
    "    Parámetros de Salida: \n",
    "                [xn,float(err),iter], donde                \n",
    "                xn = aproximación del cero de la función f\n",
    "                iter = número de iteraciones realizados\n",
    "                err =  |f(x_k)|\n",
    "    \"\"\"\n",
    "    \n",
    "    \n",
    "    import sympy\n",
    "    import matplotlib.pyplot\n",
    "    x,y,z = sympy.symbols ('x y z')  #Define x,y,z como variables de una funcion\n",
    "    f1 = sympy.sympify(f) \n",
    "    df = f1.diff(x);\n",
    "    xNext = x0\n",
    "    k=[]\n",
    "    error=[]\n",
    "    iteracion=0\n",
    "    for iter in range(0, maxIter):\n",
    "        xn = xNext\n",
    "        dfx = float(sympy.sympify(df).subs(x,xn))\n",
    "        if (dfx == 0):\n",
    "          print(\"Error: Division by zero\")\n",
    "          return\n",
    "        fx = float(sympy.sympify(f1).subs(x,xn))\n",
    "        xNext = xn - fx/dfx;\n",
    "        err = abs(fx);\n",
    "        error.append(err)\n",
    "        k.append(iter)\n",
    "        iteracion=iter\n",
    "        if (err <= tol or err==0):\n",
    "            break\n",
    "        \n",
    "    matplotlib.pyplot.plot(k, error)\n",
    "    return [xn,float(err),iter]"
   ]
  },
  {
   "cell_type": "markdown",
   "metadata": {
    "kernel": "python3"
   },
   "source": [
    "<h3><strong>g) Ejemplo Num&eacute;rico</strong></h3>"
   ]
  },
  {
   "cell_type": "markdown",
   "metadata": {
    "kernel": "python3"
   },
   "source": [
    "Usando el método iterativo de Newton, determine una solución de la\n",
    "ecuación $e^{x}-1/x=0$, con una tolerancia de $10^{-4}$ y $x_0=1$. la aproximación de la solución de la ecuación es $0.56714329$"
   ]
  },
  {
   "cell_type": "code",
   "execution_count": 7,
   "metadata": {
    "kernel": "Octave"
   },
   "outputs": [
    {
     "name": "stdout",
     "output_type": "stream",
     "text": [
      "tolerancia =  0.00010000\n",
      "xn =  0.56714\n",
      "err =  0.0000034595\n",
      "iter =  3\n"
     ]
    },
    {
     "data": {
      "image/png": "[encoded data removed]",
      "text/plain": [
       "<IPython.core.display.Image object>"
      ]
     },
     "metadata": {},
     "output_type": "display_data"
    }
   ],
   "source": [
    "% Solución del ejemplo utilizando GNU Octave\n",
    "x0=1;\n",
    "b=2;\n",
    "iterMax=50;\n",
    "tolerancia=1*(10**-4)\n",
    "[xn, err, iter]=nr('exp(x)-(1/x)',x0,tolerancia,iterMax)"
   ]
  },
  {
   "cell_type": "code",
   "execution_count": 44,
   "metadata": {
    "kernel": "Python 3"
   },
   "outputs": [
    {
     "name": "stdout",
     "output_type": "stream",
     "text": [
      "[0.5671425803617602, 3.4594823934419594e-06, 3]\n"
     ]
    },
    {
     "data": {
      "image/png": "[encoded data removed]",
      "text/plain": [
       "<Figure size 432x288 with 1 Axes>"
      ]
     },
     "metadata": {
      "needs_background": "light"
     },
     "output_type": "display_data"
    }
   ],
   "source": [
    "# Solución del ejemplo utilizando Python\n",
    "x0=1;\n",
    "b=2;\n",
    "iterMax=50;\n",
    "tolerancia=1*(10**-4)\n",
    "y=nr('exp(x)-(1/x)',x0,tolerancia,iterMax)\n",
    "print(y)"
   ]
  },
  {
   "cell_type": "markdown",
   "metadata": {
    "kernel": "SoS"
   },
   "source": [
    "# <a id='metodo2'></a>\n",
    "<h2><span style=\"color: #993300;\"><strong>M&eacute;todo 3: Método de la Secante </strong> </span></h2>"
   ]
  },
  {
   "cell_type": "markdown",
   "metadata": {
    "kernel": "SoS"
   },
   "source": [
    "<h3><strong>a) Formulaci&oacute;n Matem&aacute;tica</strong></h3>"
   ]
  },
  {
   "cell_type": "markdown",
   "metadata": {
    "kernel": "SoS"
   },
   "source": [
    "$    \n",
    "\\begin{equation}\n",
    "    x_{k+1} = x_{k}- \\left(\\frac{ x_{k}- x_{k-1}} {f(x_{k}) -f(x_{k-1}) } \\right)f(x_{k})\n",
    "\\end{equation}\n",
    "$\n",
    "\n",
    "para k= 1,2....., donde $x_{0}$ y $x_{1}$ son los valores iniciales y se asume que $f(x_{k})-f(x_{k}) \\neq 0$ para todo $k \\geq 1$\n"
   ]
  },
  {
   "cell_type": "markdown",
   "metadata": {
    "kernel": "Python 3"
   },
   "source": [
    "<h3><strong>b) Valores Iniciales</strong></h3>"
   ]
  },
  {
   "cell_type": "markdown",
   "metadata": {
    "kernel": "SoS"
   },
   "source": [
    "$x_{0}$ y $x_{1}$ "
   ]
  },
  {
   "cell_type": "markdown",
   "metadata": {
    "kernel": "SoS"
   },
   "source": [
    "<h3><strong>c) Ventajas y Desvantajas</strong></h3>"
   ]
  },
  {
   "cell_type": "markdown",
   "metadata": {
    "kernel": "SoS"
   },
   "source": [
    "<div class=\"alert alert-block alert-success row\">\n",
    "    <div class=\"column\">\n",
    "        <p>\n",
    "            <span style=\"text-decoration: underline;\">\n",
    "                <span style=\"text-decoration: underline;\">\n",
    "                    <strong>Ventajas:</strong>\n",
    "                </span>\n",
    "            </span>\n",
    "        </p>\n",
    "        <li>Se puede aplicar cuando la función f(x) es demasiado compleja como para obtener su derivada</li>\n",
    "        <li>Beneficioso en aspectos computacionales, donde los algoritmos de obteción de derivadas son númericos y no algebraicos.</li>\n",
    "    </div>\n",
    "    <div class =\"column\">\n",
    "        <p>\n",
    "            <span style=\"text-decoration: underline;\">\n",
    "                <span style=\"text-decoration: underline;\">\n",
    "                    <strong>Desventajas:</strong>\n",
    "                </span>\n",
    "            </span>\n",
    "        </p>\n",
    "        <li>Su velocidad de convergencia es emnor al de otros métodos como Newton-Raphson</li>\n",
    "        <li>Tiene el riesgo de que no converga y no se pueda hallar la raíz.</li>\n",
    "    </div>\n",
    "</div>"
   ]
  },
  {
   "cell_type": "markdown",
   "metadata": {
    "kernel": "SoS"
   },
   "source": [
    "<h3><strong>d) Pasos del m&eacute;todo (Pseudoc&oacute;digo)</strong></h3>"
   ]
  },
  {
   "cell_type": "markdown",
   "metadata": {
    "kernel": "SoS"
   },
   "source": [
    "![](spseud.JPG)"
   ]
  },
  {
   "cell_type": "markdown",
   "metadata": {
    "kernel": "SoS"
   },
   "source": [
    "<h3><strong>e) C&oacute;digo en GNU Octave</strong></h3>"
   ]
  },
  {
   "cell_type": "code",
   "execution_count": 8,
   "metadata": {
    "kernel": "Octave",
    "scrolled": true
   },
   "outputs": [],
   "source": [
    "function [xk, err, iter]= secanteO(f,x0,x1,tol,maxIter)\n",
    "\n",
    "    %Esta función aproxima la solución de la ecuación f(x)=0, utilizando el método de la Secante\n",
    "    %Devuelve el valor de la raíz más aproximada según la tolerancia dada\n",
    "    %\n",
    "    %Sintaxis:  secanteO(f,x0,x1,tol,maxIter)\n",
    "    % \n",
    "    %Parámetros Iniciales: \n",
    "    %            f = una  cadena de caracteres (string) que representa a la función f\n",
    "    %            x0 = Primer valor de la iteracion\n",
    "    %            x1 = Segundo  valor de la iteracion       \n",
    "    %            tol = un número positivo que representa a la tolerancia para el criterio |f(x_k)|<tol\n",
    "    %            iterMax = cantidad de iteraciones máximas\n",
    "    %            \n",
    "    %Parámetros de Salida:                           \n",
    "    %            xk = aproximación del cero de la función f\n",
    "    %            iter = número de iteraciones realizados\n",
    "    %            error =  |f(x)|\n",
    "\n",
    "\n",
    "  f1 = matlabFunction(sym(f));  % Se obtiene la funcion\n",
    "  k = 2;\n",
    "  figure\n",
    "  hold on\n",
    "  for iter=0:maxIter\n",
    "    xk = x1 - f1(x1) * ((x1 - x0)/(f1(x1) - f1(x0)));\n",
    "    err = abs(f1(xk));\n",
    "    if (err <= tol)\n",
    "      break;\n",
    "    endif\n",
    "    plot(iter, err, 'ro');\n",
    "    title(\"Secant Method\");\n",
    "    xlabel(\"Iterations\")\n",
    "    ylabel(\"Error\")\n",
    "  endfor\n",
    "endfunction"
   ]
  },
  {
   "cell_type": "markdown",
   "metadata": {
    "kernel": "octave"
   },
   "source": [
    "<h3><strong>f) C&oacute;digo en Python</strong></h3>"
   ]
  },
  {
   "cell_type": "code",
   "execution_count": 9,
   "metadata": {
    "kernel": "Python 3"
   },
   "outputs": [],
   "source": [
    "def secante(f,x0,x1,tol,iterMax):   \n",
    "    \"\"\"\n",
    "    Esta función aproxima la solución de la ecuación f(x)=0, utilizando el método de Newton-Raphson\n",
    "    Devuelve el valor de la raíz más aproximada según la tolerancia dada\n",
    "    \n",
    "    Sintaxis:  nr(f,x0,tol,maxIter)\n",
    "    \n",
    "    Parámetros Iniciales: \n",
    "                f = una  cadena de caracteres (string) que representa a la función f\n",
    "                x0 = Primer valor dado\n",
    "                x1 = Segundo valor dado\n",
    "                tol = un número positivo que representa a la tolerancia para el criterio |f(x_k)|<tol\n",
    "                iterMax = cantidad de iteraciones máximas\n",
    "                \n",
    "    Parámetros de Salida: \n",
    "                [xn,float(err),iter], donde                \n",
    "                xn = aproximación del cero de la función f\n",
    "                iter = número de iteraciones realizados\n",
    "                err =  |f(x_k)|\n",
    "    \"\"\"\n",
    "    from sympy import sympify\n",
    "    import matplotlib.pyplot\n",
    "    x,y,z = sympy.symbols ('x y z') #Define x,y,z como variables de una funcion\n",
    "    funcion = sympy.sympify(f) \n",
    "    k = 2\n",
    "    error = []\n",
    "    iteraciones=[]\n",
    "    xk=0\n",
    "    for _iter in range(1, iterMax):\n",
    "        xk = float(x1 - (funcion.subs({\"x\": x1}) * (x1 - x0)) /\n",
    "                   (funcion.subs({\"x\": x1}) - funcion.subs({\"x\": x0})))\n",
    "        print(float(xk))\n",
    "        \n",
    "        err = abs(float(funcion.subs({\"x\": xk})))\n",
    "        iteraciones.append(k)\n",
    "        error.append(err)\n",
    "        if (err <= tol):\n",
    "            break \n",
    "        k=k+1\n",
    "\n",
    "        x0=x1\n",
    "        x1=xk\n",
    "    matplotlib.pyplot.plot(iteraciones, error)\n",
    "    return [xk,k,err]"
   ]
  },
  {
   "cell_type": "markdown",
   "metadata": {
    "kernel": "python3"
   },
   "source": [
    "<h3><strong>g) Ejemplo Num&eacute;rico</strong></h3>"
   ]
  },
  {
   "cell_type": "markdown",
   "metadata": {
    "kernel": "python3"
   },
   "source": [
    "Considere la ecuación $e^{-x^{2}}=0$, y utilice el m\u0013etodo de la secante para aproximar una solución de esta ecuación con una tolerancia de $ tol = 10^{-2}$ y valores iniciales de $x0=0$ y $x1=1$. Con dicha tolerancia su aproximación es $0.652917...$"
   ]
  },
  {
   "cell_type": "code",
   "execution_count": 80,
   "metadata": {
    "kernel": "Octave"
   },
   "outputs": [
    {
     "name": "stdout",
     "output_type": "stream",
     "text": [
      "tolerancia =  0.010000\n",
      "xn =  0.61270\n",
      "err =  0.074314\n",
      "iter =  50\n"
     ]
    },
    {
     "data": {
      "image/png": "[encoded data removed]",
      "text/plain": [
       "<IPython.core.display.Image object>"
      ]
     },
     "metadata": {},
     "output_type": "display_data"
    }
   ],
   "source": [
    "% Solución del ejemplo utilizando GNU Octave\n",
    "x0=0;\n",
    "x1=1;\n",
    "iterMax=50;\n",
    "tolerancia=1*(10**-2)\n",
    "[xn, err, iter]=secanteO('exp(-x**2)-x',x0,x1,tolerancia,iterMax)"
   ]
  },
  {
   "cell_type": "code",
   "execution_count": 69,
   "metadata": {
    "kernel": "Python 3"
   },
   "outputs": [
    {
     "name": "stdout",
     "output_type": "stream",
     "text": [
      "0.6126998367802821\n",
      "0.6534421332877829\n"
     ]
    },
    {
     "data": {
      "text/plain": [
       "[0.6534421332877829, 3, 0.0009698520541936428]"
      ]
     },
     "execution_count": 69,
     "metadata": {},
     "output_type": "execute_result"
    },
    {
     "data": {
      "image/png": "[encoded data removed]",
      "text/plain": [
       "<Figure size 432x288 with 1 Axes>"
      ]
     },
     "metadata": {
      "needs_background": "light"
     },
     "output_type": "display_data"
    }
   ],
   "source": [
    "#Solucion en Python\n",
    "x0=0;\n",
    "x1=1;\n",
    "iterMax=50;\n",
    "tolerancia=1*(10**-2)\n",
    "iterMax=50\n",
    "secante('exp(-x**2)-x',x0,x1,tolerancia,iterMax)"
   ]
  },
  {
   "cell_type": "code",
   "execution_count": null,
   "metadata": {
    "kernel": "Python 3"
   },
   "outputs": [],
   "source": []
  }
 ],
 "metadata": {
  "kernelspec": {
   "display_name": "SoS",
   "language": "sos",
   "name": "sos"
  },
  "language_info": {
   "codemirror_mode": "sos",
   "file_extension": ".sos",
   "mimetype": "text/x-sos",
   "name": "sos",
   "nbconvert_exporter": "sos_notebook.converter.SoS_Exporter",
   "pygments_lexer": "sos"
  },
  "sos": {
   "kernels": [
    [
     "Octave",
     "octave",
     "octave",
     "",
     ""
    ],
    [
     "Python 3",
     "python3",
     "python3",
     "",
     {
      "name": "ipython",
      "version": 3
     }
    ]
   ],
   "panel": {
    "displayed": true,
    "height": 0
   },
   "version": "0.21.7"
  }
 },
 "nbformat": 4,
 "nbformat_minor": 2
}
