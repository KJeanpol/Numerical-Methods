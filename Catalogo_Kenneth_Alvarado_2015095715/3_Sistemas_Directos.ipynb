{
 "cells": [
  {
   "cell_type": "markdown",
   "metadata": {
    "kernel": "SoS"
   },
   "source": [
    "<h1 style=\"text-align: center;\"><strong>1. Solución de Sistemas de Ecuaciones Métodos Directos</strong></h1>"
   ]
  },
  {
   "cell_type": "markdown",
   "metadata": {
    "kernel": "SoS"
   },
   "source": [
    "<a id='biseccion'></a>\n",
    "<h2><span style=\"color: #993300;\"><span style=\"text-decoration: underline;\"><strong>M&eacute;todo 1:</strong> Eliminación Gaussiana</span></span></h2>"
   ]
  },
  {
   "cell_type": "markdown",
   "metadata": {
    "kernel": "SoS"
   },
   "source": [
    "<h3><strong>a) Formulaci&oacute;n Matem&aacute;tica</strong></h3>"
   ]
  },
  {
   "cell_type": "markdown",
   "metadata": {
    "kernel": "SoS"
   },
   "source": [
    "\n",
    "$Ax=b$\n",
    "\n",
    "$x_{i}=\\frac{1}{a_{ii}}\\left ( b_{i} - \\sum_{j=i+1}^{n} a_{ij} x_{j} \\right ) $\n",
    "\n",
    "\n"
   ]
  },
  {
   "cell_type": "markdown",
   "metadata": {
    "kernel": "SoS"
   },
   "source": [
    "\n",
    "<h3><strong>b) Valores Iniciales</strong></h3>"
   ]
  },
  {
   "cell_type": "markdown",
   "metadata": {
    "kernel": "SoS"
   },
   "source": [
    "  <li>Matriz A de tamaño mxn</li>\n",
    "  <li>Vector x de tamaño n</li>\n",
    "  <li>Vector b de tamaño m</li>"
   ]
  },
  {
   "cell_type": "markdown",
   "metadata": {
    "kernel": "SoS"
   },
   "source": [
    "<h3><strong>c) Ventajas y Desvantajas</strong></h3>"
   ]
  },
  {
   "cell_type": "markdown",
   "metadata": {
    "kernel": "SoS"
   },
   "source": [
    "<div class=\"alert alert-block alert-success row\">\n",
    "    <div class=\"column\">\n",
    "        <p>\n",
    "            <span style=\"text-decoration: underline;\">\n",
    "                <span style=\"text-decoration: underline;\">\n",
    "                    <strong>Ventajas:</strong>\n",
    "                </span>\n",
    "            </span>\n",
    "        </p>\n",
    "        <li>Siempre converge</li>\n",
    "        <li>Útil como aproximación inicial de otros métodos</li>\n",
    "    </div>\n",
    "    <div class =\"column\">\n",
    "        <p>\n",
    "            <span style=\"text-decoration: underline;\">\n",
    "                <span style=\"text-decoration: underline;\">\n",
    "                    <strong>Desventajas:</strong>\n",
    "                </span>\n",
    "            </span>\n",
    "        </p>\n",
    "        <li>División entre cero.</li>\n",
    "        <li>. La obtención de la solución depende de la condición del sistema. En sentido matemático, los sistemas bien condicionados son aquellos en los que un cambio en uno o más coeficientes provoca un cambio similar en la solución. Los sistemas mal condicionados son aquellos en los que cambios pequeños en los coeficientes provocan cambios grandes en la solución</li>\n",
    "    </div>\n",
    "</div>"
   ]
  },
  {
   "cell_type": "markdown",
   "metadata": {
    "kernel": "SoS"
   },
   "source": [
    "<h3><strong>c) Pasos del m&eacute;todo (Pseudoc&oacute;digo)</strong></h3>"
   ]
  },
  {
   "cell_type": "markdown",
   "metadata": {
    "kernel": "SoS"
   },
   "source": [
    "![](eliminacionGaussiana.PNG)"
   ]
  },
  {
   "cell_type": "markdown",
   "metadata": {
    "kernel": "SoS"
   },
   "source": [
    "<h3><strong>d) C&oacute;digo en GNU Octave</strong></h3>"
   ]
  },
  {
   "cell_type": "code",
   "execution_count": 8,
   "metadata": {
    "kernel": "Octave"
   },
   "outputs": [],
   "source": [
    "function X = gaussianElimination(A, B)\n",
    "  n = length(A);\n",
    "  X = [A, B];\n",
    "  % For each row of augmented matrix\n",
    "  for i=1:n\n",
    "    pivot = X(i, i);\n",
    "    pivotRow = X(i, :);\n",
    "    % Multipliers' vector\n",
    "    M = zeros(1, n - i);\n",
    "    m = length(M);\n",
    "    % Get each row multiplier\n",
    "    for k=1:m\n",
    "      M(k) = X(i + k, i) / pivot;\n",
    "    endfor\n",
    "    % Modify each row\n",
    "    for k=1:m\n",
    "      X(i + k, :) = X(i + k, :) - pivotRow*M(k);\n",
    "    endfor\n",
    "  endfor\n",
    "  X = backSubstitution(X(1:n, 1:n), X(:,n+1));\n",
    "endfunction\n",
    "\n",
    "\n",
    "function X = backSubstitution(A, B)\n",
    "  % Back Substitution Method\n",
    "  % Solves AX=B\n",
    "\t% Inputs:\n",
    "\t%   - A is a NxN upper triangular matrix\n",
    "  %   - B is a Nx1 matrix\n",
    "\t% Outputs:\n",
    "\t%   - X is the solution matrix\n",
    "  n = length(B);\n",
    "  X = zeros(n, 1);\n",
    "  X(n) = B(n)/A(n, n);\n",
    "  for k=n-1:-1:1\n",
    "    div = A(k, k);\n",
    "    if div != 0\n",
    "      X(k) = (B(k) - A(k, k+1:n)*X(k+1:n))/A(k, k);\n",
    "    else\n",
    "      disp(\"Error: division by zero\");\n",
    "    endif\n",
    "    k\n",
    "  endfor\n",
    "endfunction"
   ]
  },
  {
   "cell_type": "markdown",
   "metadata": {
    "kernel": "Octave"
   },
   "source": [
    "<h3><strong>e) C&oacute;digo en Python</strong></h3>"
   ]
  },
  {
   "cell_type": "code",
   "execution_count": 11,
   "metadata": {
    "kernel": "Python 3"
   },
   "outputs": [],
   "source": [
    "import numpy as np\n",
    "\n",
    "\n",
    "def gaussianElimination(A,B):\n",
    "    n=len(A)\n",
    "    A=np.array(A)\n",
    "    B=np.array(B)\n",
    "    X=(np.concatenate((A, B.T), axis=1)).astype(np.float)\n",
    "    \n",
    "    for i in range(0,n):\n",
    "        pivot=X[i][i]\n",
    "        pivotRow=X[i]\n",
    "        M=np.zeros((1, n-i))\n",
    "        m=M.size\n",
    "        for k in range(1,m):\n",
    "            M[k-1]=X[i+k][i] / pivot\n",
    "        for k in range(1,m):\n",
    "            X[i + k] = X[i + k] - pivotRow*M[k-1][k]\n",
    "            \n",
    "    X= backSubstitution(X[:,[0,n-1]],X[:,[n]])\n",
    "    return X\n",
    "\n",
    "\n",
    "\n",
    "\n",
    "def backSubstitution(A,B):\n",
    "    n=len(B)\n",
    "    X=np.zeros((n,1))\n",
    "    X[n-1]=B[n-1]/A[n-1][n-1]\n",
    "    for k in range(n-2,n-1):\n",
    "        div=A[k][k]\n",
    "        if (div!=0):\n",
    "             X[k][k]=int(((B[k][k])-((A[k][k+1])*(X[k+1][k])))/(A[k][k]))\n",
    "            \n",
    "        else:\n",
    "            print(\"Error division por cero\")\n",
    "    return X\n"
   ]
  },
  {
   "cell_type": "markdown",
   "metadata": {
    "kernel": "Python 3"
   },
   "source": [
    "<h3><strong>e) Ejemplo Num&eacute;rico</strong></h3>"
   ]
  },
  {
   "cell_type": "markdown",
   "metadata": {
    "kernel": "Python 3"
   },
   "source": [
    "Resuelva, utilizando artim\u0013etica punto \n",
    "otante con 3 cifras signi\f",
    "cativas y\n",
    "redondeo, el siguiente sistema lineal:\n",
    "\n",
    "$\\left\\{\\begin{matrix}\n",
    "0.03x + &58.9y & = 59.2 \\\\ \n",
    "5.31x- &6.10y  & = 47\n",
    "\\end{matrix}\\right.$"
   ]
  },
  {
   "cell_type": "code",
   "execution_count": 9,
   "metadata": {
    "kernel": "Octave",
    "scrolled": true
   },
   "outputs": [
    {
     "name": "stdout",
     "output_type": "stream",
     "text": [
      "k =  1\n",
      "ans =\n",
      "\n",
      "   10.0000\n",
      "    1.0000\n",
      "\n"
     ]
    }
   ],
   "source": [
    "gaussianElimination([0.03 58.9 ; 5.31 -6.10], [59.2; 47])"
   ]
  },
  {
   "cell_type": "code",
   "execution_count": 12,
   "metadata": {
    "kernel": "Python 3",
    "scrolled": true
   },
   "outputs": [
    {
     "data": {
      "text/plain": [
       "array([[10.],\n",
       "       [ 1.]])"
      ]
     },
     "execution_count": 12,
     "metadata": {},
     "output_type": "execute_result"
    }
   ],
   "source": [
    "gaussianElimination([[0.03, 58.9] ,[ 5.31, -6.10]], [[59.2,47]])"
   ]
  },
  {
   "cell_type": "markdown",
   "metadata": {
    "kernel": "Python 3"
   },
   "source": [
    "<a id='biseccion'></a>\n",
    "<h2><span style=\"color: #993300;\"><span style=\"text-decoration: underline;\"><strong>M&eacute;todo 2:</strong> Factorización LU</span></span></h2>"
   ]
  },
  {
   "cell_type": "markdown",
   "metadata": {
    "kernel": "Python 3"
   },
   "source": [
    "<h3><strong>a) Formulaci&oacute;n Matem&aacute;tica</strong></h3>"
   ]
  },
  {
   "cell_type": "markdown",
   "metadata": {
    "kernel": "Python 3"
   },
   "source": [
    "\n",
    "$Ax=b $\n",
    "\n",
    "$A=LU $\n",
    "\n",
    "$L \\in \\mathbb{R}^{nxn} , U \\in \\mathbb{R}^{nxn}$\n"
   ]
  },
  {
   "cell_type": "markdown",
   "metadata": {
    "kernel": "Python 3"
   },
   "source": [
    "<h3><strong>b) Valores Iniciales</strong></h3>"
   ]
  },
  {
   "cell_type": "markdown",
   "metadata": {
    "kernel": "Python 3"
   },
   "source": [
    "  <li>Matriz A de tamaño mxn</li>\n",
    "  <li>Vector x de tamaño n</li>\n",
    "  <li>Vector b de tamaño m</li>"
   ]
  },
  {
   "cell_type": "markdown",
   "metadata": {
    "kernel": "Python 3"
   },
   "source": [
    "<h3><strong>c) Ventajas y Desvantajas</strong></h3>"
   ]
  },
  {
   "cell_type": "markdown",
   "metadata": {
    "kernel": "Python 3"
   },
   "source": [
    "<div class=\"alert alert-block alert-success row\">\n",
    "    <div class=\"column\">\n",
    "        <p>\n",
    "            <span style=\"text-decoration: underline;\">\n",
    "                <span style=\"text-decoration: underline;\">\n",
    "                    <strong>Ventajas:</strong>\n",
    "                </span>\n",
    "            </span>\n",
    "        </p>\n",
    "        <li>Siempre converge</li>\n",
    "        <li>Útil como aproximación inicial de otros métodos</li>\n",
    "    </div>\n",
    "    <div class =\"column\">\n",
    "        <p>\n",
    "            <span style=\"text-decoration: underline;\">\n",
    "                <span style=\"text-decoration: underline;\">\n",
    "                    <strong>Desventajas:</strong>\n",
    "                </span>\n",
    "            </span>\n",
    "        </p>\n",
    "        <li>Es complejo pues observe que para la obtencionn de la factorizacion LU se realiza la fase 1 del metodo de eliminacion gaussiana</li>\n",
    "        <li>Debido a la inestabilidad de este método, deben tenerse en cuenta algunos casos especiales, por ejemplo, si uno o varios elemento de la diagonal principalde la matriz a factorizar es cero, es necesario premultiplicar la matriz por una o varias matrices elementales de permutación</li>\n",
    "    </div>\n",
    "</div>"
   ]
  },
  {
   "cell_type": "markdown",
   "metadata": {
    "kernel": "Python 3"
   },
   "source": [
    "<h3><strong>c) Pasos del m&eacute;todo (Pseudoc&oacute;digo)</strong></h3>"
   ]
  },
  {
   "cell_type": "markdown",
   "metadata": {
    "kernel": "Python 3"
   },
   "source": [
    "![](LU.PNG)"
   ]
  },
  {
   "cell_type": "markdown",
   "metadata": {
    "kernel": "Python 3"
   },
   "source": [
    "<h3><strong>d) C&oacute;digo en GNU Octave</strong></h3>"
   ]
  },
  {
   "cell_type": "code",
   "execution_count": 15,
   "metadata": {
    "kernel": "Octave"
   },
   "outputs": [],
   "source": [
    "function [L, U, Xk] = lu(X,B)\n",
    "  n = length(X);\n",
    "  L = eye(n);\n",
    "  U = X;\n",
    "  % For each row of matrix X\n",
    "  for i=1:n\n",
    "\n",
    "    pivot = U(i, i);\n",
    "    pivotRow = U(i, :);\n",
    "    % Multipliers' vector\n",
    "    M = zeros(1, n - i);\n",
    "    m = length(M);\n",
    "    % Get each row multiplier\n",
    "\n",
    "    for k=1:m\n",
    "\n",
    "      M(k) = U(i + k, i) / pivot;\n",
    "    endfor\n",
    "    % Modify each row and each L subcolumn\n",
    "    for k=1:m\n",
    "      U(i + k, :) = U(i + k, :) - pivotRow*M(k);\n",
    "      L(i + k, i) = M(k);\n",
    "    endfor\n",
    "  endfor\n",
    "  Y=inv(L)*B;\n",
    "  Xk=inv(U)*Y;  \n",
    "endfunction\n"
   ]
  },
  {
   "cell_type": "markdown",
   "metadata": {
    "kernel": "Octave"
   },
   "source": [
    "<h3><strong>d) C&oacute;digo en Python</strong></h3>"
   ]
  },
  {
   "cell_type": "code",
   "execution_count": 18,
   "metadata": {
    "kernel": "Python 3"
   },
   "outputs": [],
   "source": [
    "import numpy as np\n",
    "\n",
    "\n",
    "def lu(X,B):\n",
    "    n=len(X)\n",
    "    L=np.eye(n)\n",
    "    U=X\n",
    "    \n",
    "    for i in range(1,n):\n",
    "\n",
    "        pivot =U[i-1][i-1]\n",
    "        pivotRow=U[i-1]\n",
    "        M=np.zeros((1, n-i))\n",
    "        m=M.size+1\n",
    "        for k in range(1,m):\n",
    "            try:\n",
    "                M[i-1][k-1]=(U[i + k -1][i-1] )/pivot\n",
    "            except:\n",
    "                M=(U[i + k -1][i-1] )/pivot\n",
    "        for k in range(1,m):\n",
    "            try:\n",
    "                U[i+k-1]=U[i+k-1] - (np.multiply(pivotRow,M[i-1][k-1]))\n",
    "                L[i+k-1][i-1]=M[i-1][k-1]\n",
    "            except:\n",
    "                U[i+k-1]=U[i+k-1] - (np.multiply(pivotRow,M))\n",
    "                L[i+k-1][i-1]=M\n",
    "                \n",
    "    Y=((np.linalg.inv(L)).dot(np.transpose(B)))\n",
    "    Xk=(np.linalg.inv(U)).dot( Y)\n",
    "\n",
    "    return Xk"
   ]
  },
  {
   "cell_type": "markdown",
   "metadata": {
    "kernel": "Python 3"
   },
   "source": [
    "<h3><strong>e) Ejemplo Num&eacute;rico</strong></h3>"
   ]
  },
  {
   "cell_type": "markdown",
   "metadata": {
    "kernel": "Python 3"
   },
   "source": [
    "Resuelva el siguiente sistema \n",
    "\n",
    "$\\begin{matrix}\n",
    "4x_{1}- & 2x_{2} &+x_{3}  & =11\\\\ \n",
    "20x_{1}- & 7x_{2} &+ 12x_{3} & =70\\\\ \n",
    "-8x_{1} +& 13x_{2} & +17x_{3} & =17\n",
    "\\end{matrix}$"
   ]
  },
  {
   "cell_type": "code",
   "execution_count": 16,
   "metadata": {
    "kernel": "Octave"
   },
   "outputs": [
    {
     "name": "stdout",
     "output_type": "stream",
     "text": [
      "L =\n",
      "\n",
      "   1   0   0\n",
      "   5   1   0\n",
      "  -2   3   1\n",
      "\n",
      "U =\n",
      "\n",
      "   4  -2   1\n",
      "   0   3   7\n",
      "   0   0  -2\n",
      "\n",
      "Xk =\n",
      "\n",
      "   1.0000\n",
      "  -2.0000\n",
      "   3.0000\n",
      "\n"
     ]
    }
   ],
   "source": [
    "[L,U,Xk]=lu([4 -2 1; 20 -7 12 ; -8 13 17],[11; 70; 17])"
   ]
  },
  {
   "cell_type": "code",
   "execution_count": 19,
   "metadata": {
    "kernel": "Python 3"
   },
   "outputs": [
    {
     "data": {
      "text/plain": [
       "array([ 1., -2.,  3.])"
      ]
     },
     "execution_count": 19,
     "metadata": {},
     "output_type": "execute_result"
    }
   ],
   "source": [
    "lu([[4, -2, 1],[20, -7, 12],[ -8, 13, 17]],[11, 70, 17])"
   ]
  },
  {
   "cell_type": "markdown",
   "metadata": {
    "kernel": "Python 3"
   },
   "source": [
    "<a id='biseccion'></a>\n",
    "<h2><span style=\"color: #993300;\"><span style=\"text-decoration: underline;\"><strong>M&eacute;todo 3:</strong> Factorización de Cholesky</span></span></h2>"
   ]
  },
  {
   "cell_type": "markdown",
   "metadata": {
    "kernel": "Python 3"
   },
   "source": [
    "<h3><strong>a) Formulaci&oacute;n Matem&aacute;tica</strong></h3>"
   ]
  },
  {
   "cell_type": "markdown",
   "metadata": {
    "kernel": "Python 3"
   },
   "source": [
    "\n",
    "$Ax=b$\n",
    "\n",
    "$LL^{T}x=b$\n",
    "\n",
    "$L \\in \\mathbb{R}^{nxn}$\n"
   ]
  },
  {
   "cell_type": "markdown",
   "metadata": {
    "kernel": "Python 3"
   },
   "source": [
    "<h3><strong>b) Valores Iniciales</strong></h3>"
   ]
  },
  {
   "cell_type": "markdown",
   "metadata": {
    "kernel": "Python 3"
   },
   "source": [
    "  <li>Matriz A de tamaño mxn simétrica positiva definida</li>\n",
    "  <li>Vector x de tamaño n</li>\n",
    "  <li>Vector b de tamaño m</li>"
   ]
  },
  {
   "cell_type": "markdown",
   "metadata": {
    "kernel": "Python 3"
   },
   "source": [
    "<h3><strong>c) Ventajas y Desvantajas</strong></h3>"
   ]
  },
  {
   "cell_type": "markdown",
   "metadata": {
    "kernel": "Python 3"
   },
   "source": [
    "<div class=\"alert alert-block alert-success row\">\n",
    "    <div class=\"column\">\n",
    "        <p>\n",
    "            <span style=\"text-decoration: underline;\">\n",
    "                <span style=\"text-decoration: underline;\">\n",
    "                    <strong>Ventajas:</strong>\n",
    "                </span>\n",
    "            </span>\n",
    "        </p>\n",
    "        <li>Siempre converge</li>\n",
    "        <li>Útil como aproximación inicial de otros métodos</li>\n",
    "    </div>\n",
    "    <div class =\"column\">\n",
    "        <p>\n",
    "            <span style=\"text-decoration: underline;\">\n",
    "                <span style=\"text-decoration: underline;\">\n",
    "                    <strong>Desventajas:</strong>\n",
    "                </span>\n",
    "            </span>\n",
    "        </p>\n",
    "        <li>Es complejo pues observe que para la obtencionn de la factorizacion LU se realiza la fase 1 del metodo de eliminacion gaussiana</li>\n",
    "        <li>Alta complejidad Computacional</li>\n",
    "    </div>\n",
    "</div>"
   ]
  },
  {
   "cell_type": "markdown",
   "metadata": {
    "kernel": "Python 3"
   },
   "source": [
    "<h3><strong>c) Pasos del m&eacute;todo (Pseudoc&oacute;digo)</strong></h3>"
   ]
  },
  {
   "cell_type": "markdown",
   "metadata": {
    "kernel": "Python 3"
   },
   "source": [
    "![](Choleski.PNG)"
   ]
  },
  {
   "cell_type": "markdown",
   "metadata": {
    "kernel": "Python 3"
   },
   "source": [
    "<h3><strong>d) C&oacute;digo en GNU Octave</strong></h3>"
   ]
  },
  {
   "cell_type": "code",
   "execution_count": 21,
   "metadata": {
    "kernel": "Octave"
   },
   "outputs": [],
   "source": [
    "function X = cholesky(A,b)\n",
    "  n = length(A);\n",
    "  L = zeros(n);\n",
    "  for i=1:n\n",
    "    for j=1:i\n",
    "      if j==i\n",
    "        sum = 0;\n",
    "        for k=1:j-1\n",
    "          sum = sum + L(j, k)^2;\n",
    "        endfor\n",
    "        L(j,j) = sqrt(A(j, j) - sum);\n",
    "      else\n",
    "        sum = 0;\n",
    "        for k=1:j-1\n",
    "          sum = sum + L(i, k)*L(j, k);\n",
    "        endfor  \n",
    "        L(i, j) = (1/L(j, j))*(A(i, j) - sum);\n",
    "      endif\n",
    "    endfor\n",
    "  endfor\n",
    "\n",
    "  X=inv(L*L')*b';\n",
    "endfunction"
   ]
  },
  {
   "cell_type": "markdown",
   "metadata": {
    "kernel": "Octave"
   },
   "source": [
    "<h3><strong>e) C&oacute;digo en Python</strong></h3>"
   ]
  },
  {
   "cell_type": "code",
   "execution_count": 25,
   "metadata": {
    "kernel": "Python 3"
   },
   "outputs": [],
   "source": [
    "import numpy as np\n",
    "from math import sqrt\n",
    "from pprint import pprint\n",
    " \n",
    "def cholesky(A,B):\n",
    "    \"\"\"Performs a Cholesky decomposition of A, which must \n",
    "    be a symmetric and positive definite matrix. The function\n",
    "    returns the lower variant triangular matrix, L.\"\"\"\n",
    "    n = len(A)\n",
    "\n",
    "    # Create zero matrix for L\n",
    "    L = [[0.0] * n for i in range(n)]\n",
    "\n",
    "    # Perform the Cholesky decomposition\n",
    "    for i in range(n):\n",
    "        for k in range(i+1):\n",
    "            tmp_sum = sum(L[i][j] * L[k][j] for j in range(k))\n",
    "            \n",
    "            if (i == k): # Diagonal elements\n",
    "                # LaTeX: l_{kk} = \\sqrt{ a_{kk} - \\sum^{k-1}_{j=1} l^2_{kj}}\n",
    "                L[i][k] = sqrt(A[i][i] - tmp_sum)\n",
    "            else:\n",
    "                # LaTeX: l_{ik} = \\frac{1}{l_{kk}} \\left( a_{ik} - \\sum^{k-1}_{j=1} l_{ij} l_{kj} \\right)\n",
    "                L[i][k] = (1.0 / L[k][k] * (A[i][k] - tmp_sum))\n",
    "    mul=L*np.transpose(L)\n",
    "    X=np.linalg.inv(mul).dot( np.transpose(B))\n",
    "    return X\n",
    " \n",
    "#cholesky([[25, 15, -5, -10] ,[ 15, 10, 1, -7], [-5, 1, 21, 4], [-10, -7, 4, 18]],[-5, -4, -5, -2])"
   ]
  },
  {
   "cell_type": "markdown",
   "metadata": {
    "kernel": "Python 3"
   },
   "source": [
    "<h3><strong>f) Ejemplo Num&eacute;rico</strong></h3>"
   ]
  },
  {
   "cell_type": "markdown",
   "metadata": {
    "kernel": "Python 3"
   },
   "source": [
    "Considere la matriz\n",
    "\n",
    "$A=\\left ( \\begin{matrix}\n",
    "25 & 15 & -5 &-10 \\\\ \n",
    "15 &10  &1  & -7\\\\ \n",
    " -5&  1&  21& 4\\\\ \n",
    " -10&  -7&  4& 18\n",
    "\\end{matrix} \\right )$\n",
    "\n",
    "Si $b=(-25 -19 -21 -5)^{t}$ entonces resuelva el sistema de\n",
    "ecuaciones lineales $Ax =b$"
   ]
  },
  {
   "cell_type": "code",
   "execution_count": 27,
   "metadata": {
    "kernel": "Octave"
   },
   "outputs": [
    {
     "name": "stdout",
     "output_type": "stream",
     "text": [
      "L =\n",
      "\n",
      "  -1.00000\n",
      "  -1.00000\n",
      "  -1.00000\n",
      "  -1.00000\n",
      "\n"
     ]
    }
   ],
   "source": [
    "L=cholesky([25 15 -5 -10 ; 15 10 1 -7; -5 1 21 4; -10 -7 4 18],[-25 -19 -21 -5])"
   ]
  },
  {
   "cell_type": "code",
   "execution_count": 28,
   "metadata": {
    "kernel": "Python 3"
   },
   "outputs": [
    {
     "data": {
      "text/plain": [
       "array([ -1.  , -19.  ,  -5.25,  -1.25])"
      ]
     },
     "execution_count": 28,
     "metadata": {},
     "output_type": "execute_result"
    }
   ],
   "source": [
    "cholesky([[25, 15, -5, -10] ,[ 15, 10, 1, -7], [-5, 1, 21, 4], [-10, -7, 4, 18]],[-25, -19, -21, -5])"
   ]
  },
  {
   "cell_type": "code",
   "execution_count": null,
   "metadata": {
    "kernel": "Python 3"
   },
   "outputs": [],
   "source": []
  }
 ],
 "metadata": {
  "kernelspec": {
   "display_name": "SoS",
   "language": "sos",
   "name": "sos"
  },
  "language_info": {
   "codemirror_mode": "sos",
   "file_extension": ".sos",
   "mimetype": "text/x-sos",
   "name": "sos",
   "nbconvert_exporter": "sos_notebook.converter.SoS_Exporter",
   "pygments_lexer": "sos"
  },
  "sos": {
   "kernels": [
    [
     "Octave",
     "octave",
     "octave",
     "",
     ""
    ],
    [
     "Python 3",
     "python3",
     "python3",
     "",
     {
      "name": "ipython",
      "version": 3
     }
    ]
   ],
   "panel": {
    "displayed": true,
    "height": 0
   },
   "version": "0.21.7"
  }
 },
 "nbformat": 4,
 "nbformat_minor": 2
}
