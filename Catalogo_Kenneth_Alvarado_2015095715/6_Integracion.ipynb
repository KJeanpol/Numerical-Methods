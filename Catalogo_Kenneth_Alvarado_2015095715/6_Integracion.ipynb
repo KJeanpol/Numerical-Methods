{
 "cells": [
  {
   "cell_type": "markdown",
   "metadata": {
    "kernel": "SoS"
   },
   "source": [
    "<h1 style=\"text-align: center;\"><strong>6. Integración Numérica</strong></h1>"
   ]
  },
  {
   "cell_type": "markdown",
   "metadata": {
    "kernel": "SoS"
   },
   "source": [
    "<h2><span style=\"color: #993300;\"><span style=\"text-decoration: underline;\"><strong>M&eacute;todo 1:</strong> Regla del Trapecio</span></span></h2>"
   ]
  },
  {
   "cell_type": "markdown",
   "metadata": {
    "kernel": "SoS"
   },
   "source": [
    "<h3><strong>a) Formulaci&oacute;n Matem&aacute;tica</strong></h3>"
   ]
  },
  {
   "cell_type": "markdown",
   "metadata": {
    "kernel": "SoS"
   },
   "source": [
    "Sea $f(x)$ una función 2 veces derivable en el intervalo $[a,b]$. Entonces la regla del trapecio se define como\n",
    "\n",
    "$$\\int_{a}^{b}f(x)dx\\approx \\frac{h}{2}(f(a)+f(b))$$\n",
    "\n",
    "donde $h=b-a$"
   ]
  },
  {
   "cell_type": "markdown",
   "metadata": {
    "kernel": "SoS"
   },
   "source": [
    "<h3><strong>b) Valores Iniciales</strong></h3>"
   ]
  },
  {
   "cell_type": "markdown",
   "metadata": {
    "kernel": "SoS"
   },
   "source": [
    "  <li>Intervalo de intregración</li>"
   ]
  },
  {
   "cell_type": "markdown",
   "metadata": {
    "kernel": "SoS"
   },
   "source": [
    "<h3><strong>c) Ventajas y Desvantajas</strong></h3>"
   ]
  },
  {
   "cell_type": "markdown",
   "metadata": {
    "kernel": "SoS"
   },
   "source": [
    "<div class=\"alert alert-block alert-success row\">\n",
    "    <div class=\"column\">\n",
    "        <p>\n",
    "            <span style=\"text-decoration: underline;\">\n",
    "                <span style=\"text-decoration: underline;\">\n",
    "                    <strong>Ventajas:</strong>\n",
    "                </span>\n",
    "            </span>\n",
    "        </p>\n",
    "        <li>Cuando se desea calcular una integral definida que contiene una función cuya primitiva no podemos hallar, entonces no se puede aplicar el teorema fundamental del cálculo y es aquí cuando se debe recurrir a una técnica de aproximación. </li>\n",
    "        <li>Se aplica este método en su forma simple para calcular numéricamente aproximaciones de algunas integrales definidas. </li>\n",
    "        <li>Se utiliza para obtener el área total de una integral definida </li>\n",
    "        <li>Es a su vez fácil de aplicar a casi cualquier función integrable.</li>\n",
    "    </div>\n",
    "    <div class =\"column\">\n",
    "        <p>\n",
    "            <span style=\"text-decoration: underline;\">\n",
    "                <span style=\"text-decoration: underline;\">\n",
    "                    <strong>Desventajas:</strong>\n",
    "                </span>\n",
    "            </span>\n",
    "        </p>\n",
    "        <li>Convergencia Lenta</li>\n",
    "        <li>En ciertas ocasiones nos encontramos con funciones para las que no podemos hallar una primitiva. </li>\n",
    "        <li>También ocurre que alguna funciones elementales simplemente no tienen primitivas que al igual sean funciones elementales que podamos calcular. </li>\n",
    "        <li>Es imprecisa en comparación con otros métodos de aproximación numérica, ya que su truncamiento es mucho mayor comparándolos condichos métodos. </li>\n",
    "        <li>Gran cantidad de integrales de funciones básicas no puede ser expresada en función a ellas. </li>\n",
    "    </div>\n",
    "</div>"
   ]
  },
  {
   "cell_type": "markdown",
   "metadata": {
    "kernel": "SoS"
   },
   "source": [
    "<h3><strong>c) Pasos del m&eacute;todo (Pseudoc&oacute;digo)</strong></h3>"
   ]
  },
  {
   "cell_type": "markdown",
   "metadata": {
    "kernel": "SoS"
   },
   "source": [
    "![](trapecio.PNG)"
   ]
  },
  {
   "cell_type": "markdown",
   "metadata": {
    "kernel": "SoS"
   },
   "source": [
    "<h3><strong>d) C&oacute;digo en GNU Octave</strong></h3>"
   ]
  },
  {
   "cell_type": "code",
   "execution_count": 5,
   "metadata": {
    "kernel": "Octave"
   },
   "outputs": [],
   "source": [
    "function [integral, error] = trapezoid(f,a, b)\n",
    "  syms x\n",
    "  df = diff(f,2);\n",
    "  df=function_handle(df);\n",
    "  dfa=abs(df(a));\n",
    "  dfb=abs(df(b));\n",
    "  f = function_handle(f);\n",
    "  h = (b - a);\n",
    "  integral = (h/2) * (f(a)+ f(b));\n",
    "  if (dfa>dfb)\n",
    "    error=((h**3)/12)*dfa;\n",
    "  else\n",
    "    error=((h**3)/12)*dfb;\n",
    "  endif\n",
    "endfunction\n"
   ]
  },
  {
   "cell_type": "markdown",
   "metadata": {
    "kernel": "SoS"
   },
   "source": [
    "<h3><strong>e) C&oacute;digo en Python</strong></h3>"
   ]
  },
  {
   "cell_type": "code",
   "execution_count": 19,
   "metadata": {
    "kernel": "Python 3"
   },
   "outputs": [],
   "source": [
    "from sympy import *\n",
    "import numpy as np\n",
    "\n",
    "x = symbols('x')\n",
    "\n",
    "\n",
    "def trapezoid(f, a,b):\n",
    "    f = sympify(f)\n",
    "    fd = diff(f, x,x)\n",
    "    fdda=np.absolute(fd.subs(x, a))\n",
    "    fddb=np.absolute(fd.subs(x, b))\n",
    "    h=b-a\n",
    "    integral= (h/2)*(f.subs(x, a)+f.subs(x, b))\n",
    "    if (fdda>fddb):\n",
    "        error= ((h**3)/12)*fdda\n",
    "    else:\n",
    "        error= ((h**3)/12)*fddb\n",
    "    \n",
    "    return [round(float(integral),4),round(error,4)]"
   ]
  },
  {
   "cell_type": "markdown",
   "metadata": {
    "kernel": "SoS"
   },
   "source": [
    "<h3><strong>f) Ejemplo Num&eacute;rico</strong></h3>"
   ]
  },
  {
   "cell_type": "markdown",
   "metadata": {
    "kernel": "SoS"
   },
   "source": [
    "Sea $f(x)=ln(x)$. Aproxime el valor d ela integral de $f$ en el intervalo $[2,5]$, utilizando la regla del trapecio. Calcule el error respectivo."
   ]
  },
  {
   "cell_type": "code",
   "execution_count": 20,
   "metadata": {
    "kernel": "Octave"
   },
   "outputs": [
    {
     "name": "stdout",
     "output_type": "stream",
     "text": [
      "Integral =  3.4539\n",
      "Error =  0.56250\n"
     ]
    }
   ],
   "source": [
    "pkg load symbolic\n",
    "syms x\n",
    "[Integral,Error]=trapezoid(log(x),2,5)"
   ]
  },
  {
   "cell_type": "code",
   "execution_count": 21,
   "metadata": {
    "kernel": "Python 3"
   },
   "outputs": [
    {
     "data": {
      "text/plain": [
       "[3.4539, 0.5625]"
      ]
     },
     "execution_count": 21,
     "metadata": {},
     "output_type": "execute_result"
    }
   ],
   "source": [
    "trapezoid(\"ln(x)\",2,5)"
   ]
  },
  {
   "cell_type": "markdown",
   "metadata": {
    "kernel": "Python 3"
   },
   "source": [
    "<h2><span style=\"color: #993300;\"><span style=\"text-decoration: underline;\"><strong>M&eacute;todo 1:</strong> Regla de Simpson</span></span></h2>"
   ]
  },
  {
   "cell_type": "markdown",
   "metadata": {
    "kernel": "Python 3"
   },
   "source": [
    "<h3><strong>a) Formulaci&oacute;n Matem&aacute;tica</strong></h3>"
   ]
  },
  {
   "cell_type": "markdown",
   "metadata": {
    "kernel": "Python 3"
   },
   "source": [
    "Sea $f(x)$ una función 4 veces derivable en el intervalo $[a,b]$. Sea\n",
    "$x_{0}=a$, $x_{1}=\\frac{a+b}{2}$ y $x_{2}=b$, entonces se define la regla se Simpson como\n",
    "\n",
    "\n",
    "$$\\int_{a}^{b}f(x)dx\\approx \\frac{h}{3}[(f(x_{0})+4f(x_{1})+f(x_{2})]$$\n",
    "\n",
    "donde $h=\\frac{b-a}{2}$\n"
   ]
  },
  {
   "cell_type": "markdown",
   "metadata": {
    "kernel": "Python 3"
   },
   "source": [
    "<h3><strong>b) Valores Iniciales</strong></h3>"
   ]
  },
  {
   "cell_type": "markdown",
   "metadata": {
    "kernel": "Python 3"
   },
   "source": [
    "  <li>Intervalo de intregración</li>"
   ]
  },
  {
   "cell_type": "markdown",
   "metadata": {
    "kernel": "Python 3"
   },
   "source": [
    "<h3><strong>c) Ventajas y Desvantajas</strong></h3>"
   ]
  },
  {
   "cell_type": "markdown",
   "metadata": {
    "kernel": "Python 3"
   },
   "source": [
    "<div class=\"alert alert-block alert-success row\">\n",
    "    <div class=\"column\">\n",
    "        <p>\n",
    "            <span style=\"text-decoration: underline;\">\n",
    "                <span style=\"text-decoration: underline;\">\n",
    "                    <strong>Ventajas:</strong>\n",
    "                </span>\n",
    "            </span>\n",
    "        </p>\n",
    "        <li> Una ventaja del método es que es directo, es decir, que no necesita iteraciones para llegar a su resultado.</li>\n",
    "        <li>Para la identificación de datos correctos en la integral aproximada se efectúa por lo menos integraciones con distinto número de sub-intervalos.</li>\n",
    "        <li> Proporciona resultados exactos para polinomios cúbicos aun cuando se derive de una parábola, es decir, tiene una precisión de tercer orden aun cuando se base en solo tres puntos.</li>\n",
    "        <li>Este método se adapta a la mayoría de las formas polinomial de orden 2  </li>\n",
    " <li>Su integración está basada en un número de segmentos de igual ancho</li>\n",
    "        <li> Es más preciso que el método del trapecio compuesto, ya que tiende a una solución más exacta y de forma más rápida.  </li>\n",
    "    </div>\n",
    "    <div class =\"column\">\n",
    "        <p>\n",
    "            <span style=\"text-decoration: underline;\">\n",
    "                <span style=\"text-decoration: underline;\">\n",
    "                    <strong>Desventajas:</strong>\n",
    "                </span>\n",
    "            </span>\n",
    "        </p>\n",
    "<li> El método se aplica si y solo si cumple con las condiciones específicas que este requiere, de lo contrario en las funciones que no cumplan con las mismas, no se podrán realizar.  </li>\n",
    "        <li> Trabaja con dos grandes secciones, y a su vez con dos márgenes de acotación.  </li>\n",
    "      <li>Ajusta cada uno de los segmentos al grado del polinomio dado </li>\n",
    "        <li>Es restringido ya que N tiene que ser par.  </li>\n",
    "        <li>Es una sucesión de curva que es amoldada a la forma de la función.</li>\n",
    "        <li>Hay que tomar en cuenta que si a, b, es decir, los limites inferior y superior no son suficientemente pequeños el grado de error, en este caso, podría ser muy grande  </li>\n",
    "    </div>\n",
    "</div>"
   ]
  },
  {
   "cell_type": "markdown",
   "metadata": {
    "kernel": "Python 3"
   },
   "source": [
    "<h3><strong>c) Pasos del m&eacute;todo (Pseudoc&oacute;digo)</strong></h3>"
   ]
  },
  {
   "cell_type": "markdown",
   "metadata": {
    "kernel": "Python 3"
   },
   "source": [
    "![](simpson.PNG)"
   ]
  },
  {
   "cell_type": "markdown",
   "metadata": {
    "kernel": "Python 3"
   },
   "source": [
    "<h3><strong>d) C&oacute;digo en GNU Octave</strong></h3>"
   ]
  },
  {
   "cell_type": "code",
   "execution_count": 15,
   "metadata": {
    "kernel": "Octave"
   },
   "outputs": [],
   "source": [
    "function [integral, error] = simpson(f,a, b)\n",
    "  syms x\n",
    "  df = diff(f,4);\n",
    "  df=function_handle(df);\n",
    "  dfa=abs(df(a));\n",
    "  dfb=abs(df(b));\n",
    "  f = function_handle(f);\n",
    "  x0=a;\n",
    "  x1=(a+b)/2;\n",
    "  x2=b;\n",
    "  h = (b - a)/2;\n",
    "  integral = (h/3) * (f(x0)+ 4*f(x1)+f(x2));\n",
    "  if (dfa>dfb)\n",
    "    error=((h**5)/90)*dfa;\n",
    "  else\n",
    "    error=((h**5)/90)*dfb;\n",
    "  endif\n",
    "endfunction\n"
   ]
  },
  {
   "cell_type": "markdown",
   "metadata": {
    "kernel": "Python 3"
   },
   "source": [
    "<h3><strong>e) C&oacute;digo en Python</strong></h3>"
   ]
  },
  {
   "cell_type": "code",
   "execution_count": 17,
   "metadata": {
    "kernel": "Python 3"
   },
   "outputs": [],
   "source": [
    "from sympy import *\n",
    "import numpy as np\n",
    "\n",
    "x = symbols('x')\n",
    "\n",
    "\n",
    "def simpson(f, a,b):\n",
    "    f = sympify(f)\n",
    "    fd = diff(f, x,x,x,x)\n",
    "    fdda=np.absolute(fd.subs(x, a))\n",
    "    fddb=np.absolute(fd.subs(x, b))\n",
    "    h=(b-a)/2\n",
    "    x0=a\n",
    "    x1=(a+b)/2\n",
    "    x2=b\n",
    "    integral= (h/3)*(f.subs(x, x0)+4*f.subs(x, x1)+f.subs(x, x2))\n",
    "    if (fdda>fddb):\n",
    "        error= ((h**5)/90)*fdda\n",
    "    else:\n",
    "        error= ((h**5)/90)*fddb\n",
    "    \n",
    "    return [round(float(integral),4),round(error,4)]\n"
   ]
  },
  {
   "cell_type": "markdown",
   "metadata": {
    "kernel": "Python 3"
   },
   "source": [
    "<h3><strong>f) Ejemplo Num&eacute;rico</strong></h3>"
   ]
  },
  {
   "cell_type": "markdown",
   "metadata": {
    "kernel": "Python 3"
   },
   "source": [
    "Sea $f(x)=ln(x)$. Aproxime el valor d ela integral de $f$ en el intervalo $[2,5]$, utilizando la regla de Simpson. Calcule el error respectivo."
   ]
  },
  {
   "cell_type": "code",
   "execution_count": 16,
   "metadata": {
    "kernel": "Octave"
   },
   "outputs": [
    {
     "name": "stdout",
     "output_type": "stream",
     "text": [
      "Integral =  3.6568\n",
      "Error =  0.031641\n"
     ]
    }
   ],
   "source": [
    "pkg load symbolic\n",
    "syms x\n",
    "[Integral,Error]=simpson(log(x),2,5)"
   ]
  },
  {
   "cell_type": "code",
   "execution_count": 18,
   "metadata": {
    "kernel": "Python 3"
   },
   "outputs": [
    {
     "data": {
      "text/plain": [
       "[3.6568, 0.0316]"
      ]
     },
     "execution_count": 18,
     "metadata": {},
     "output_type": "execute_result"
    }
   ],
   "source": [
    "simpson(\"ln(x)\",2,5)"
   ]
  }
 ],
 "metadata": {
  "kernelspec": {
   "display_name": "SoS",
   "language": "sos",
   "name": "sos"
  },
  "language_info": {
   "codemirror_mode": "sos",
   "file_extension": ".sos",
   "mimetype": "text/x-sos",
   "name": "sos",
   "nbconvert_exporter": "sos_notebook.converter.SoS_Exporter",
   "pygments_lexer": "sos"
  },
  "sos": {
   "kernels": [
    [
     "Octave",
     "octave",
     "octave",
     "",
     ""
    ],
    [
     "Python 3",
     "python3",
     "python3",
     "",
     {
      "name": "ipython",
      "version": 3
     }
    ]
   ],
   "panel": {
    "displayed": true,
    "height": 0
   },
   "version": "0.21.7"
  }
 },
 "nbformat": 4,
 "nbformat_minor": 2
}
