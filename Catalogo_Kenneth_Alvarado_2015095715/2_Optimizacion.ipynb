{
 "cells": [
  {
   "cell_type": "markdown",
   "metadata": {
    "kernel": "SoS"
   },
   "source": [
    "<h1 style=\"text-align: center;\"><strong>1. Soluci&oacute;n de Ecuaciones No Lineales</strong></h1>"
   ]
  },
  {
   "cell_type": "markdown",
   "metadata": {
    "kernel": "SoS"
   },
   "source": [
    "<a id='biseccion'></a>\n",
    "<h2><span style=\"color: #993300;\"><span style=\"text-decoration: underline;\"><strong>M&eacute;todo 1:</strong> Encontrar el Gradiente</span></span></h2>"
   ]
  },
  {
   "cell_type": "markdown",
   "metadata": {
    "kernel": "SoS"
   },
   "source": [
    "<h3><strong>a) Formulaci&oacute;n Matem&aacute;tica</strong></h3>"
   ]
  },
  {
   "cell_type": "markdown",
   "metadata": {
    "kernel": "SoS"
   },
   "source": [
    "\n",
    "$\\begin{equation}\n",
    "I_{k+1} = \\left[a_{k+1},b_{k+1}\\right] = \\left\\{ \\begin{array}{lcc}\n",
    "            \\left[a_{k},x_{k}\\right] &   si  & f(a_{k})f(x_{k}) < 0 \\\\\n",
    "             \\left[x_{k},b_{k}\\right] &   si  & f(a_{k})f(x_{k}) > 0\n",
    "             \\end{array}\n",
    "   \\right.\n",
    "\\end{equation}$\n"
   ]
  },
  {
   "cell_type": "markdown",
   "metadata": {
    "kernel": "SoS"
   },
   "source": [
    "<h3><strong>b) Valores Iniciales</strong></h3>"
   ]
  },
  {
   "cell_type": "markdown",
   "metadata": {
    "kernel": "SoS"
   },
   "source": [
    "\n",
    "$\\begin{equation}\n",
    "    \\left[a,b\\right] \\hspace{0.2cm} y \\hspace{0.2cm} f(x) \\hspace{0.2cm} continua\n",
    "\\end{equation}$"
   ]
  },
  {
   "cell_type": "markdown",
   "metadata": {
    "kernel": "SoS"
   },
   "source": [
    "<h3><strong>c) Ventajas y Desvantajas</strong></h3>"
   ]
  },
  {
   "cell_type": "markdown",
   "metadata": {
    "kernel": "SoS"
   },
   "source": [
    "<div class=\"alert alert-block alert-success row\">\n",
    "    <div class=\"column\">\n",
    "        <p>\n",
    "            <span style=\"text-decoration: underline;\">\n",
    "                <span style=\"text-decoration: underline;\">\n",
    "                    <strong>Ventajas:</strong>\n",
    "                </span>\n",
    "            </span>\n",
    "        </p>\n",
    "        <li>Siempre converge</li>\n",
    "        <li>Útil como aproximación inicial de otros métodos</li>\n",
    "    </div>\n",
    "    <div class =\"column\">\n",
    "        <p>\n",
    "            <span style=\"text-decoration: underline;\">\n",
    "                <span style=\"text-decoration: underline;\">\n",
    "                    <strong>Desventajas:</strong>\n",
    "                </span>\n",
    "            </span>\n",
    "        </p>\n",
    "        <li>Convergencia Lenta</li>\n",
    "        <li>No tiene en cuenta la magnitud d elos valores de la función en las aproximaciones calculadas, solo tiene en cuneta el sifgno de f(x), por lo que hace que una aproximación intermedia, mejor que la respuesta final, pase desapercibida  </li>\n",
    "    </div>\n",
    "</div>"
   ]
  },
  {
   "cell_type": "markdown",
   "metadata": {
    "kernel": "SoS"
   },
   "source": [
    "<h3><strong>d) Pasos del m&eacute;todo (Pseudoc&oacute;digo)</strong></h3>"
   ]
  },
  {
   "cell_type": "markdown",
   "metadata": {
    "kernel": "SoS"
   },
   "source": [
    "![](bpseu.JPG)"
   ]
  },
  {
   "cell_type": "markdown",
   "metadata": {
    "kernel": "SoS"
   },
   "source": [
    "<h3><strong>e) C&oacute;digo en GNU Octave</strong></h3>"
   ]
  },
  {
   "cell_type": "code",
   "execution_count": null,
   "metadata": {
    "kernel": "Octave"
   },
   "outputs": [],
   "source": []
  },
  {
   "cell_type": "markdown",
   "metadata": {
    "kernel": "Python 3"
   },
   "source": [
    "<h3><strong>f) C&oacute;digo en Python</strong></h3>"
   ]
  },
  {
   "cell_type": "code",
   "execution_count": null,
   "metadata": {
    "kernel": "Python 3"
   },
   "outputs": [],
   "source": []
  },
  {
   "cell_type": "markdown",
   "metadata": {
    "kernel": "Octave"
   },
   "source": [
    "<h3><strong>g) Ejemplo Num&eacute;rico</strong></h3>"
   ]
  },
  {
   "cell_type": "markdown",
   "metadata": {
    "kernel": "Octave"
   },
   "source": [
    "Utilice el método de bisección para aproximar la solucion de la ecuación $e^{x}-x-2=0$, en el intervalo $[0,2]$ para una tolerancia de $1x10^{-4}$. El resultado de la operación se da con 8 iteraciones y la aproximacion es $x_7 = 1.1484375$ "
   ]
  },
  {
   "cell_type": "code",
   "execution_count": null,
   "metadata": {
    "kernel": "Octave"
   },
   "outputs": [],
   "source": [
    "% Solución del ejemplo utilizando GNU Octave\n",
    "a=0;\n",
    "b=2;\n",
    "iterMax=50;\n",
    "tolerancia=1*(10**-4)\n",
    "[x,k,error]=biseccion3('exp(x)-x-2',a,b,tolerancia,iterMax)"
   ]
  },
  {
   "cell_type": "code",
   "execution_count": null,
   "metadata": {
    "kernel": "Python 3"
   },
   "outputs": [],
   "source": [
    "# Solución del ejemplo utilizando GNU Octave\n",
    "a=0;\n",
    "b=2;\n",
    "iterMax=50;\n",
    "tolerancia=1*(10**-4)\n",
    "biseccion3('exp(x)-x-2',a,b,tolerancia,iterMax)"
   ]
  }
 ],
 "metadata": {
  "kernelspec": {
   "display_name": "SoS",
   "language": "sos",
   "name": "sos"
  },
  "language_info": {
   "codemirror_mode": "sos",
   "file_extension": ".sos",
   "mimetype": "text/x-sos",
   "name": "sos",
   "nbconvert_exporter": "sos_notebook.converter.SoS_Exporter",
   "pygments_lexer": "sos"
  },
  "sos": {
   "kernels": [
    [
     "Octave",
     "octave",
     "octave",
     "",
     ""
    ],
    [
     "Python 3",
     "python3",
     "python3",
     "",
     ""
    ]
   ],
   "panel": {
    "displayed": true,
    "height": 0
   },
   "version": "0.21.7"
  }
 },
 "nbformat": 4,
 "nbformat_minor": 2
}
