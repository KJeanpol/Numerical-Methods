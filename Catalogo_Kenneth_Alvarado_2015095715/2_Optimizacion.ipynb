{
 "cells": [
  {
   "cell_type": "markdown",
   "metadata": {
    "kernel": "SoS"
   },
   "source": [
    "<h1 style=\"text-align: center;\"><strong>1. Soluci&oacute;n de Ecuaciones No Lineales</strong></h1>"
   ]
  },
  {
   "cell_type": "markdown",
   "metadata": {
    "kernel": "SoS"
   },
   "source": [
    "<a id='biseccion'></a>\n",
    "<h2><span style=\"color: #993300;\"><span style=\"text-decoration: underline;\"><strong>M&eacute;todo 1:</strong> Encontrar el Gradiente</span></span></h2>"
   ]
  },
  {
   "cell_type": "markdown",
   "metadata": {
    "kernel": "SoS"
   },
   "source": [
    "<h3><strong>a) Formulaci&oacute;n Matem&aacute;tica</strong></h3>"
   ]
  },
  {
   "cell_type": "markdown",
   "metadata": {
    "kernel": "SoS"
   },
   "source": [
    "\n",
    "\n",
    "\n",
    "$\\bigtriangledown f(x_0,y_0,.....)=\\begin{bmatrix}\n",
    "\\frac{df}{dx}(x_0,y_0,.....) \\\\ \\frac{df}{dy}(x_0,y_0,.....)  \\\\ . \\\\ .\\\\ .\n",
    "\\end{bmatrix} $\n",
    "\n"
   ]
  },
  {
   "cell_type": "markdown",
   "metadata": {
    "kernel": "SoS"
   },
   "source": [
    "<h3><strong>b) Valores Iniciales</strong></h3>"
   ]
  },
  {
   "cell_type": "markdown",
   "metadata": {
    "kernel": "SoS"
   },
   "source": [
    "$\\bigtriangledown f(x_0,y_0,.....)=$ Funcion de N variables a encontrar derivadas parciales"
   ]
  },
  {
   "cell_type": "markdown",
   "metadata": {
    "kernel": "SoS"
   },
   "source": [
    "<h3><strong>c) Pasos del m&eacute;todo (Pseudoc&oacute;digo)</strong></h3>"
   ]
  },
  {
   "cell_type": "markdown",
   "metadata": {
    "kernel": "SoS"
   },
   "source": [
    "![](gradiente.JPG)"
   ]
  },
  {
   "cell_type": "markdown",
   "metadata": {
    "kernel": "SoS"
   },
   "source": [
    "<h3><strong>d) C&oacute;digo en GNU Octave</strong></h3>"
   ]
  },
  {
   "cell_type": "code",
   "execution_count": 8,
   "metadata": {
    "kernel": "Octave"
   },
   "outputs": [],
   "source": [
    "function gradienteR=gradiente(funcion,variables)\n",
    "  pkg load symbolic\n",
    "  for n=1: length(variables)\n",
    "    p=variables(n);\n",
    "    syms p;\n",
    "  endfor\n",
    "  gradienteR = gradient(funcion, variables);\n",
    "endfunction"
   ]
  },
  {
   "cell_type": "markdown",
   "metadata": {
    "kernel": "Python 3"
   },
   "source": [
    "<h3><strong>e) C&oacute;digo en Python</strong></h3>"
   ]
  },
  {
   "cell_type": "code",
   "execution_count": 9,
   "metadata": {
    "kernel": "Python 3"
   },
   "outputs": [],
   "source": [
    "from sympy import sympify as sy\n",
    "from sympy import symbols as symb\n",
    "from sympy import *\n",
    "def gradiente(funcion,variables):\n",
    "    f=\"\"\n",
    "    for var in variables:\n",
    "        f=f+str(diff(funcion, symb(var)))+\" + \"\n",
    "    print(f[:-3])       "
   ]
  },
  {
   "cell_type": "markdown",
   "metadata": {
    "kernel": "Octave"
   },
   "source": [
    "<h3><strong>e) Ejemplo Num&eacute;rico</strong></h3>"
   ]
  },
  {
   "cell_type": "markdown",
   "metadata": {
    "kernel": "Octave"
   },
   "source": [
    "Encontrar el gradiente de la función $f=x^{2}+xy$"
   ]
  },
  {
   "cell_type": "code",
   "execution_count": 10,
   "metadata": {
    "kernel": "Octave",
    "scrolled": true
   },
   "outputs": [
    {
     "name": "stdout",
     "output_type": "stream",
     "text": [
      "\"perl\" no se reconoce como un comando interno o externo,\n",
      "programa o archivo por lotes ejecutable.\n",
      "error: 'syms' undefined near line 2 column 1\n",
      "error: 'x' undefined near line 1 column 25\n"
     ]
    }
   ],
   "source": [
    "% Solución del ejemplo utilizando GNU Octave\n",
    "syms x y\n",
    "[gradienteR]=gradiente((x^2)-x*y,[x,y])"
   ]
  },
  {
   "cell_type": "code",
   "execution_count": 11,
   "metadata": {
    "kernel": "Python 3"
   },
   "outputs": [
    {
     "name": "stdout",
     "output_type": "stream",
     "text": [
      "2*x - y + -x\n"
     ]
    }
   ],
   "source": [
    "#Solución del ejemplo utilizando GNU Octave\n",
    "gradiente(\"(x**2)-x*y\",[\"x\",\"y\"])"
   ]
  },
  {
   "cell_type": "markdown",
   "metadata": {
    "kernel": "Python 3"
   },
   "source": [
    "<a id='biseccion'></a>\n",
    "<h2><span style=\"color: #993300;\"><span style=\"text-decoration: underline;\"><strong>M&eacute;todo 2:</strong> Descenso Coordinado</span></span></h2>"
   ]
  },
  {
   "cell_type": "markdown",
   "metadata": {
    "kernel": "Python 3"
   },
   "source": [
    "<h3><strong>a) Formulaci&oacute;n Matem&aacute;tica</strong></h3>"
   ]
  },
  {
   "cell_type": "markdown",
   "metadata": {
    "kernel": "Python 3"
   },
   "source": [
    "$    x_{j}^{k} = arg min_{x \\epsilon R} f(x_{1}^{k}, .., x_{j}^{k}, x_{n}^{k-1}) , j = 1, 2, 3, .... $\n",
    "\n"
   ]
  },
  {
   "cell_type": "markdown",
   "metadata": {
    "kernel": "Python 3"
   },
   "source": [
    "<h3><strong>b) Valores Iniciales</strong></h3>"
   ]
  },
  {
   "cell_type": "markdown",
   "metadata": {
    "kernel": "Python 3"
   },
   "source": [
    "Par ordenado $(x_0,y_0)$"
   ]
  },
  {
   "cell_type": "markdown",
   "metadata": {
    "kernel": "Python 3"
   },
   "source": [
    "<h3><strong>c) Ventajas y Desvantajas</strong></h3>"
   ]
  },
  {
   "cell_type": "markdown",
   "metadata": {
    "kernel": "Python 3"
   },
   "source": [
    "<div class=\"alert alert-block alert-success row\">\n",
    "    <div class=\"column\">\n",
    "        <p>\n",
    "            <span style=\"text-decoration: underline;\">\n",
    "                <span style=\"text-decoration: underline;\">\n",
    "                    <strong>Ventajas:</strong>\n",
    "                </span>\n",
    "            </span>\n",
    "        </p>\n",
    "        <li>Siempre converge</li>\n",
    "        <li>Útil como aproximación inicial de otros métodos</li>\n",
    "    </div>\n",
    "    <div class =\"column\">\n",
    "        <p>\n",
    "            <span style=\"text-decoration: underline;\">\n",
    "                <span style=\"text-decoration: underline;\">\n",
    "                    <strong>Desventajas:</strong>\n",
    "                </span>\n",
    "            </span>\n",
    "        </p>\n",
    "        <li>División entre cero.</li>\n",
    "        <li>. La obtención de la solución depende de la condición del sistema. En sentido matemático, los sistemas bien condicionados son aquellos en los que un cambio en uno o más coeficientes provoca un cambio similar en la solución. Los sistemas mal condicionados son aquellos en los que cambios pequeños en los coeficientes provocan cambios grandes en la solución</li>\n",
    "    </div>\n",
    "</div>"
   ]
  },
  {
   "cell_type": "markdown",
   "metadata": {
    "kernel": "Python 3"
   },
   "source": [
    "<h3><strong>c) Pasos del m&eacute;todo (Pseudoc&oacute;digo)</strong></h3>"
   ]
  },
  {
   "cell_type": "markdown",
   "metadata": {
    "kernel": "Python 3"
   },
   "source": [
    "![](DescendoCoordinado.PNG)"
   ]
  },
  {
   "cell_type": "markdown",
   "metadata": {
    "kernel": "Python 3"
   },
   "source": [
    "<h3><strong>d) C&oacute;digo en GNU Octave</strong></h3>"
   ]
  },
  {
   "cell_type": "code",
   "execution_count": 23,
   "metadata": {
    "kernel": "Octave"
   },
   "outputs": [],
   "source": [
    "\n",
    "function [x_aprox, iter] = descenso_coordinado(func, vars, xk, tol)\n",
    "  n = length(vars);\n",
    "  ite = 0;\n",
    "  while 1\n",
    "      xk_aux = xk;\n",
    "      v = 1;\n",
    "      while v != n + 1\n",
    "        ec_k = func;\n",
    "         j = 1;\n",
    "        while j != n + 1\n",
    "          if j != v;\n",
    "            vars(j);\n",
    "            xk(j);\n",
    "            ec_k = subs(ec_k, vars(j), xk(j));\n",
    "          endif\n",
    "          j = j + 1;\n",
    "        endwhile\n",
    "        fv = matlabFunction(ec_k);\n",
    "        min = fminsearch(fv, 0);\n",
    "        xk(v) = min;\n",
    "        v = v + 1;\n",
    "      endwhile\n",
    "      cond = xk - xk_aux;\n",
    "      norma = norm(cond, 2);\n",
    "      if norma < tol\n",
    "        break\n",
    "      else\n",
    "        ite = ite + 1;\n",
    "      endif\n",
    "  endwhile\n",
    "  x_aprox = xk;\n",
    "  iter = ite;\n",
    "endfunction\n"
   ]
  },
  {
   "cell_type": "markdown",
   "metadata": {
    "kernel": "Octave"
   },
   "source": [
    "<h3><strong>e) C&oacute;digo en Python</strong></h3>"
   ]
  },
  {
   "cell_type": "code",
   "execution_count": 32,
   "metadata": {
    "kernel": "Python 3"
   },
   "outputs": [],
   "source": [
    "from sympy import *\n",
    "from scipy import optimize\n",
    "import numpy as np\n",
    "\n",
    "def descenso_coordinado(f, vars, xk, tol):\n",
    "    n = len(vars)\n",
    "    ite = 0\n",
    "    while 1:\n",
    "        xk_aux = xk.copy()\n",
    "        ec = sympify(f)\n",
    "        for v in range(0, n):\n",
    "            ec_k = ec\n",
    "            for j in range(0, n):\n",
    "                if j != v:\n",
    "                    ec_k = ec_k.subs(vars[j], xk[j])  \n",
    "            func = lambdify(vars[v], ec_k)\n",
    "            resultado = optimize.minimize_scalar(func)\n",
    "            xk[v] = resultado.x\n",
    "        cond = []\n",
    "        for i in range(0, n):\n",
    "     \n",
    "            elem = xk[i] - xk_aux[i]\n",
    "            cond.append(elem)\n",
    "        array = np.asarray(cond)\n",
    "        norma = np.linalg.norm(array, ord=2)\n",
    "        if norma < tol:\n",
    "            break\n",
    "        else:\n",
    "            ite += 1\n",
    "    return [xk, ite]"
   ]
  },
  {
   "cell_type": "markdown",
   "metadata": {
    "kernel": "Octave"
   },
   "source": [
    "<h3><strong>f) Ejemplo Num&eacute;rico</strong></h3>"
   ]
  },
  {
   "cell_type": "markdown",
   "metadata": {
    "kernel": "Octave"
   },
   "source": [
    "Considere la función $f(x,y)=(x-2)^{2}+(y+3)^{2}+xy$, con $x^{(0)}=(1,1)^{t}$, utilizando 9 iteraciones"
   ]
  },
  {
   "cell_type": "code",
   "execution_count": 25,
   "metadata": {
    "kernel": "Octave"
   },
   "outputs": [
    {
     "name": "stdout",
     "output_type": "stream",
     "text": [
      "x_aprox =\n",
      "\n",
      "   4.6667  -5.3335\n",
      "\n",
      "iter =  9\n"
     ]
    }
   ],
   "source": [
    "pkg load symbolic\n",
    "syms x y\n",
    "warning(\"off\",\"all\")\n",
    "[x_aprox, iter] = descenso_coordinado('(x - 2)**2 + (y + 3)**2 + x * y', [x, y], [1, 1], 10**-5)"
   ]
  },
  {
   "cell_type": "code",
   "execution_count": 33,
   "metadata": {
    "kernel": "Python 3"
   },
   "outputs": [
    {
     "data": {
      "text/plain": [
       "[[4.666665911607045, -5.333332955803524], 11]"
      ]
     },
     "execution_count": 33,
     "metadata": {},
     "output_type": "execute_result"
    }
   ],
   "source": [
    "descenso_coordinado('(x - 2)**2 + (y + 3)**2 + x * y', ['x', 'y'], [1, 1], 10**-5)"
   ]
  },
  {
   "cell_type": "markdown",
   "metadata": {
    "kernel": "Python 3"
   },
   "source": [
    "<a id='biseccion'></a>\n",
    "<h2><span style=\"color: #993300;\"><span style=\"text-decoration: underline;\"><strong>M&eacute;todo 3:</strong> Gradiente Conjugado no lineal</span></span></h2>"
   ]
  },
  {
   "cell_type": "markdown",
   "metadata": {
    "kernel": "Python 3"
   },
   "source": [
    "<h3><strong>a) Formulaci&oacute;n Matem&aacute;tica</strong></h3>"
   ]
  },
  {
   "cell_type": "markdown",
   "metadata": {
    "kernel": "Python 3"
   },
   "source": [
    "$    min_{x \\in \\mathbb{R}^{n}}f(x)$\n",
    "\n",
    "$x^{k+1}=x^{k}+ \\alpha _{k}d^{(k)} , \\alpha _{k} >0,d^{(k)} \\in \\mathbb{R}^{n}$\n",
    "\n",
    "$d^{(0)}=-g^{(0)}, d^{(k+1)} + \\beta _{k}d^{(k)},g^{(k)}=\\bigtriangledown f(x^{(k)})^{t},\\beta _{k}>0$\n",
    "\n",
    "$\\beta _{k}^{FR}=\\frac{\\left \\| g_{k+1} \\right \\|^{2}}{\\left \\| g_{k} \\right \\|^{2}}, \\beta _{k}^{CD}=\\frac{\\left \\| g_{k+1} \\right \\|^{2}}{-d_{k}^{T}g_{k}}, \\beta _{k}^{DY}=\\frac{\\left \\| g_{k+1} \\right \\|^{2}}{d_{k}^{T}y_{k}}$\n",
    "\n",
    "$ f(x^{k}+ \\alpha_{k}d^{k}) -f(x^{k})\\leq \\delta  \\alpha _{k}(g^{(k)})^{t} d^{k}, \\delta \\in ] 0,1[ , \\alpha _{k}=1$"
   ]
  },
  {
   "cell_type": "markdown",
   "metadata": {
    "kernel": "Python 3"
   },
   "source": [
    "<h3><strong>b) Valores Iniciales</strong></h3>"
   ]
  },
  {
   "cell_type": "markdown",
   "metadata": {
    "kernel": "Python 3"
   },
   "source": [
    "$x_0 \\in \\mathbb{R}^{n}$"
   ]
  },
  {
   "cell_type": "markdown",
   "metadata": {
    "kernel": "Python 3"
   },
   "source": [
    "<h3><strong>c) Ventajas y Desvantajas</strong></h3>"
   ]
  },
  {
   "cell_type": "markdown",
   "metadata": {
    "kernel": "Python 3"
   },
   "source": [
    "<div class=\"alert alert-block alert-success row\">\n",
    "    <div class=\"column\">\n",
    "        <p>\n",
    "            <span style=\"text-decoration: underline;\">\n",
    "                <span style=\"text-decoration: underline;\">\n",
    "                    <strong>Ventajas:</strong>\n",
    "                </span>\n",
    "            </span>\n",
    "        </p>\n",
    "        <li>Siempre converge</li>\n",
    "        <li>Útil como aproximación inicial de otros métodos</li>\n",
    "    </div>\n",
    "    <div class =\"column\">\n",
    "        <p>\n",
    "            <span style=\"text-decoration: underline;\">\n",
    "                <span style=\"text-decoration: underline;\">\n",
    "                    <strong>Desventajas:</strong>\n",
    "                </span>\n",
    "            </span>\n",
    "        </p>\n",
    "        <li>División entre cero.</li>\n",
    "        <li>. La obtención de la solución depende de la condición del sistema. En sentido matemático, los sistemas bien condicionados son aquellos en los que un cambio en uno o más coeficientes provoca un cambio similar en la solución. Los sistemas mal condicionados son aquellos en los que cambios pequeños en los coeficientes provocan cambios grandes en la solución</li>\n",
    "    </div>\n",
    "</div>"
   ]
  },
  {
   "cell_type": "markdown",
   "metadata": {
    "kernel": "Python 3"
   },
   "source": [
    "<h3><strong>c) Pasos del m&eacute;todo (Pseudoc&oacute;digo)</strong></h3>"
   ]
  },
  {
   "cell_type": "markdown",
   "metadata": {
    "kernel": "Python 3"
   },
   "source": [
    "![](ConjugadoLineal.PNG)"
   ]
  },
  {
   "cell_type": "markdown",
   "metadata": {
    "kernel": "Python 3"
   },
   "source": [
    "<h3><strong>d) C&oacute;digo en GNU Octave</strong></h3>"
   ]
  },
  {
   "cell_type": "code",
   "execution_count": null,
   "metadata": {
    "kernel": "Octave"
   },
   "outputs": [],
   "source": [
    "function [xk, gNorm] = nonLinearConjugateGradient(f, xk, maxIter)\n",
    "  % sigma = rand;\n",
    "  sigma = 0.5;\n",
    "  gf = gradient(f);\n",
    "  f = function_handle(f);\n",
    "  gf = function_handle(gf);\n",
    "  gk = gf(num2cell(xk){:});                 % It is already a transposed matrix\n",
    "  dk = -gk;\n",
    "  for iter=0:maxIter\n",
    "    ak = 1;\n",
    "    while !(f(num2cell(xk + ak*dk){:}) - f(num2cell(xk){:}) <= sigma*ak*gk'*dk)\n",
    "      ak = ak/2;\n",
    "    endwhile\n",
    "    xNext = xk + ak*dk;\n",
    "    gNext = gf(num2cell(xNext){:});         % It is already a transposed matrix\n",
    "    bk = norm(gNext)^2/norm(gk)^2;\n",
    "    dNext = -gNext + bk*dk;\n",
    "    gNorm = norm(gk);\n",
    "    xk = xNext;\n",
    "    gk = gNext;\n",
    "    dk = dNext;\n",
    "  endfor\n",
    "endfunction\n"
   ]
  },
  {
   "cell_type": "markdown",
   "metadata": {
    "kernel": "Octave"
   },
   "source": [
    "<h3><strong>e) C&oacute;digo en Python</strong></h3>"
   ]
  },
  {
   "cell_type": "code",
   "execution_count": null,
   "metadata": {
    "kernel": "Python 3"
   },
   "outputs": [],
   "source": []
  },
  {
   "cell_type": "markdown",
   "metadata": {
    "kernel": "Python 3"
   },
   "source": [
    "<h3><strong>f) Ejemplo Num&eacute;rico</strong></h3>"
   ]
  },
  {
   "cell_type": "markdown",
   "metadata": {
    "kernel": "Python 3"
   },
   "source": [
    "Encontrar el gradiente de la función $f=x^{2}+xy$"
   ]
  },
  {
   "cell_type": "code",
   "execution_count": null,
   "metadata": {
    "kernel": "Octave"
   },
   "outputs": [],
   "source": []
  },
  {
   "cell_type": "code",
   "execution_count": null,
   "metadata": {
    "kernel": "Python 3"
   },
   "outputs": [],
   "source": []
  }
 ],
 "metadata": {
  "kernelspec": {
   "display_name": "SoS",
   "language": "sos",
   "name": "sos"
  },
  "language_info": {
   "codemirror_mode": "sos",
   "file_extension": ".sos",
   "mimetype": "text/x-sos",
   "name": "sos",
   "nbconvert_exporter": "sos_notebook.converter.SoS_Exporter",
   "pygments_lexer": "sos"
  },
  "sos": {
   "kernels": [
    [
     "Octave",
     "octave",
     "octave",
     "",
     ""
    ],
    [
     "Python 3",
     "python3",
     "python3",
     "",
     {
      "name": "ipython",
      "version": 3
     }
    ]
   ],
   "panel": {
    "displayed": true,
    "height": 0
   },
   "version": "0.21.7"
  }
 },
 "nbformat": 4,
 "nbformat_minor": 2
}
