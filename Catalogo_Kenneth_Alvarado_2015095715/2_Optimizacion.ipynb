{
 "cells": [
  {
   "cell_type": "markdown",
   "metadata": {
    "kernel": "SoS"
   },
   "source": [
    "<h1 style=\"text-align: center;\"><strong>1. Soluci&oacute;n de Ecuaciones No Lineales</strong></h1>"
   ]
  },
  {
   "cell_type": "markdown",
   "metadata": {
    "kernel": "SoS"
   },
   "source": [
    "<a id='biseccion'></a>\n",
    "<h2><span style=\"color: #993300;\"><span style=\"text-decoration: underline;\"><strong>M&eacute;todo 1:</strong> Encontrar el Gradiente</span></span></h2>"
   ]
  },
  {
   "cell_type": "markdown",
   "metadata": {
    "kernel": "SoS"
   },
   "source": [
    "<h3><strong>a) Formulaci&oacute;n Matem&aacute;tica</strong></h3>"
   ]
  },
  {
   "cell_type": "markdown",
   "metadata": {
    "kernel": "SoS"
   },
   "source": [
    "\n",
    "\n",
    "\n",
    "$\\bigtriangledown f(x_0,y_0,.....)=\\begin{bmatrix}\n",
    "\\frac{df}{dx}(x_0,y_0,.....) \\\\ \\frac{df}{dy}(x_0,y_0,.....)  \\\\ . \\\\ .\\\\ .\n",
    "\\end{bmatrix} $\n",
    "\n",
    "\n"
   ]
  },
  {
   "cell_type": "markdown",
   "metadata": {
    "kernel": "SoS"
   },
   "source": [
    "<h3><strong>b) Valores Iniciales</strong></h3>"
   ]
  },
  {
   "cell_type": "markdown",
   "metadata": {
    "kernel": "SoS"
   },
   "source": [
    "$\\bigtriangledown f(x_0,y_0,.....)=$ Funcion de N variables a encontrar derivadas parciales"
   ]
  },
  {
   "cell_type": "markdown",
   "metadata": {
    "kernel": "SoS"
   },
   "source": [
    "<h3><strong>c) Pasos del m&eacute;todo (Pseudoc&oacute;digo)</strong></h3>"
   ]
  },
  {
   "cell_type": "markdown",
   "metadata": {
    "kernel": "SoS"
   },
   "source": [
    "![](gradiente.JPG)"
   ]
  },
  {
   "cell_type": "markdown",
   "metadata": {
    "kernel": "SoS"
   },
   "source": [
    "<h3><strong>d) C&oacute;digo en GNU Octave</strong></h3>"
   ]
  },
  {
   "cell_type": "code",
   "execution_count": 40,
   "metadata": {
    "kernel": "Octave"
   },
   "outputs": [],
   "source": [
    "function gradienteR=gradiente(funcion,variables)\n",
    "  pkg load symbolic\n",
    "  for n=1: length(variables)\n",
    "    p=variables(n);\n",
    "    syms p;\n",
    "  endfor\n",
    "  gradienteR = gradient(funcion, variables);\n",
    "endfunction"
   ]
  },
  {
   "cell_type": "markdown",
   "metadata": {
    "kernel": "Python 3"
   },
   "source": [
    "<h3><strong>e) C&oacute;digo en Python</strong></h3>"
   ]
  },
  {
   "cell_type": "code",
   "execution_count": 9,
   "metadata": {
    "kernel": "Python 3"
   },
   "outputs": [],
   "source": [
    "from sympy import sympify as sy\n",
    "from sympy import symbols as symb\n",
    "from sympy import *\n",
    "def gradiente(funcion,variables):\n",
    "    f=\"\"\n",
    "    for var in variables:\n",
    "        f=f+str(diff(funcion, symb(var)))+\" + \"\n",
    "    print(f[:-3])       "
   ]
  },
  {
   "cell_type": "markdown",
   "metadata": {
    "kernel": "Octave"
   },
   "source": [
    "<h3><strong>e) Ejemplo Num&eacute;rico</strong></h3>"
   ]
  },
  {
   "cell_type": "markdown",
   "metadata": {
    "kernel": "Octave"
   },
   "source": [
    "Encontrar el gradiente de la función $f=x^{2}+xy$"
   ]
  },
  {
   "cell_type": "code",
   "execution_count": 41,
   "metadata": {
    "kernel": "Octave",
    "scrolled": true
   },
   "outputs": [
    {
     "name": "stdout",
     "output_type": "stream",
     "text": [
      "gradienteR = (sym 2x1 matrix)\n",
      "\n",
      "  [2*x - y]\n",
      "  [       ]\n",
      "  [  -x   ]\n",
      "\n"
     ]
    }
   ],
   "source": [
    "% Solución del ejemplo utilizando GNU Octave\n",
    "syms x y\n",
    "[gradienteR]=gradiente((x^2)-x*y,[x,y])"
   ]
  },
  {
   "cell_type": "code",
   "execution_count": 17,
   "metadata": {
    "kernel": "Python 3"
   },
   "outputs": [
    {
     "name": "stdout",
     "output_type": "stream",
     "text": [
      "2*x - y + -x\n"
     ]
    }
   ],
   "source": [
    "#Solución del ejemplo utilizando GNU Octave\n",
    "gradiente(\"(x**2)-x*y\",[\"x\",\"y\"])"
   ]
  }
 ],
 "metadata": {
  "kernelspec": {
   "display_name": "SoS",
   "language": "sos",
   "name": "sos"
  },
  "language_info": {
   "codemirror_mode": "sos",
   "file_extension": ".sos",
   "mimetype": "text/x-sos",
   "name": "sos",
   "nbconvert_exporter": "sos_notebook.converter.SoS_Exporter",
   "pygments_lexer": "sos"
  },
  "sos": {
   "kernels": [
    [
     "Octave",
     "octave",
     "octave",
     "",
     ""
    ],
    [
     "Python 3",
     "python3",
     "python3",
     "",
     ""
    ]
   ],
   "panel": {
    "displayed": true,
    "height": 0
   },
   "version": "0.21.7"
  }
 },
 "nbformat": 4,
 "nbformat_minor": 2
}
