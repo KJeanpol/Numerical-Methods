{
 "cells": [
  {
   "cell_type": "markdown",
   "metadata": {
    "kernel": "SoS"
   },
   "source": [
    "<h1 style=\"text-align: center;\"><strong>1. Solución de Sistemas de Ecuaciones Métodos Iterativos</strong></h1>"
   ]
  },
  {
   "cell_type": "markdown",
   "metadata": {
    "kernel": "SoS"
   },
   "source": [
    "<a id='biseccion'></a>\n",
    "<h2><span style=\"color: #993300;\"><span style=\"text-decoration: underline;\"><strong>M&eacute;todo 1:</strong> Iteración de Jacobi</span></span></h2>"
   ]
  },
  {
   "cell_type": "markdown",
   "metadata": {
    "kernel": "SoS"
   },
   "source": [
    "<h3><strong>a) Formulaci&oacute;n Matem&aacute;tica</strong></h3>"
   ]
  },
  {
   "cell_type": "markdown",
   "metadata": {
    "kernel": "SoS"
   },
   "source": [
    "\n",
    "\n",
    "\n",
    "$A=L+D+U $\n",
    "\n",
    "$x^{k+1}=M^{-1}Nx^{k}+M^{-1}b$\n",
    "\n",
    "$x^{0} \\in \\mathbb{R}^{n}$\n",
    "\n",
    "$M=D$\n",
    "\n",
    "$N=-(L+U)$\n",
    "\n"
   ]
  },
  {
   "cell_type": "markdown",
   "metadata": {
    "kernel": "SoS"
   },
   "source": [
    "\n",
    "<h3><strong>b) Valores Iniciales</strong></h3>"
   ]
  },
  {
   "cell_type": "markdown",
   "metadata": {
    "kernel": "SoS"
   },
   "source": [
    "  <li>Matriz A de tamaño mxn diagonalmente dominante</li>\n",
    "  <li>Vector x de tamaño n</li>\n",
    "  <li>Vector b de tamaño m</li>"
   ]
  },
  {
   "cell_type": "markdown",
   "metadata": {
    "kernel": "SoS"
   },
   "source": [
    "<h3><strong>c) Ventajas y Desvantajas</strong></h3>"
   ]
  },
  {
   "cell_type": "markdown",
   "metadata": {
    "kernel": "SoS"
   },
   "source": [
    "<div class=\"alert alert-block alert-success row\">\n",
    "    <div class=\"column\">\n",
    "        <p>\n",
    "            <span style=\"text-decoration: underline;\">\n",
    "                <span style=\"text-decoration: underline;\">\n",
    "                    <strong>Ventajas:</strong>\n",
    "                </span>\n",
    "            </span>\n",
    "        </p>\n",
    "        <li>Siempre converge</li>\n",
    "        <li>Útil como aproximación inicial de otros métodos</li>\n",
    "    </div>\n",
    "    <div class =\"column\">\n",
    "        <p>\n",
    "            <span style=\"text-decoration: underline;\">\n",
    "                <span style=\"text-decoration: underline;\">\n",
    "                    <strong>Desventajas:</strong>\n",
    "                </span>\n",
    "            </span>\n",
    "        </p>\n",
    "        <li>Convergencia Lenta</li>\n",
    "        <li>No tiene en cuenta la magnitud d elos valores de la función en las aproximaciones calculadas, solo tiene en cuneta el sifgno de f(x), por lo que hace que una aproximación intermedia, mejor que la respuesta final, pase desapercibida  </li>\n",
    "    </div>\n",
    "</div>"
   ]
  },
  {
   "cell_type": "markdown",
   "metadata": {
    "kernel": "SoS"
   },
   "source": [
    "<h3><strong>c) Pasos del m&eacute;todo (Pseudoc&oacute;digo)</strong></h3>"
   ]
  },
  {
   "cell_type": "markdown",
   "metadata": {
    "kernel": "SoS"
   },
   "source": [
    "![](Jacobi.PNG)"
   ]
  },
  {
   "cell_type": "markdown",
   "metadata": {
    "kernel": "SoS"
   },
   "source": [
    "<h3><strong>d) C&oacute;digo en GNU Octave</strong></h3>"
   ]
  },
  {
   "cell_type": "code",
   "execution_count": 6,
   "metadata": {
    "kernel": "Octave"
   },
   "outputs": [],
   "source": [
    "function [xk,error] = jacobi(A,b,x,tol,maxIter)\n",
    "    D=diag(diag(A));\n",
    "    U=triu(A,1);\n",
    "    L=tril(A,-1);\n",
    "    b=b';\n",
    "    k=0;\n",
    "    xk=x';\n",
    "    error=tol+1;\n",
    "    suma=L+U;\n",
    "    inversa=inv(D);\n",
    "    while(k<maxIter && error>tol)\n",
    "        xk=(-inversa*suma*xk)+inversa*b;\n",
    "        k=k+1;\n",
    "        error=norm(xk);\n",
    "    endwhile\n",
    "endfunction"
   ]
  },
  {
   "cell_type": "markdown",
   "metadata": {
    "kernel": "Octave"
   },
   "source": [
    "<h3><strong>e) C&oacute;digo en Python</strong></h3>"
   ]
  },
  {
   "cell_type": "code",
   "execution_count": 7,
   "metadata": {
    "kernel": "Python 3"
   },
   "outputs": [],
   "source": [
    "import numpy as np\n",
    "\n",
    "\n",
    "def jacobi(A,b,x,tol,maxIter):\n",
    "    D=np.diag(A)\n",
    "    D=np.diag(D)\n",
    "    U=np.triu(A)\n",
    "    L=np.tril(A)\n",
    "    L=L-D\n",
    "    U=U-D\n",
    "    b=np.transpose(b)\n",
    "    Dinv=np.linalg.inv(D)\n",
    "    k=0\n",
    "    xk=x\n",
    "    error=tol+1\n",
    "    while(k<maxIter and error>tol):\n",
    "        primero=np.matmul(-Dinv,(L+U))\n",
    "        xk= primero.dot(xk) + Dinv.dot(b)\n",
    "        k=k+1\n",
    "        error=np.linalg.norm(xk)\n",
    "    return [xk,error]"
   ]
  },
  {
   "cell_type": "markdown",
   "metadata": {
    "kernel": "Octave"
   },
   "source": [
    "<h3><strong>f) Ejemplo Num&eacute;rico</strong></h3>"
   ]
  },
  {
   "cell_type": "markdown",
   "metadata": {
    "kernel": "Octave"
   },
   "source": [
    "Utilizando la iteración de Jacobi, determine la aproximación $x^{(5)} $, del sistema\n",
    "\n",
    "$\\left\\{\\begin{matrix}\n",
    "5x_{1} & +x_{2}+ &x_{3}  & 7 \\\\ \n",
    "x_{1}& +5x_{2} +&x_{3}  & 7 \\\\ \n",
    "x_{1}& +x_{1} +&5x_{3}  & 7\n",
    "\\end{matrix}\\right.$\n",
    "\n",
    "con valor inicial $x^{(0)}= (0,0,0)^{^{T}}$"
   ]
  },
  {
   "cell_type": "code",
   "execution_count": 8,
   "metadata": {
    "kernel": "Octave"
   },
   "outputs": [
    {
     "name": "stdout",
     "output_type": "stream",
     "text": [
      "xk =\n",
      "\n",
      "   1.00000\n",
      "   1.00000\n",
      "   1.00000\n",
      "\n",
      "error =  1.7321\n"
     ]
    }
   ],
   "source": [
    "[xk,error]=jacobi([5 1 1; 1 5 1; 1 1 5],[7 7 7],[0 0 0],0.0001,20)"
   ]
  },
  {
   "cell_type": "code",
   "execution_count": 9,
   "metadata": {
    "kernel": "Python 3"
   },
   "outputs": [
    {
     "data": {
      "text/plain": [
       "[array([0.99999999, 0.99999999, 0.99999999]), 1.7320507885247776]"
      ]
     },
     "execution_count": 9,
     "metadata": {},
     "output_type": "execute_result"
    }
   ],
   "source": [
    "jacobi([[5,1,1],[1,5,1],[1,1,5]],[7,7,7],[0,0,0],0.0001,20)"
   ]
  },
  {
   "cell_type": "markdown",
   "metadata": {
    "kernel": "Python 3"
   },
   "source": [
    "<a id='biseccion'></a>\n",
    "<h2><span style=\"color: #993300;\"><span style=\"text-decoration: underline;\"><strong>M&eacute;todo 2:</strong> Gauss-Seidel</span></span></h2>"
   ]
  },
  {
   "cell_type": "markdown",
   "metadata": {
    "kernel": "Python 3"
   },
   "source": [
    "<h3><strong>a) Formulaci&oacute;n Matem&aacute;tica</strong></h3>"
   ]
  },
  {
   "cell_type": "markdown",
   "metadata": {
    "kernel": "Python 3"
   },
   "source": [
    "$A=L+D+U $\n",
    "\n",
    "$x^{k+1}=M^{-1} N x^{k}+M^{-1}b$\n",
    "\n",
    "$x^{0} \\in \\mathbb{R}^{n}$\n",
    "\n",
    "$M=L+D$\n",
    "\n",
    "$N=-U$\n"
   ]
  },
  {
   "cell_type": "markdown",
   "metadata": {
    "kernel": "Python 3"
   },
   "source": [
    "<h3><strong>b) Valores Iniciales</strong></h3>"
   ]
  },
  {
   "cell_type": "markdown",
   "metadata": {
    "kernel": "Python 3"
   },
   "source": [
    "  <li>Matriz A de tamaño mxn diagonalmente dominante</li>\n",
    "  <li>Vector x de tamaño n</li>\n",
    "  <li>Vector b de tamaño m</li>"
   ]
  },
  {
   "cell_type": "markdown",
   "metadata": {
    "kernel": "Python 3"
   },
   "source": [
    "<h3><strong>c) Ventajas y Desvantajas</strong></h3>"
   ]
  },
  {
   "cell_type": "markdown",
   "metadata": {
    "kernel": "Python 3"
   },
   "source": [
    "<div class=\"alert alert-block alert-success row\">\n",
    "    <div class=\"column\">\n",
    "        <p>\n",
    "            <span style=\"text-decoration: underline;\">\n",
    "                <span style=\"text-decoration: underline;\">\n",
    "                    <strong>Ventajas:</strong>\n",
    "                </span>\n",
    "            </span>\n",
    "        </p>\n",
    "        <li>Es Exacto y Rapido</li>\n",
    "        <li>Acepta Fracciones</li>\n",
    "    </div>\n",
    "    <div class =\"column\">\n",
    "        <p>\n",
    "            <span style=\"text-decoration: underline;\">\n",
    "                <span style=\"text-decoration: underline;\">\n",
    "                    <strong>Desventajas:</strong>\n",
    "                </span>\n",
    "            </span>\n",
    "        </p>\n",
    "        <li>Muy Largo y tedioso</li>\n",
    "        <li>No siempre converge a la solucion</li>\n",
    "    </div>\n",
    "</div>"
   ]
  },
  {
   "cell_type": "markdown",
   "metadata": {
    "kernel": "Python 3"
   },
   "source": [
    "<h3><strong>c) Pasos del m&eacute;todo (Pseudoc&oacute;digo)</strong></h3>"
   ]
  },
  {
   "cell_type": "markdown",
   "metadata": {
    "kernel": "Python 3"
   },
   "source": [
    "![](GaussSeidel.PNG)"
   ]
  },
  {
   "cell_type": "markdown",
   "metadata": {
    "kernel": "Python 3"
   },
   "source": [
    "<h3><strong>d) C&oacute;digo en GNU Octave</strong></h3>"
   ]
  },
  {
   "cell_type": "code",
   "execution_count": 2,
   "metadata": {
    "kernel": "Octave"
   },
   "outputs": [],
   "source": [
    "function [xk,error] = gaussSeidel(A,b,x,tol,maxIter)\n",
    "    D=diag(diag(A));\n",
    "    U=triu(A,1);\n",
    "    L=tril(A,-1);\n",
    "    b=b';\n",
    "    k=0;\n",
    "    xk=x';\n",
    "    error=tol+1;\n",
    "    suma=L+D;\n",
    "    inversa=inv(suma);\n",
    "    while(k<maxIter && error>tol)\n",
    "        xk=(-inversa*U*xk)+inversa*b;\n",
    "        k=k+1;\n",
    "        error=norm(xk);\n",
    "    endwhile\n",
    "  \n",
    "endfunction"
   ]
  },
  {
   "cell_type": "markdown",
   "metadata": {
    "kernel": "Python 3"
   },
   "source": [
    "<h3><strong>e) C&oacute;digo en Python</strong></h3>"
   ]
  },
  {
   "cell_type": "code",
   "execution_count": 3,
   "metadata": {
    "kernel": "Python 3"
   },
   "outputs": [],
   "source": [
    "import numpy as np\n",
    "def gaussSeidel(A,b,x,tol,maxIter):\n",
    "    D=np.diag(A)\n",
    "    D=np.diag(D)\n",
    "    U=np.triu(A)\n",
    "    L=np.tril(A)\n",
    "    L=L-D\n",
    "    U=U-D\n",
    "    b=np.transpose(b)\n",
    "    inverso=np.linalg.inv((L+D))\n",
    "    k=0\n",
    "    xk=x\n",
    "    error=tol+1\n",
    "    while(k<maxIter and error>tol):\n",
    "        primero=np.matmul(-inverso,(U))\n",
    "        xk= primero.dot(xk) + inverso.dot(b)\n",
    "        k=k+1\n",
    "        error=np.linalg.norm(xk)\n",
    "    return [xk,error]"
   ]
  },
  {
   "cell_type": "markdown",
   "metadata": {
    "kernel": "Python 3"
   },
   "source": [
    "<h3><strong>f) Ejemplo Num&eacute;rico</strong></h3>"
   ]
  },
  {
   "cell_type": "markdown",
   "metadata": {
    "kernel": "Python 3"
   },
   "source": [
    "Utilizando la iteración de Jacobi, determine la aproximación $x^{(5)} $, del sistema\n",
    "\n",
    "$\\left\\{\\begin{matrix}\n",
    "5x_{1} & +x_{2}+ &x_{3}  & 7 \\\\ \n",
    "x_{1}& +5x_{2} +&x_{3}  & 7 \\\\ \n",
    "x_{1}& +x_{1} +&5x_{3}  & 7\n",
    "\\end{matrix}\\right.$\n",
    "\n",
    "con valor inicial $x^{(0)}= (0,0,0)^{^{T}}$"
   ]
  },
  {
   "cell_type": "code",
   "execution_count": 10,
   "metadata": {
    "kernel": "Octave"
   },
   "outputs": [
    {
     "name": "stdout",
     "output_type": "stream",
     "text": [
      "xk =\n",
      "\n",
      "   0.99999\n",
      "   0.99999\n",
      "   1.00001\n",
      "\n",
      "error =  1.7320\n"
     ]
    }
   ],
   "source": [
    "[xk,error]=gaussSeidel([5 1 1 ; 1 5 1; 1 1 5],[7 7 7],[0 0 0],0.0001,5)"
   ]
  },
  {
   "cell_type": "code",
   "execution_count": 5,
   "metadata": {
    "kernel": "Python 3"
   },
   "outputs": [
    {
     "data": {
      "text/plain": [
       "[array([0.9999867 , 0.99998734, 1.00000519]), 1.7320388157287256]"
      ]
     },
     "execution_count": 5,
     "metadata": {},
     "output_type": "execute_result"
    }
   ],
   "source": [
    "gaussSeidel([[5,1,1],[1,5,1],[1,1,5]],[7,7,7],[0,0,0],0.0001,5)"
   ]
  },
  {
   "cell_type": "markdown",
   "metadata": {
    "kernel": "Python 3"
   },
   "source": [
    "<a id='biseccion'></a>\n",
    "<h2><span style=\"color: #993300;\"><span style=\"text-decoration: underline;\"><strong>M&eacute;todo 3:</strong> Jacobi- Forma no Matricial</span></span></h2>"
   ]
  },
  {
   "cell_type": "markdown",
   "metadata": {
    "kernel": "Python 3"
   },
   "source": [
    "<h3><strong>a) Formulaci&oacute;n Matem&aacute;tica</strong></h3>"
   ]
  },
  {
   "cell_type": "markdown",
   "metadata": {
    "kernel": "Python 3"
   },
   "source": [
    "De la misma manera este método iterativo se puede representar de manera que no necesite el realizar el producto de matrices y vectores. Tomando como ejemplo el siguiente sistema 4x4:\n",
    "\n",
    "\n",
    "$$\\begin{equation}\n",
    "\\left\\{\\begin{matrix}\n",
    "a_{1,1}\\cdot x_{1}+ a_{2,1}\\cdot x_{2}+ a_{3,1}\\cdot x_{3}+a_{4,1}\\cdot x_{4} &=  & b_{1}\\\\a_{1,2}\\cdot x_{1}+ a_{2,2}\\cdot x_{2}+ a_{3,2}\\cdot x_{3}+a_{4,2}\\cdot x_{4} &=  & b_{2}\\\\a_{1,3}\\cdot x_{1}+ a_{2,3}\\cdot x_{2}+ a_{3,3}\\cdot x_{3}+a_{4,3}\\cdot x_{4} &=  & b_{3}\\\\ a_{1,4}\\cdot x_{1}+ a_{2,4}\\cdot x_{2}+ a_{3,4}\\cdot x_{3}+a_{4,4}\\cdot x_{4} &=  & b_{4}\\\\\\end{matrix}\\right.\n",
    "\\end{equation}$$"
   ]
  },
  {
   "cell_type": "markdown",
   "metadata": {
    "kernel": "Python 3"
   },
   "source": [
    "<h3><strong>b) Valores Iniciales</strong></h3>"
   ]
  },
  {
   "cell_type": "markdown",
   "metadata": {
    "kernel": "Python 3"
   },
   "source": [
    "Este método requiere de un vector de valores iniciales xo."
   ]
  },
  {
   "cell_type": "markdown",
   "metadata": {
    "kernel": "Python 3"
   },
   "source": [
    "<h3><strong>c) Ventajas y Desvantajas</strong></h3>"
   ]
  },
  {
   "cell_type": "markdown",
   "metadata": {
    "kernel": "Python 3"
   },
   "source": [
    "<div class=\"alert alert-block alert-success row\">\n",
    "    <div class=\"column\">\n",
    "        <p>\n",
    "            <span style=\"text-decoration: underline;\">\n",
    "                <span style=\"text-decoration: underline;\">\n",
    "                    <strong>Ventajas:</strong>\n",
    "                </span>\n",
    "            </span>\n",
    "        </p>\n",
    "        <li>No realiza operaciones matriciales</li>\n",
    "    </div>\n",
    "    <div class =\"column\">\n",
    "        <p>\n",
    "            <span style=\"text-decoration: underline;\">\n",
    "                <span style=\"text-decoration: underline;\">\n",
    "                    <strong>Desventajas:</strong>\n",
    "                </span>\n",
    "            </span>\n",
    "        </p>\n",
    "        <li>Convergencia Lenta</li>\n",
    "        <li>al ser iterativo puede llegar a ser pesado computacionalmente  </li>\n",
    "    </div>\n",
    "</div>"
   ]
  },
  {
   "cell_type": "markdown",
   "metadata": {
    "kernel": "Python 3"
   },
   "source": [
    "<h3><strong>d) C&oacute;digo en GNU Octave</strong></h3>"
   ]
  },
  {
   "cell_type": "code",
   "execution_count": 16,
   "metadata": {
    "kernel": "Octave"
   },
   "outputs": [],
   "source": [
    "function [x, k ,error]=jacobism(A,b,xo,tol)\n",
    "    %Esta función aproxima una solucion al sistema de ecuaciones Ax=b\n",
    "    %\n",
    "    %Sintaxis: jacobism(A,b,xo,,tol)\n",
    "    % \n",
    "    %Parámetros Iniciales: \n",
    "    %            A = Matriz de coeficientes\n",
    "    %            b = vector terminos independientes\n",
    "    %            xo=vector de valores iniciales\n",
    "    %            tol=tolerancia\n",
    "    %            \n",
    "    %Parámetros de Salida:                           \n",
    "    %            x=vector de incognitas\n",
    "\n",
    "    error=tol+1;\n",
    "    x=xo;\n",
    "    n=size(x,1);\n",
    "    %% \n",
    "    % * _*Tolerence for method*_\n",
    "    k=0;\n",
    "    %% Algorithm: Jacobi Method\n",
    "    %%\n",
    "    while error>tol\n",
    "        xant=x;\n",
    "\n",
    "        for i=1:n\n",
    "            suma=0;\n",
    "\n",
    "            for j=1:n\n",
    "\n",
    "                if j~=i\n",
    "                    suma=suma+A(i,j)*x(j);\n",
    "                end\n",
    "\n",
    "            end\n",
    "\n",
    "            x(i)=(1/A(i,i))*(b(i)-suma);\n",
    "        end\n",
    "\n",
    "        k=k+1;\n",
    "        error=norm((A*x)-b);\n",
    "    end\n",
    "endfunction"
   ]
  },
  {
   "cell_type": "markdown",
   "metadata": {
    "kernel": "Python 3"
   },
   "source": [
    "<h3><strong>e) C&oacute;digo en Python</strong></h3>"
   ]
  },
  {
   "cell_type": "code",
   "execution_count": 27,
   "metadata": {
    "kernel": "Python 3"
   },
   "outputs": [],
   "source": [
    "import numpy as np\n",
    "\n",
    "def nonMatricialJacobi(A,b,x0,tol):\n",
    "    error=tol+1\n",
    "    x=x0\n",
    "    n=len(A[0])\n",
    "    k=0\n",
    "    \n",
    "    while(error>tol):\n",
    "        for i in range(0,n):\n",
    "            suma=0;\n",
    "            for j in range(0,n):\n",
    "                if (j!=i):\n",
    "                    suma=suma+A[i][j]*x[j]  \n",
    "            x[i]=(1/A[i][i])*(b[i]-suma)\n",
    "        k=k+1\n",
    "        p=np.array(np.array(A).dot((np.array(x).transpose())))\n",
    "        pp=p-np.array(b).transpose()\n",
    "        error=np.linalg.norm(pp)  \n",
    "    return [x,k]"
   ]
  },
  {
   "cell_type": "markdown",
   "metadata": {
    "kernel": "Python 3"
   },
   "source": [
    "<h3><strong>f) Ejemplo Num&eacute;rico</strong></h3>"
   ]
  },
  {
   "cell_type": "markdown",
   "metadata": {
    "kernel": "Python 3"
   },
   "source": [
    "Utilizando la iteración de Jacobi, determine la aproximación $x^{(5)} $, del sistema\n",
    "\n",
    "$\\left\\{\\begin{matrix}\n",
    "5x_{1} & +x_{2}+ &x_{3}  & 7 \\\\ \n",
    "x_{1}& +5x_{2} +&x_{3}  & 7 \\\\ \n",
    "x_{1}& +x_{1} +&5x_{3}  & 7\n",
    "\\end{matrix}\\right.$\n",
    "\n",
    "con valor inicial $x^{(0)}= (0,0,0)^{^{T}}$"
   ]
  },
  {
   "cell_type": "code",
   "execution_count": 28,
   "metadata": {
    "kernel": "Octave"
   },
   "outputs": [
    {
     "name": "stdout",
     "output_type": "stream",
     "text": [
      "xk =\n",
      "\n",
      "   1.00000\n",
      "   1.00000\n",
      "   1.00000\n",
      "\n",
      "error =  6\n"
     ]
    }
   ],
   "source": [
    "[xk,error]=jacobism([5 1 1; 1 5 1; 1 1 5],[7; 7; 7],[0; 0; 0],0.0001,20)"
   ]
  },
  {
   "cell_type": "code",
   "execution_count": 29,
   "metadata": {
    "kernel": "Python 3"
   },
   "outputs": [
    {
     "data": {
      "text/plain": [
       "[[1.000001493683405, 0.9999986627339879, 0.9999999687165215], 6]"
      ]
     },
     "execution_count": 29,
     "metadata": {},
     "output_type": "execute_result"
    }
   ],
   "source": [
    "nonMatricialJacobi([[5, 1, 1], [1, 5, 1],[1, 1, 5]],[7, 7, 7],[0, 0, 0],0.0001)"
   ]
  },
  {
   "cell_type": "markdown",
   "metadata": {
    "kernel": "Python 3"
   },
   "source": [
    "<a id='biseccion'></a>\n",
    "<h2><span style=\"color: #993300;\"><span style=\"text-decoration: underline;\"><strong>M&eacute;todo 4:</strong> Gauss Seidel- Forma no Matricial</span></span></h2>"
   ]
  },
  {
   "cell_type": "markdown",
   "metadata": {
    "kernel": "Python 3"
   },
   "source": [
    "<h3><strong>a) Formulaci&oacute;n Matem&aacute;tica</strong></h3>"
   ]
  },
  {
   "cell_type": "markdown",
   "metadata": {
    "kernel": "Python 3"
   },
   "source": [
    "De la misma manera este método iterativo se puede representar de manera que no necesite el realizar el producto de matrices y vectores. Tomando como ejemplo el siguiente sistema 4x4:\n",
    "\n",
    "\n",
    "$$\\begin{equation}\n",
    "\\left\\{\\begin{matrix}\n",
    "a_{1,1}\\cdot x_{1}+ a_{2,1}\\cdot x_{2}+ a_{3,1}\\cdot x_{3}+a_{4,1}\\cdot x_{4} &=  & b_{1}\\\\a_{1,2}\\cdot x_{1}+ a_{2,2}\\cdot x_{2}+ a_{3,2}\\cdot x_{3}+a_{4,2}\\cdot x_{4} &=  & b_{2}\\\\a_{1,3}\\cdot x_{1}+ a_{2,3}\\cdot x_{2}+ a_{3,3}\\cdot x_{3}+a_{4,3}\\cdot x_{4} &=  & b_{3}\\\\ a_{1,4}\\cdot x_{1}+ a_{2,4}\\cdot x_{2}+ a_{3,4}\\cdot x_{3}+a_{4,4}\\cdot x_{4} &=  & b_{4}\\\\\\end{matrix}\\right.\n",
    "\\end{equation}$$"
   ]
  },
  {
   "cell_type": "markdown",
   "metadata": {
    "kernel": "Python 3"
   },
   "source": [
    "<h3><strong>b) Valores Iniciales</strong></h3>"
   ]
  },
  {
   "cell_type": "markdown",
   "metadata": {
    "kernel": "Python 3"
   },
   "source": [
    "Este método requiere de un vector de valores iniciales xo."
   ]
  },
  {
   "cell_type": "markdown",
   "metadata": {
    "kernel": "Python 3"
   },
   "source": [
    "<h3><strong>c) Ventajas y Desvantajas</strong></h3>"
   ]
  },
  {
   "cell_type": "markdown",
   "metadata": {
    "kernel": "Python 3"
   },
   "source": [
    "<div class=\"alert alert-block alert-success row\">\n",
    "    <div class=\"column\">\n",
    "        <p>\n",
    "            <span style=\"text-decoration: underline;\">\n",
    "                <span style=\"text-decoration: underline;\">\n",
    "                    <strong>Ventajas:</strong>\n",
    "                </span>\n",
    "            </span>\n",
    "        </p>\n",
    "        <li>No realiza operaciones matriciales</li>\n",
    "    </div>\n",
    "    <div class =\"column\">\n",
    "        <p>\n",
    "            <span style=\"text-decoration: underline;\">\n",
    "                <span style=\"text-decoration: underline;\">\n",
    "                    <strong>Desventajas:</strong>\n",
    "                </span>\n",
    "            </span>\n",
    "        </p>\n",
    "        <li>Convergencia Lenta</li>\n",
    "        <li>al ser iterativo puede llegar a ser pesado computacionalmente  </li>\n",
    "    </div>\n",
    "</div>"
   ]
  },
  {
   "cell_type": "markdown",
   "metadata": {
    "kernel": "Python 3"
   },
   "source": [
    "<h3><strong>d) Codigo en GNU Octave</strong></h3>"
   ]
  },
  {
   "cell_type": "code",
   "execution_count": 32,
   "metadata": {
    "kernel": "Octave"
   },
   "outputs": [],
   "source": [
    "function [x, error]=gaseism(A,b,xo,tol)\n",
    "    %Esta función aproxima una solucion al sistema de ecuaciones Ax=b\n",
    "    %\n",
    "    %Sintaxis: gasei(A,b,xo,,tol)\n",
    "    % \n",
    "    %Parámetros Iniciales: \n",
    "    %            A = Matriz de coeficientes\n",
    "    %            b = vector terminos independientes\n",
    "    %            xo=vector de valores iniciales\n",
    "    %            tol=tolerancia\n",
    "    %            \n",
    "    %Parámetros de Salida:                           \n",
    "    %            x=vector de incognitas\n",
    "    \n",
    "\n",
    "    x=xo\n",
    "    n=size(x,1);\n",
    "    error=tol+1; \n",
    "\n",
    "    k=0;\n",
    "\n",
    "    while error>tol\n",
    "        xant=x;\n",
    "\n",
    "        for i=1:n\n",
    "\n",
    "            suma=0;\n",
    "\n",
    "            for j=1:i-1\n",
    "                    suma=suma+A(i,j)*x(j);\n",
    "            end\n",
    "\n",
    "            for j=i+1:n\n",
    "                    suma=suma+A(i,j)*xant(j);\n",
    "            end\n",
    "\n",
    "            x(i)=(1/A(i,i))*(b(i)-suma);\n",
    "        end\n",
    "\n",
    "        k=k+1;\n",
    "        error=norm(xant-x);\n",
    "    end\n",
    "endfunction"
   ]
  },
  {
   "cell_type": "markdown",
   "metadata": {
    "kernel": "Python 3"
   },
   "source": [
    "<h3><strong>e) Codigo en Python</strong></h3>"
   ]
  },
  {
   "cell_type": "code",
   "execution_count": 34,
   "metadata": {
    "kernel": "Python 3"
   },
   "outputs": [],
   "source": [
    "import numpy as np\n",
    "\n",
    "def nonMatricialGaussSeidel(A,b,x0,tol):\n",
    "    error=tol+1\n",
    "    x=x0\n",
    "    n=len(A[0])\n",
    "    k=0\n",
    "    \n",
    "    while(error>tol):\n",
    "        xant=x\n",
    "        for i in range(0,n):\n",
    "            suma=0;\n",
    "            for j in range(0,i-1):\n",
    "                \n",
    "                suma=suma+A[i][j]*x[j]  \n",
    "            for j in range(0,i-1):\n",
    "                \n",
    "                suma=suma+A[i][j]*xant[j]  \n",
    "            \n",
    "            x[i]=(1/A[i][i])*(b[i]-suma)\n",
    "        k=k+1\n",
    "        pp=np.array(xant).transpose()-np.array(x).transpose()\n",
    "        error=np.linalg.norm(pp)  \n",
    "    return [x,k]"
   ]
  },
  {
   "cell_type": "markdown",
   "metadata": {
    "kernel": "Python 3"
   },
   "source": [
    "<h3><strong>f) Ejemplo Num&eacute;rico</strong></h3>"
   ]
  },
  {
   "cell_type": "markdown",
   "metadata": {
    "kernel": "Python 3"
   },
   "source": [
    "Utilizando la iteración de Jacobi, determine la aproximación $x^{(5)} $, del sistema\n",
    "\n",
    "$\\left\\{\\begin{matrix}\n",
    "5x_{1} & +x_{2}+ &x_{3}  & 7 \\\\ \n",
    "x_{1}& +5x_{2} +&x_{3}  & 7 \\\\ \n",
    "x_{1}& +x_{1} +&5x_{3}  & 7\n",
    "\\end{matrix}\\right.$\n",
    "\n",
    "con valor inicial $x^{(0)}= (0,0,0)^{^{T}}$"
   ]
  },
  {
   "cell_type": "code",
   "execution_count": 35,
   "metadata": {
    "kernel": "Octave"
   },
   "outputs": [
    {
     "name": "stdout",
     "output_type": "stream",
     "text": [
      "x =\n",
      "\n",
      "   0   0   0\n",
      "\n",
      "x =\n",
      "\n",
      "   1.40000   0.00000   0.00000\n",
      "\n",
      "error = 0\n"
     ]
    }
   ],
   "source": [
    "[x, error]=gaseism([[5, 1, 1], [1, 5, 1],[1, 1, 5]],[7, 7, 7],[0, 0, 0],0.0001)"
   ]
  },
  {
   "cell_type": "code",
   "execution_count": 36,
   "metadata": {
    "kernel": "Python 3"
   },
   "outputs": [
    {
     "data": {
      "text/plain": [
       "[[1.4000000000000001, 1.4000000000000001, 0.8399999999999999], 1]"
      ]
     },
     "execution_count": 36,
     "metadata": {},
     "output_type": "execute_result"
    }
   ],
   "source": [
    "nonMatricialGaussSeidel([[5, 1, 1], [1, 5, 1],[1, 1, 5]],[7, 7, 7],[0, 0, 0],0.0001)"
   ]
  },
  {
   "cell_type": "code",
   "execution_count": null,
   "metadata": {
    "kernel": "Python 3"
   },
   "outputs": [],
   "source": []
  }
 ],
 "metadata": {
  "kernelspec": {
   "display_name": "SoS",
   "language": "sos",
   "name": "sos"
  },
  "language_info": {
   "codemirror_mode": "sos",
   "file_extension": ".sos",
   "mimetype": "text/x-sos",
   "name": "sos",
   "nbconvert_exporter": "sos_notebook.converter.SoS_Exporter",
   "pygments_lexer": "sos"
  },
  "sos": {
   "kernels": [
    [
     "Octave",
     "octave",
     "octave",
     "",
     ""
    ],
    [
     "Python 3",
     "python3",
     "python3",
     "",
     {
      "name": "ipython",
      "version": 3
     }
    ]
   ],
   "panel": {
    "displayed": true,
    "height": 0
   },
   "version": "0.21.7"
  }
 },
 "nbformat": 4,
 "nbformat_minor": 2
}
