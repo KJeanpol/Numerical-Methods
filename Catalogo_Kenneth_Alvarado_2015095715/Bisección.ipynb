{
 "cells": [
  {
   "cell_type": "markdown",
   "metadata": {
    "kernel": "SoS"
   },
   "source": [
    "<h3><strong>Bisecci&oacute;n con GNU OCTAVE (OPCIÓN 1)</strong></h3>"
   ]
  },
  {
   "cell_type": "code",
   "execution_count": 3,
   "metadata": {
    "kernel": "octave"
   },
   "outputs": [
    {
     "name": "stdout",
     "output_type": "stream",
     "text": [
      "x =  1.1462\n",
      "k =  27\n",
      "error =  0.0000000012681\n"
     ]
    },
    {
     "data": {
      "image/png": "[encoded data removed]",
      "text/plain": [
       "<IPython.core.display.Image object>"
      ]
     },
     "metadata": {},
     "output_type": "display_data"
    }
   ],
   "source": [
    "function y=f1(x)\n",
    "    y=exp(x)-x-2;\n",
    "end\n",
    "\n",
    "function [x,k,error]=biseccion1(a,b,tol,iterMax)\n",
    "\n",
    "    %Esta función aproxima la solución de la ecuación f(x)=0, utilizando el método de la bisección\n",
    "    %\n",
    "    %Sintaxis:  biseccion1(a,b,tol,iterMax)\n",
    "    % \n",
    "    %Parámetros Iniciales: \n",
    "    %            a,b = son los extremos del intervalo [a,b]\n",
    "    %            tol = un número positivo que representa a la tolerancia para \n",
    "    %                  el criterio |f(x_k)|<tol\n",
    "    %            iterMax = cantidad de iteraciones máximas\n",
    "    %            \n",
    "    %Parámetros de Salida:                           \n",
    "    %            x = aproximación del cero de la función f\n",
    "    %            k = número de iteraciones realizados\n",
    "    %            error =  |f(x)|\n",
    "\n",
    "    if f1(a)*f1(b)>0\n",
    "        x=[]; k=[]; error=[];\n",
    "        display('El teorema de Bolzano no se cumple, es decir, f(a)*f(b)>0')\n",
    "    else        \n",
    "        k=0;\n",
    "        error=tol+1;\n",
    "        e=[];\n",
    "        while and(error>tol,k<iterMax)\n",
    "            k=k+1;\n",
    "            x=(a+b)/2;\n",
    "            error=abs(f1(x));\n",
    "            e=[e error];\n",
    "            if f1(a)*f1(x)<0\n",
    "                b=x;\n",
    "            else\n",
    "                a=x;\n",
    "            end            \n",
    "        end\n",
    "        plot(1:k,e)\n",
    "    end\n",
    "end\n",
    "\n",
    "%help biseccion1\n",
    "\n",
    "[x,k,error]=biseccion1(0,2,10^-8,40)"
   ]
  },
  {
   "cell_type": "markdown",
   "metadata": {
    "kernel": "octave"
   },
   "source": [
    "<h3><strong>Bisecci&oacute;n con GNU OCTAVE (OPCIÓN 2)</strong></h3>"
   ]
  },
  {
   "cell_type": "code",
   "execution_count": 12,
   "metadata": {
    "kernel": "Octave"
   },
   "outputs": [
    {
     "name": "stdout",
     "output_type": "stream",
     "text": [
      "error: 'f1' undefined near line 21 column 8\n",
      "error: called from\n",
      "    biseccion2 at line 21 column 5\n"
     ]
    }
   ],
   "source": [
    "function [x,k,error]=biseccion2(f,a,b,tol,iterMax)\n",
    "\n",
    "    %Esta función aproxima la solución de la ecuación f(x)=0, utilizando el método de la bisección\n",
    "    %\n",
    "    %Sintaxis:  biseccion1(f,a,b,tol,iterMax)\n",
    "    % \n",
    "    %Parámetros Iniciales: \n",
    "    %            f = una  cadena de caracteres (string) que representa a la función f\n",
    "    %            a,b = son los extremos del intervalo [a,b]\n",
    "    %            tol = un número positivo que representa a la tolerancia para el criterio |f(x_k)|<tol\n",
    "    %            iterMax = cantidad de iteraciones máximas\n",
    "    %            \n",
    "    %Parámetros de Salida:                           \n",
    "    %            x = aproximación del cero de la función f\n",
    "    %            k = número de iteraciones realizados\n",
    "    %            error =  |f(x)|\n",
    "\n",
    "    aux = strcat('@(x)',f); % @x + función\n",
    "    f = str2func(aux); % función string a ecuación\n",
    "\n",
    "    if f1(a)*f1(b)>0\n",
    "        x=[]; k=[]; error=[];\n",
    "        display('El teorema de Bolzano no se cumple, es decir, f(a)*f(b)>0')\n",
    "    else\n",
    "        k=0;\n",
    "        error=tol+1;\n",
    "        e=[];\n",
    "        while and(error>tol,k<iterMax)\n",
    "            k=k+1;\n",
    "            x=(a+b)/2;\n",
    "            error=abs(f1(x));\n",
    "            e=[e error];\n",
    "            if f1(a)*f1(x)<0\n",
    "                b=x;\n",
    "            else\n",
    "                a=x;\n",
    "            end\n",
    "        end\n",
    "        plot(1:k,e)\n",
    "    end\n",
    "end\n",
    "\n",
    "%help biseccion2\n",
    "\n",
    "[x,k,error]=biseccion2('exp(x)-x-2',0,2,10^-8,40)"
   ]
  },
  {
   "cell_type": "markdown",
   "metadata": {
    "kernel": "octave"
   },
   "source": [
    "<h3><strong>Bisecci&oacute;n con GNU OCTAVE (OPCIÓN 3)</strong></h3>"
   ]
  },
  {
   "cell_type": "code",
   "execution_count": 13,
   "metadata": {
    "kernel": "Octave"
   },
   "outputs": [
    {
     "name": "stdout",
     "output_type": "stream",
     "text": [
      "x =  1.1462\n",
      "k =  27\n",
      "error =  0.0000000012681\n"
     ]
    },
    {
     "data": {
      "image/png": "[encoded data removed]",
      "text/plain": [
       "<IPython.core.display.Image object>"
      ]
     },
     "metadata": {},
     "output_type": "display_data"
    }
   ],
   "source": [
    "function [x,k,error]=biseccion3(f,a,b,tol,iterMax)\n",
    "\n",
    "    %Esta función aproxima la solución de la ecuación f(x)=0, utilizando el método de la bisección\n",
    "    %\n",
    "    %Sintaxis:  biseccion1(f,a,b,tol,iterMax)\n",
    "    % \n",
    "    %Parámetros Iniciales: \n",
    "    %            f = una  cadena de caracteres (string) que representa a la función f\n",
    "    %            a,b = son los extremos del intervalo [a,b]\n",
    "    %            tol = un número positivo que representa a la tolerancia para el criterio |f(x_k)|<tol\n",
    "    %            iterMax = cantidad de iteraciones máximas\n",
    "    %            \n",
    "    %Parámetros de Salida:                           \n",
    "    %            x = aproximación del cero de la función f\n",
    "    %            k = número de iteraciones realizados\n",
    "    %            error =  |f(x)|\n",
    "\n",
    "\n",
    "    pkg load symbolic\n",
    "    \n",
    "    f1 = matlabFunction(sym(f));  % Se obtiene la funcion\n",
    "    %df = matlabFunction(diff(sym(funcion)));  % Se calcula la derivada\n",
    "    \n",
    "    if f1(a)*f1(b)>0\n",
    "        x=[]; k=[]; error=[];\n",
    "        display('El teorema de Bolzano no se cumple, es decir, f(a)*f(b)>0')\n",
    "    else\n",
    "        k=0;\n",
    "        error=tol+1;\n",
    "        e=[];\n",
    "        while and(error>tol,k<iterMax)\n",
    "            k=k+1;\n",
    "            x=(a+b)/2;\n",
    "            error=abs(f1(x));\n",
    "            e=[e error];\n",
    "            if f1(a)*f1(x)<0\n",
    "                b=x;\n",
    "            else\n",
    "                a=x;\n",
    "            end\n",
    "        end\n",
    "        plot(1:k,e)\n",
    "    end\n",
    "end\n",
    "\n",
    "%help biseccion3\n",
    "\n",
    "[x,k,error]=biseccion3('exp(x)-x-2',0,2,10^-8,50)"
   ]
  },
  {
   "cell_type": "markdown",
   "metadata": {
    "kernel": "octave"
   },
   "source": [
    "<h3><strong>Bisecci&oacute;n con Python</strong></h3>"
   ]
  },
  {
   "cell_type": "code",
   "execution_count": 14,
   "metadata": {
    "kernel": "Python 3"
   },
   "outputs": [
    {
     "data": {
      "text/plain": [
       "[1.146484375, 10, 0.000625006920975224]"
      ]
     },
     "execution_count": 14,
     "metadata": {},
     "output_type": "execute_result"
    },
    {
     "data": {
      "image/png": "[encoded data removed]",
      "text/plain": [
       "<Figure size 432x288 with 1 Axes>"
      ]
     },
     "metadata": {
      "needs_background": "light"
     },
     "output_type": "display_data"
    }
   ],
   "source": [
    "def biseccion1(f,a,b,tol,iterMax):\n",
    "\n",
    "    \"\"\"\n",
    "    Esta función aproxima la solución de la ecuación f(x)=0, utilizando el método de la bisección\n",
    "    \n",
    "    Sintaxis:  biseccion1(f,a,b,tol,iterMax)\n",
    "    \n",
    "    Parámetros Iniciales: \n",
    "                f = una  cadena de caracteres (string) que representa a la función f\n",
    "                a,b = son los extremos del intervalo [a,b]\n",
    "                tol = un número positivo que representa a la tolerancia para el criterio |f(x_k)|<tol\n",
    "                iterMax = cantidad de iteraciones máximas\n",
    "                \n",
    "    Parámetros de Salida: \n",
    "                [x_k,k,error], donde                \n",
    "                x_k = aproximación del cero de la función f\n",
    "                k = número de iteraciones realizados\n",
    "                error =  |f(x_k)|\n",
    "    \"\"\"\n",
    "    \n",
    "    \n",
    "    from sympy import  sympify\n",
    "    import matplotlib.pyplot\n",
    "\n",
    "    \n",
    "    funcion = sympify(f)\n",
    "    fa=funcion.subs({'x': a})\n",
    "    fb=funcion.subs({'x': b})\n",
    "    \n",
    "    if fa*fb>0:\n",
    "        x=[]\n",
    "        k=[]\n",
    "        error=[]\n",
    "        display('El teorema de Bolzano no se cumple, es decir, f(a)*f(b)>0')\n",
    "    else:\n",
    "        error=tol+1\n",
    "        k=0\n",
    "        it=[]\n",
    "        er=[]\n",
    "        while error>tol and k<iterMax:\n",
    "            k=k+1\n",
    "            x=(a+b)/2\n",
    "            fa=funcion.subs({'x': a})\n",
    "            fx=funcion.subs({'x': x})\n",
    "            error=abs(fx)\n",
    "            it.append(k)\n",
    "            er.append(error)\n",
    "            if fa*fx<0:\n",
    "                b=x                \n",
    "            else:\n",
    "                a=x   \n",
    "    matplotlib.pyplot.plot(it, er)\n",
    "    return [x,k,error]\n",
    "\n",
    "\"\"\"help(biseccion1)\"\"\"\n",
    "\n",
    "biseccion1('exp(x)-x-2',0,2,10**-8,10)"
   ]
  },
  {
   "cell_type": "code",
   "execution_count": null,
   "metadata": {
    "kernel": "Python 3"
   },
   "outputs": [],
   "source": []
  }
 ],
 "metadata": {
  "kernelspec": {
   "display_name": "SoS",
   "language": "sos",
   "name": "sos"
  },
  "language_info": {
   "codemirror_mode": "sos",
   "file_extension": ".sos",
   "mimetype": "text/x-sos",
   "name": "sos",
   "nbconvert_exporter": "sos_notebook.converter.SoS_Exporter",
   "pygments_lexer": "sos"
  },
  "sos": {
   "kernels": [
    [
     "Octave",
     "octave",
     "octave",
     "",
     ""
    ],
    [
     "Python 3",
     "python3",
     "python3",
     "",
     {
      "name": "ipython",
      "version": 3
     }
    ],
    [
     "octave",
     "octave",
     "octave",
     "",
     ""
    ]
   ],
   "panel": {
    "displayed": true,
    "height": 0
   },
   "version": "0.21.7"
  }
 },
 "nbformat": 4,
 "nbformat_minor": 2
}
