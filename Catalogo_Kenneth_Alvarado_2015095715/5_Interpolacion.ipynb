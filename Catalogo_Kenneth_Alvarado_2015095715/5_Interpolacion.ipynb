{
 "cells": [
  {
   "cell_type": "markdown",
   "metadata": {
    "kernel": "SoS"
   },
   "source": [
    "<h1 style=\"text-align: center;\"><strong>5. Interpolación Polinomial</strong></h1>"
   ]
  },
  {
   "cell_type": "markdown",
   "metadata": {
    "kernel": "SoS"
   },
   "source": [
    "<h2><span style=\"color: #993300;\"><span style=\"text-decoration: underline;\"><strong>M&eacute;todo 1:</strong> Interpolación de Lagrange</span></span></h2>"
   ]
  },
  {
   "cell_type": "markdown",
   "metadata": {
    "kernel": "SoS"
   },
   "source": [
    "<h3><strong>a) Formulaci&oacute;n Matem&aacute;tica</strong></h3>"
   ]
  },
  {
   "cell_type": "markdown",
   "metadata": {
    "kernel": "SoS"
   },
   "source": [
    "\n",
    "\n",
    "\n",
    "$A=L+D+U $\n",
    "\n",
    "$x^{k+1}=M^{-1}Nx^{k}+M^{-1}b$\n",
    "\n",
    "$x^{0} \\in \\mathbb{R}^{n}$\n",
    "\n",
    "$M=D$\n",
    "\n",
    "$N=-(L+U)$\n"
   ]
  },
  {
   "cell_type": "markdown",
   "metadata": {
    "kernel": "SoS"
   },
   "source": [
    "<h3><strong>b) Valores Iniciales</strong></h3>"
   ]
  },
  {
   "cell_type": "markdown",
   "metadata": {
    "kernel": "SoS"
   },
   "source": [
    "  <li>Matriz A de tamaño mxn diagonalmente dominante</li>\n",
    "  <li>Vector x de tamaño n</li>\n",
    "  <li>Vector b de tamaño m</li>"
   ]
  },
  {
   "cell_type": "markdown",
   "metadata": {
    "kernel": "SoS"
   },
   "source": [
    "<h3><strong>c) Ventajas y Desvantajas</strong></h3>"
   ]
  },
  {
   "cell_type": "markdown",
   "metadata": {
    "kernel": "SoS"
   },
   "source": [
    "<div class=\"alert alert-block alert-success row\">\n",
    "    <div class=\"column\">\n",
    "        <p>\n",
    "            <span style=\"text-decoration: underline;\">\n",
    "                <span style=\"text-decoration: underline;\">\n",
    "                    <strong>Ventajas:</strong>\n",
    "                </span>\n",
    "            </span>\n",
    "        </p>\n",
    "        <li>Siempre converge</li>\n",
    "        <li>Útil como aproximación inicial de otros métodos</li>\n",
    "    </div>\n",
    "    <div class =\"column\">\n",
    "        <p>\n",
    "            <span style=\"text-decoration: underline;\">\n",
    "                <span style=\"text-decoration: underline;\">\n",
    "                    <strong>Desventajas:</strong>\n",
    "                </span>\n",
    "            </span>\n",
    "        </p>\n",
    "        <li>Convergencia Lenta</li>\n",
    "        <li>No tiene en cuenta la magnitud d elos valores de la función en las aproximaciones calculadas, solo tiene en cuneta el sifgno de f(x), por lo que hace que una aproximación intermedia, mejor que la respuesta final, pase desapercibida  </li>\n",
    "    </div>\n",
    "</div>"
   ]
  },
  {
   "cell_type": "markdown",
   "metadata": {
    "kernel": "SoS"
   },
   "source": [
    "<h3><strong>c) Pasos del m&eacute;todo (Pseudoc&oacute;digo)</strong></h3>"
   ]
  },
  {
   "cell_type": "markdown",
   "metadata": {
    "kernel": "SoS"
   },
   "source": [
    "![](Jacobi.PNG)"
   ]
  },
  {
   "cell_type": "markdown",
   "metadata": {
    "kernel": "SoS"
   },
   "source": [
    "<h3><strong>d) C&oacute;digo en GNU Octave</strong></h3>"
   ]
  },
  {
   "cell_type": "code",
   "execution_count": 5,
   "metadata": {
    "kernel": "Octave"
   },
   "outputs": [],
   "source": [
    "function result = lagrange(x, y, var)\n",
    "  % Lagrange's Interpolation Method\n",
    "\t% Inputs:\n",
    "\t%   - x is a vector containing all of the X coordinates\n",
    "  %   - y is a vector containing all of the Y coordinates\n",
    "  %   - var is the value used to evaluate the result\n",
    "  % Output:\n",
    "\t%   - result is the value obtained at evaluating var in the Lagrange's\n",
    "  %   - interpolation polynomial\n",
    "  n = length(x);\n",
    "  result = 0;\n",
    "  for k = 1 : n\n",
    "    product = 1;\n",
    "    for j = 1 : n\n",
    "      if j ~= k\n",
    "        product = product * (var - x(j))/(x(k) - x(j));\n",
    "      endif\n",
    "    endfor\n",
    "    result = result + product * y(k);\n",
    "  endfor\n",
    "  result=expand(result);\n",
    "endfunction\n"
   ]
  },
  {
   "cell_type": "markdown",
   "metadata": {
    "kernel": "SoS"
   },
   "source": [
    "<h3><strong>e) C&oacute;digo en Python</strong></h3>"
   ]
  },
  {
   "cell_type": "code",
   "execution_count": 7,
   "metadata": {
    "kernel": "Python 3"
   },
   "outputs": [],
   "source": [
    "from sympy import *\n",
    "import numpy as np\n",
    "x = symbols('x')\n",
    "def lagrange(x, y, var):\n",
    "    \n",
    "    n = len(x)\n",
    "    result=0\n",
    "    for k in range(1,n+1):\n",
    "        product=1;\n",
    "        for j in range (1,n+1):\n",
    "            if (j!=k):\n",
    "                product = product * (var - x[j-1])/(x[k-1] - x[j-1])\n",
    "        result = result + product * y[k-1]\n",
    "    pprint(expand(result), use_unicode=True)\n",
    "    return"
   ]
  },
  {
   "cell_type": "markdown",
   "metadata": {
    "kernel": "SoS"
   },
   "source": [
    "<h3><strong>f) Ejemplo Num&eacute;rico</strong></h3>"
   ]
  },
  {
   "cell_type": "markdown",
   "metadata": {
    "kernel": "SoS"
   },
   "source": [
    "Calcule el polinomio de interpolación de grado 2 que pasa por lo puntos\n",
    "(-2,0),(0,1),(1,-1),  utilizando el método de interpolación de Lagrange."
   ]
  },
  {
   "cell_type": "code",
   "execution_count": 6,
   "metadata": {
    "kernel": "Octave"
   },
   "outputs": [
    {
     "name": "stdout",
     "output_type": "stream",
     "text": [
      "ans = (sym)\n",
      "\n",
      "       2          \n",
      "    5*x    7*x    \n",
      "  - ---- - --- + 1\n",
      "     6      6     \n",
      "\n"
     ]
    }
   ],
   "source": [
    "pkg load symbolic\n",
    "syms x\n",
    "lagrange([-2 0 1], [0 1 -1], x)"
   ]
  },
  {
   "cell_type": "code",
   "execution_count": 8,
   "metadata": {
    "kernel": "Python 3"
   },
   "outputs": [
    {
     "name": "stdout",
     "output_type": "stream",
     "text": [
      "     2          \n",
      "  5⋅x    7⋅x    \n",
      "- ──── - ─── + 1\n",
      "   6      6     \n"
     ]
    }
   ],
   "source": [
    "lagrange([-2, 0, 1], [0, 1, -1], x)"
   ]
  },
  {
   "cell_type": "markdown",
   "metadata": {
    "kernel": "SoS"
   },
   "source": [
    "<h2><span style=\"color: #993300;\"><span style=\"text-decoration: underline;\"><strong>M&eacute;todo 2:</strong> Diferencias Divididas de Newton</span></span></h2>"
   ]
  },
  {
   "cell_type": "markdown",
   "metadata": {
    "kernel": "SoS"
   },
   "source": [
    "<h3><strong>a) Formulaci&oacute;n Matem&aacute;tica</strong></h3>"
   ]
  },
  {
   "cell_type": "markdown",
   "metadata": {
    "kernel": "SoS"
   },
   "source": [
    "\n",
    "\n",
    "\n",
    "$A=L+D+U $\n",
    "\n",
    "$x^{k+1}=M^{-1}Nx^{k}+M^{-1}b$\n",
    "\n",
    "$x^{0} \\in \\mathbb{R}^{n}$\n",
    "\n",
    "$M=D$\n",
    "\n",
    "$N=-(L+U)$\n"
   ]
  },
  {
   "cell_type": "markdown",
   "metadata": {
    "kernel": "SoS"
   },
   "source": [
    "<h3><strong>b) Valores Iniciales</strong></h3>"
   ]
  },
  {
   "cell_type": "markdown",
   "metadata": {
    "kernel": "SoS"
   },
   "source": [
    "  <li>Matriz A de tamaño mxn diagonalmente dominante</li>\n",
    "  <li>Vector x de tamaño n</li>\n",
    "  <li>Vector b de tamaño m</li>"
   ]
  },
  {
   "cell_type": "markdown",
   "metadata": {
    "kernel": "SoS"
   },
   "source": [
    "<h3><strong>c) Ventajas y Desvantajas</strong></h3>"
   ]
  },
  {
   "cell_type": "markdown",
   "metadata": {
    "kernel": "SoS"
   },
   "source": [
    "<div class=\"alert alert-block alert-success row\">\n",
    "    <div class=\"column\">\n",
    "        <p>\n",
    "            <span style=\"text-decoration: underline;\">\n",
    "                <span style=\"text-decoration: underline;\">\n",
    "                    <strong>Ventajas:</strong>\n",
    "                </span>\n",
    "            </span>\n",
    "        </p>\n",
    "        <li>Siempre converge</li>\n",
    "        <li>Útil como aproximación inicial de otros métodos</li>\n",
    "    </div>\n",
    "    <div class =\"column\">\n",
    "        <p>\n",
    "            <span style=\"text-decoration: underline;\">\n",
    "                <span style=\"text-decoration: underline;\">\n",
    "                    <strong>Desventajas:</strong>\n",
    "                </span>\n",
    "            </span>\n",
    "        </p>\n",
    "        <li>Convergencia Lenta</li>\n",
    "        <li>No tiene en cuenta la magnitud d elos valores de la función en las aproximaciones calculadas, solo tiene en cuneta el sifgno de f(x), por lo que hace que una aproximación intermedia, mejor que la respuesta final, pase desapercibida  </li>\n",
    "    </div>\n",
    "</div>"
   ]
  },
  {
   "cell_type": "markdown",
   "metadata": {
    "kernel": "SoS"
   },
   "source": [
    "<h3><strong>c) Pasos del m&eacute;todo (Pseudoc&oacute;digo)</strong></h3>"
   ]
  },
  {
   "cell_type": "markdown",
   "metadata": {
    "kernel": "SoS"
   },
   "source": [
    "![](Jacobi.PNG)"
   ]
  },
  {
   "cell_type": "markdown",
   "metadata": {
    "kernel": "SoS"
   },
   "source": [
    "<h3><strong>d) C&oacute;digo en GNU Octave</strong></h3>"
   ]
  },
  {
   "cell_type": "code",
   "execution_count": 11,
   "metadata": {
    "kernel": "Octave"
   },
   "outputs": [],
   "source": [
    "warning('off')\n",
    "function [C,D]= newtonInterpolation(X,Y)\n",
    "  n=length(X);\n",
    "  D=zeros(n,n);\n",
    "  D(:,1)=Y';\n",
    "  for j=2:n\n",
    "    for k=j:n\n",
    "      D(k,j)=(D(k,j-1)-D(k-1,j-1))/(X(k)-X(k-j+1));\n",
    "    endfor\n",
    "  endfor\n",
    "  C=D(n,n);\n",
    "  for k=(n-1):-1:1\n",
    "    C=conv(C,poly(X(k)));\n",
    "    m=length(C);\n",
    "    C(m)=C(m)+D(k,k);\n",
    "  endfor\n",
    "  C=poly2sym(C);\n",
    "endfunction"
   ]
  },
  {
   "cell_type": "markdown",
   "metadata": {
    "kernel": "SoS"
   },
   "source": [
    "<h3><strong>e) C&oacute;digo en Python</strong></h3>"
   ]
  },
  {
   "cell_type": "code",
   "execution_count": null,
   "metadata": {
    "kernel": "Python 3"
   },
   "outputs": [],
   "source": []
  },
  {
   "cell_type": "markdown",
   "metadata": {
    "kernel": "SoS"
   },
   "source": [
    "<h3><strong>f) Ejemplo Num&eacute;rico</strong></h3>"
   ]
  },
  {
   "cell_type": "markdown",
   "metadata": {
    "kernel": "SoS"
   },
   "source": [
    "Calcule el polinomio de interpolación de menor grado que pasa por lo puntos (-2,0),(0,1),(1,-1) utilizando el método de diferencias divididas."
   ]
  },
  {
   "cell_type": "code",
   "execution_count": 12,
   "metadata": {
    "kernel": "Octave"
   },
   "outputs": [
    {
     "name": "stdout",
     "output_type": "stream",
     "text": [
      "C = (sym)\n",
      "\n",
      "       2          \n",
      "    5*x    7*x    \n",
      "  - ---- - --- + 1\n",
      "     6      6     \n",
      "\n",
      "D =\n",
      "\n",
      "   0.00000   0.00000   0.00000\n",
      "   1.00000   0.50000   0.00000\n",
      "  -1.00000  -2.00000  -0.83333\n",
      "\n"
     ]
    }
   ],
   "source": [
    "pkg load symbolic\n",
    "[C,D]= newtonInterpolation([-2 0 1],[0 1 -1])"
   ]
  },
  {
   "cell_type": "code",
   "execution_count": null,
   "metadata": {
    "kernel": "Python 3"
   },
   "outputs": [],
   "source": []
  }
 ],
 "metadata": {
  "kernelspec": {
   "display_name": "SoS",
   "language": "sos",
   "name": "sos"
  },
  "language_info": {
   "codemirror_mode": "sos",
   "file_extension": ".sos",
   "mimetype": "text/x-sos",
   "name": "sos",
   "nbconvert_exporter": "sos_notebook.converter.SoS_Exporter",
   "pygments_lexer": "sos"
  },
  "sos": {
   "kernels": [
    [
     "Octave",
     "octave",
     "octave",
     "",
     ""
    ],
    [
     "Python 3",
     "python3",
     "python3",
     "",
     ""
    ]
   ],
   "panel": {
    "displayed": true,
    "height": 0
   },
   "version": "0.21.7"
  }
 },
 "nbformat": 4,
 "nbformat_minor": 2
}
