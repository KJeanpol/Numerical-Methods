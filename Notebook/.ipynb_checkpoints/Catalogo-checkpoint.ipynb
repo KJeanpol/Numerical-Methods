{
 "cells": [
  {
   "cell_type": "markdown",
   "metadata": {
    "kernel": "SoS"
   },
   "source": [
    "<div style=\"text-align: center;\" role=\"presentation\">\n",
    "<h1 role=\"presentation\"><strong><span role=\"presentation\">An&aacute;lisis Num&eacute;rico para Ingenier&iacute;a - I Semestre 2020</span></strong></h1>"
   ]
  },
  {
   "cell_type": "markdown",
   "metadata": {
    "kernel": "SoS"
   },
   "source": [
    "<h1 style=\"text-align: center;\"><span style=\"color: #0000ff;\">Cat&aacute;logo de Algoritmos</span></h1>"
   ]
  },
  {
   "cell_type": "markdown",
   "metadata": {
    "kernel": "SoS"
   },
   "source": [
    "<h3><span style=\"text-decoration: underline;\">Nombre:</span>&nbsp;Juan Pablo Soto Quir&oacute;s</h3>\n",
    "<h3><span style=\"text-decoration: underline;\">Carnet:</span>&nbsp;2020123456</h3>"
   ]
  },
  {
   "cell_type": "markdown",
   "metadata": {
    "kernel": "SoS"
   },
   "source": [
    "<p><strong>Descripci&oacute;n:&nbsp;</strong>Este documento presenta un cat&aacute;logo de los algoritmos explicados en clases del curso de An&aacute;lisis Num&eacute;rico para Ingenier&iacute;a. Los algoritmos estan dividios en temas, y cada algoritmo contiene una breve descripci&oacute;n de este, explicando los siguientes aspectos:</p>\n",
    "<ul>\n",
    "<li>Formulaci&oacute;n Matem&aacute;tica</li>\n",
    "<li>Valores Iniciales</li>\n",
    "<li>Ventajas y Desventajas</li>\n",
    "<li>Pasos del m&eacute;todo (Pseudoc&oacute;digo)</li>\n",
    "<li>C&oacute;digo del Algoritmo en GNU Octave</li>\n",
    "<li>C&oacute;digo del Algoritmo en Python</li>\n",
    "<li>Ejemplo Num&eacute;rico</li>\n",
    "</ul>"
   ]
  },
  {
   "cell_type": "markdown",
   "metadata": {
    "kernel": "SoS"
   },
   "source": [
    "<h3><span style=\"color: #008080;\"><strong>Temas</strong></span></h3>\n",
    "\n",
    "[<p><strong>1. Soluci&oacute;n de Ecuaciones No Lineales</strong></p>](1_Raices.ipynb)\n",
    "[<p><strong>2. M&eacute;todos Iterativos para Optimizaci&oacute;n</strong></p>](2_Optimizacion.ipynb)\n",
    "[<p><strong>3. Sistemas de Ecuaciones Lineales: M&eacute;todo Directos</strong></p>](3_Sistemas_Directos.ipynb)\n",
    "[<p><strong>4. Sistemas de Ecuaciones Lineales: M&eacute;todo Iterativos</strong></p>](4_Sistemas_Iterativos.ipynb)\n",
    "[<p><strong>5. Interpolaci&oacute;n Polinomial</strong></p>](5_Interpolacion.ipynb)\n",
    "[<p><strong>6. Integraci&oacute;n Num&eacute;rica</strong></p>](6_Integracion.ipynb)\n",
    "[<p><strong>7. Derivaci&oacute;n Num&eacute;rica</strong></p>](7_Derivadas.ipynb)\n",
    "[<p><strong>8. Soluci&oacute;n Num&eacute;rica de Ecuaciones Diferenciales</strong></p>](8_Ecuaciones_Diferenciales.ipynb)\n",
    "[<p><strong>9. M&eacute;todos Iterativos para Calcular Valores y Vectores Propios</strong></p>](9_Valores_Propios.ipynb)"
   ]
  }
 ],
 "metadata": {
  "kernelspec": {
   "display_name": "SoS",
   "language": "sos",
   "name": "sos"
  },
  "language_info": {
   "codemirror_mode": "sos",
   "file_extension": ".sos",
   "mimetype": "text/x-sos",
   "name": "sos",
   "nbconvert_exporter": "sos_notebook.converter.SoS_Exporter",
   "pygments_lexer": "sos"
  },
  "sos": {
   "kernels": [],
   "panel": {
    "displayed": true,
    "height": 0
   },
   "version": "0.20.6"
  }
 },
 "nbformat": 4,
 "nbformat_minor": 2
}
