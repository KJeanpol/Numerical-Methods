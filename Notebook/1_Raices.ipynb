{
 "cells": [
  {
   "cell_type": "markdown",
   "metadata": {
    "kernel": "SoS"
   },
   "source": [
    "<h1 style=\"text-align: center;\"><strong>1. Soluci&oacute;n de Ecuaciones No Lineales</strong></h1>"
   ]
  },
  {
   "cell_type": "markdown",
   "metadata": {
    "kernel": "python3"
   },
   "source": [
    "<h2 style=\"text-align: center;\"><span style=\"text-decoration: underline; color: #008080;\"><strong>Algoritmos</strong></span></h2>\n",
    "\n",
    "[<strong>M&eacute;todo 1: M&eacute;todo de la Bisecci&oacute;n</strong>](#biseccion)\n",
    "\n",
    "[<strong>M&eacute;todo 2: Nombre&nbsp;</strong>](#metodo2)\n",
    "\n",
    "<strong>M&eacute;todo 3:</strong>"
   ]
  },
  {
   "cell_type": "markdown",
   "metadata": {
    "kernel": "SoS"
   },
   "source": [
    "<a id='biseccion'></a>\n",
    "<h2><span style=\"color: #993300;\"><span style=\"text-decoration: underline;\"><strong>M&eacute;todo 1:</strong> M&eacute;todo de la Bisecci&oacute;n</span></span></h2>"
   ]
  },
  {
   "cell_type": "markdown",
   "metadata": {
    "kernel": "SoS"
   },
   "source": [
    "<h3><strong>a) Formulaci&oacute;n Matem&aacute;tica</strong></h3>"
   ]
  },
  {
   "cell_type": "markdown",
   "metadata": {
    "kernel": "SoS"
   },
   "source": [
    "\n",
    "$\\begin{equation}\n",
    "I_{k+1} = \\left[a_{k+1},b_{k+1}\\right] = \\left\\{ \\begin{array}{lcc}\n",
    "            \\left[a_{k},x_{k}\\right] &   si  & f(a_{k})f(x_{k}) < 0 \\\\\n",
    "             \\left[x_{k},b_{k}\\right] &   si  & f(a_{k})f(x_{k}) > 0\n",
    "             \\end{array}\n",
    "   \\right.\n",
    "\\end{equation}$\n"
   ]
  },
  {
   "cell_type": "markdown",
   "metadata": {
    "kernel": "SoS"
   },
   "source": [
    "<h3><strong>b) Valores Iniciales</strong></h3>\n"
   ]
  },
  {
   "cell_type": "markdown",
   "metadata": {
    "kernel": "SoS"
   },
   "source": [
    "\n",
    "$\\begin{equation}\n",
    "    \\left[a,b\\right] \\hspace{0.2cm} y \\hspace{0.2cm} f(x) \\hspace{0.2cm} continua\n",
    "\\end{equation}$"
   ]
  },
  {
   "cell_type": "markdown",
   "metadata": {
    "kernel": "SoS"
   },
   "source": [
    "<h3><strong>c) Ventajas y Desvantajas</strong></h3>"
   ]
  },
  {
   "cell_type": "markdown",
   "metadata": {
    "kernel": "SoS"
   },
   "source": [
    "<div class=\"alert alert-block alert-success row\">\n",
    "    <div class=\"column\">\n",
    "        <p>\n",
    "            <span style=\"text-decoration: underline;\">\n",
    "                <span style=\"text-decoration: underline;\">\n",
    "                    <strong>Ventajas:</strong>\n",
    "                </span>\n",
    "            </span>\n",
    "        </p>\n",
    "        <li>1</li>\n",
    "        <li>2</li>\n",
    "        <li>3</li>\n",
    "    </div>\n",
    "    <div class =\"column\">\n",
    "        <p>\n",
    "            <span style=\"text-decoration: underline;\">\n",
    "                <span style=\"text-decoration: underline;\">\n",
    "                    <strong>Desventajas:</strong>\n",
    "                </span>\n",
    "            </span>\n",
    "        </p>\n",
    "        <li>1</li>\n",
    "        <li>2</li>\n",
    "        <li>3</li>\n",
    "    </div>\n",
    "</div>"
   ]
  },
  {
   "cell_type": "markdown",
   "metadata": {
    "kernel": "SoS"
   },
   "source": [
    "<h3><strong>d) Pasos del m&eacute;todo (Pseudoc&oacute;digo)</strong></h3>"
   ]
  },
  {
   "cell_type": "markdown",
   "metadata": {
    "kernel": "SoS"
   },
   "source": [
    "Aca escribe los pasos necesarios de cada algoritmo. Se deben indicar los valores iniciales y los valores finales. Por ejemplo, estos son los pasos para resolver la operación $a(b+c)$\n",
    "\n",
    "<div class=\"alert alert-block alert-success\">\n",
    "<h3 style=\"text-align: center;\"><strong>Operación $a(b+c)$</strong></h3>\n",
    "    \n",
    "<p><span style=\"text-decoration: underline;\"><span style=\"text-decoration: underline;\"><strong>Valores Iniciales:</strong></span></span> Num&eacute;ros $a, b, c\\in\\mathbb{R}$</p>\n",
    "<p>&nbsp; &nbsp; &nbsp; &nbsp; &nbsp;<span style=\"text-decoration: underline;\">Paso 1:</span> $y=b+c$</p>\n",
    "<p>&nbsp; &nbsp; &nbsp; &nbsp; &nbsp;<span style=\"text-decoration: underline;\">Paso 2:</span> $d=a \\cdot y$</p>\n",
    "<p><span style=\"text-decoration: underline;\"><strong>Valor Final:</strong></span> N&uacute;mero $d\\in\\mathbb{R}$</p>\n",
    "</div>"
   ]
  },
  {
   "cell_type": "markdown",
   "metadata": {
    "kernel": "SoS"
   },
   "source": [
    "<h3><strong>e) C&oacute;digo en GNU Octave</strong></h3>"
   ]
  },
  {
   "cell_type": "code",
   "execution_count": 1,
   "metadata": {
    "kernel": "Octave"
   },
   "outputs": [
    {
     "ename": "RuntimeError",
     "evalue": "Failed to start kernel \"Octave\". Kernel didn't respond in 30 seconds\nError Message:\n[MetaKernelApp] ERROR | Exception in message handler:\r\nTraceback (most recent call last):\r\n  File \"C:\\Users\\Jeanpol\\AppData\\Local\\Programs\\Python\\Python37-32\\lib\\site-packages\\ipykernel\\kernelbase.py\", line 268, in dispatch_shell\r\n    yield gen.maybe_future(handler(stream, idents, msg))\r\n  File \"C:\\Users\\Jeanpol\\AppData\\Local\\Programs\\Python\\Python37-32\\lib\\site-packages\\ipykernel\\kernelbase.py\", line 654, in kernel_info_request\r\n    content.update(self.kernel_info)\r\n  File \"C:\\Users\\Jeanpol\\AppData\\Local\\Programs\\Python\\Python37-32\\lib\\site-packages\\ipykernel\\kernelbase.py\", line 647, in kernel_info\r\n    'language_info': self.language_info,\r\n  File \"C:\\Users\\Jeanpol\\AppData\\Local\\Programs\\Python\\Python37-32\\lib\\site-packages\\octave_kernel\\kernel.py\", line 78, in language_info\r\n    'version': self.language_version,\r\n  File \"C:\\Users\\Jeanpol\\AppData\\Local\\Programs\\Python\\Python37-32\\lib\\site-packages\\octave_kernel\\kernel.py\", line 69, in language_version\r\n    ver = self.octave_engine.eval('version', silent=True)\r\n  File \"C:\\Users\\Jeanpol\\AppData\\Local\\Programs\\Python\\Python37-32\\lib\\site-packages\\octave_kernel\\kernel.py\", line 96, in octave_engine\r\n    logger=self.log)\r\n  File \"C:\\Users\\Jeanpol\\AppData\\Local\\Programs\\Python\\Python37-32\\lib\\site-packages\\octave_kernel\\kernel.py\", line 170, in __init__\r\n    self.executable = self._get_executable()\r\n  File \"C:\\Users\\Jeanpol\\AppData\\Local\\Programs\\Python\\Python37-32\\lib\\site-packages\\octave_kernel\\kernel.py\", line 457, in _get_executable\r\n    raise OSError('octave-cli not found, please see README')\r\nOSError: octave-cli not found, please see README\r\n",
     "output_type": "error",
     "traceback": [
      "\u001b[91mFailed to start kernel \"Octave\". Kernel didn't respond in 30 seconds\nError Message:\n[MetaKernelApp] ERROR | Exception in message handler:\r\nTraceback (most recent call last):\r\n  File \"C:\\Users\\Jeanpol\\AppData\\Local\\Programs\\Python\\Python37-32\\lib\\site-packages\\ipykernel\\kernelbase.py\", line 268, in dispatch_shell\r\n    yield gen.maybe_future(handler(stream, idents, msg))\r\n  File \"C:\\Users\\Jeanpol\\AppData\\Local\\Programs\\Python\\Python37-32\\lib\\site-packages\\ipykernel\\kernelbase.py\", line 654, in kernel_info_request\r\n    content.update(self.kernel_info)\r\n  File \"C:\\Users\\Jeanpol\\AppData\\Local\\Programs\\Python\\Python37-32\\lib\\site-packages\\ipykernel\\kernelbase.py\", line 647, in kernel_info\r\n    'language_info': self.language_info,\r\n  File \"C:\\Users\\Jeanpol\\AppData\\Local\\Programs\\Python\\Python37-32\\lib\\site-packages\\octave_kernel\\kernel.py\", line 78, in language_info\r\n    'version': self.language_version,\r\n  File \"C:\\Users\\Jeanpol\\AppData\\Local\\Programs\\Python\\Python37-32\\lib\\site-packages\\octave_kernel\\kernel.py\", line 69, in language_version\r\n    ver = self.octave_engine.eval('version', silent=True)\r\n  File \"C:\\Users\\Jeanpol\\AppData\\Local\\Programs\\Python\\Python37-32\\lib\\site-packages\\octave_kernel\\kernel.py\", line 96, in octave_engine\r\n    logger=self.log)\r\n  File \"C:\\Users\\Jeanpol\\AppData\\Local\\Programs\\Python\\Python37-32\\lib\\site-packages\\octave_kernel\\kernel.py\", line 170, in __init__\r\n    self.executable = self._get_executable()\r\n  File \"C:\\Users\\Jeanpol\\AppData\\Local\\Programs\\Python\\Python37-32\\lib\\site-packages\\octave_kernel\\kernel.py\", line 457, in _get_executable\r\n    raise OSError('octave-cli not found, please see README')\r\nOSError: octave-cli not found, please see README\r\n\u001b[0m"
     ]
    }
   ],
   "source": [
    "% Acá se escribe la función del método de la bisección utilizando el código de GNU OCtave\n",
    "% Ejemplo ilustrativo\n",
    "function d=operacion(a,b,c)\n",
    "    %Esta función realiza la suma de dos terminos a y b, y el resultado lo guarda en la variable y\n",
    "    y=b+c;\n",
    "    d=a*y;\n",
    "end\n",
    "operacion(6,9,1)"
   ]
  },
  {
   "cell_type": "markdown",
   "metadata": {
    "kernel": "octave"
   },
   "source": [
    "<h3><strong>f) C&oacute;digo en Python</strong></h3>"
   ]
  },
  {
   "cell_type": "code",
   "execution_count": null,
   "metadata": {
    "kernel": "Python 3"
   },
   "outputs": [],
   "source": [
    "#Acá se escribe la función del método de la bisección utilizando el código de GNU OCtave\n",
    "#Ejemplo ilustrativo\n",
    "\n",
    "def operacion(a,b,c):\n",
    "    #Esta función realiza la suma de dos terminos a y b, y el resultado lo guarda en la variable y\n",
    "    y=b+c\n",
    "    d=a*y\n",
    "    return (d)\n",
    "\n",
    "operacion(6,9,1)"
   ]
  },
  {
   "cell_type": "markdown",
   "metadata": {
    "kernel": "python3"
   },
   "source": [
    "<h3><strong>g) Ejemplo Num&eacute;rico</strong></h3>"
   ]
  },
  {
   "cell_type": "markdown",
   "metadata": {
    "kernel": "python3"
   },
   "source": [
    "Acá explica un ejemplo numérico del método. Puede ser un ejemplo de los explicados en clase. La solución se realiza utilizando las funciones implementadas anteriormente en GNU Octave y Python. \n",
    "\n",
    "Por ejemplo: Considere dos números $a=5$, $b=-4$ y $c=2$. El resultado de la operación $a(b+c)$ es $-10$"
   ]
  },
  {
   "cell_type": "code",
   "execution_count": null,
   "metadata": {
    "kernel": "octave"
   },
   "outputs": [],
   "source": [
    "% Solución del ejemplo utilizando GNU Octave\n",
    "a=5;\n",
    "b=-4;\n",
    "c=2;\n",
    "y=operacion(5,-4,2)"
   ]
  },
  {
   "cell_type": "code",
   "execution_count": 4,
   "metadata": {
    "kernel": "Python 3"
   },
   "outputs": [
    {
     "name": "stdout",
     "output_type": "stream",
     "text": [
      "-10\n"
     ]
    }
   ],
   "source": [
    "# Solución del ejemplo utilizando Python\n",
    "a=5\n",
    "b=-4\n",
    "c=2\n",
    "y=operacion(5,-4,2)\n",
    "print(y)"
   ]
  },
  {
   "cell_type": "markdown",
   "metadata": {
    "kernel": "python3"
   },
   "source": [
    "<a id='metodo2'></a>\n",
    "<h2><span style=\"color: #993300;\"><strong>M&eacute;todo 2: Nombre</strong> </span></h2>"
   ]
  },
  {
   "cell_type": "markdown",
   "metadata": {
    "kernel": "SoS"
   },
   "source": [
    "<h3><strong>a) Formulaci&oacute;n Matem&aacute;tica</strong></h3>"
   ]
  },
  {
   "cell_type": "markdown",
   "metadata": {
    "kernel": "SoS"
   },
   "source": [
    "\n",
    "$\\begin{equation}\n",
    "I_{k+1} = \\left[a_{k+1},b_{k+1}\\right] = \\left\\{ \\begin{array}{lcc}\n",
    "            \\left[a_{k},x_{k}\\right] &   si  & f(a_{k})f(x_{k}) < 0 \\\\\n",
    "             \\left[x_{k},b_{k}\\right] &   si  & f(a_{k})f(x_{k}) > 0\n",
    "             \\end{array}\n",
    "   \\right.\n",
    "\\end{equation}$\n"
   ]
  },
  {
   "cell_type": "markdown",
   "metadata": {
    "kernel": "Python 3"
   },
   "source": [
    "<h3><strong>b) Valores Iniciales</strong></h3>"
   ]
  },
  {
   "cell_type": "markdown",
   "metadata": {
    "kernel": "SoS"
   },
   "source": [
    "\n",
    "$\\begin{equation}\n",
    "    \\left[a,b\\right] \\hspace{0.2cm} y \\hspace{0.2cm} f(x) \\hspace{0.2cm} continua\n",
    "\\end{equation}$"
   ]
  },
  {
   "cell_type": "markdown",
   "metadata": {
    "kernel": "SoS"
   },
   "source": [
    "<h3><strong>c) Ventajas y Desvantajas</strong></h3>"
   ]
  },
  {
   "cell_type": "markdown",
   "metadata": {
    "kernel": "SoS"
   },
   "source": [
    "<div class=\"alert alert-block alert-success row\">\n",
    "    <div class=\"column\">\n",
    "        <p>\n",
    "            <span style=\"text-decoration: underline;\">\n",
    "                <span style=\"text-decoration: underline;\">\n",
    "                    <strong>Ventajas:</strong>\n",
    "                </span>\n",
    "            </span>\n",
    "        </p>\n",
    "        <li>1</li>\n",
    "        <li>2</li>\n",
    "        <li>3</li>\n",
    "    </div>\n",
    "    <div class =\"column\">\n",
    "        <p>\n",
    "            <span style=\"text-decoration: underline;\">\n",
    "                <span style=\"text-decoration: underline;\">\n",
    "                    <strong>Desventajas:</strong>\n",
    "                </span>\n",
    "            </span>\n",
    "        </p>\n",
    "        <li>1</li>\n",
    "        <li>2</li>\n",
    "        <li>3</li>\n",
    "    </div>\n",
    "</div>"
   ]
  },
  {
   "cell_type": "markdown",
   "metadata": {
    "kernel": "SoS"
   },
   "source": [
    "<h3><strong>d) Pasos del m&eacute;todo (Pseudoc&oacute;digo)</strong></h3>"
   ]
  },
  {
   "cell_type": "markdown",
   "metadata": {
    "kernel": "SoS"
   },
   "source": [
    "Aca escribe los pasos necesarios de cada algoritmo. Se deben indicar los valores iniciales y los valores finales. Por ejemplo, estos son los pasos para resolver la operación $a(b+c)$\n",
    "\n",
    "<div class=\"alert alert-block alert-success\">\n",
    "<h3 style=\"text-align: center;\"><strong>Operación $a(b+c)$</strong></h3>\n",
    "    \n",
    "<p><span style=\"text-decoration: underline;\"><span style=\"text-decoration: underline;\"><strong>Valores Iniciales:</strong></span></span> Num&eacute;ros $a, b, c\\in\\mathbb{R}$</p>\n",
    "<p>&nbsp; &nbsp; &nbsp; &nbsp; &nbsp;<span style=\"text-decoration: underline;\">Paso 1:</span> $y=b+c$</p>\n",
    "<p>&nbsp; &nbsp; &nbsp; &nbsp; &nbsp;<span style=\"text-decoration: underline;\">Paso 2:</span> $d=a \\cdot y$</p>\n",
    "<p><span style=\"text-decoration: underline;\"><strong>Valor Final:</strong></span> N&uacute;mero $d\\in\\mathbb{R}$</p>\n",
    "</div>"
   ]
  },
  {
   "cell_type": "markdown",
   "metadata": {
    "kernel": "SoS"
   },
   "source": [
    "<h3><strong>e) C&oacute;digo en GNU Octave</strong></h3>"
   ]
  },
  {
   "cell_type": "code",
   "execution_count": null,
   "metadata": {
    "kernel": "octave"
   },
   "outputs": [],
   "source": [
    "% Acá se escribe la función del método de la bisección utilizando el código de GNU OCtave\n",
    "% Ejemplo ilustrativo\n",
    "function d=operacion(a,b,c)\n",
    "    %Esta función realiza la suma de dos terminos a y b, y el resultado lo guarda en la variable y\n",
    "    y=b+c;\n",
    "    d=a*y;\n",
    "end\n",
    "operacion(6,9,1)"
   ]
  },
  {
   "cell_type": "markdown",
   "metadata": {
    "kernel": "octave"
   },
   "source": [
    "<h3><strong>f) C&oacute;digo en Python</strong></h3>"
   ]
  },
  {
   "cell_type": "code",
   "execution_count": null,
   "metadata": {
    "kernel": "Python 3"
   },
   "outputs": [],
   "source": [
    "#Acá se escribe la función del método de la bisección utilizando el código de GNU OCtave\n",
    "#Ejemplo ilustrativo\n",
    "\n",
    "def operacion(a,b,c):\n",
    "    #Esta función realiza la suma de dos terminos a y b, y el resultado lo guarda en la variable y\n",
    "    y=b+c\n",
    "    d=a*y\n",
    "    return (d)\n",
    "\n",
    "operacion(6,9,1)"
   ]
  },
  {
   "cell_type": "markdown",
   "metadata": {
    "kernel": "python3"
   },
   "source": [
    "<h3><strong>g) Ejemplo Num&eacute;rico</strong></h3>"
   ]
  },
  {
   "cell_type": "markdown",
   "metadata": {
    "kernel": "python3"
   },
   "source": [
    "Acá explica un ejemplo numérico del método. Puede ser un ejemplo de los explicados en clase. La solución se realiza utilizando las funciones implementadas anteriormente en GNU Octave y Python. \n",
    "\n",
    "Por ejemplo: Considere dos números $a=5$, $b=-4$ y $c=2$. El resultado de la operación $a(b+c)$ es $-10$"
   ]
  },
  {
   "cell_type": "code",
   "execution_count": null,
   "metadata": {
    "kernel": "octave"
   },
   "outputs": [],
   "source": [
    "% Solución del ejemplo utilizando GNU Octave\n",
    "a=5;\n",
    "b=-4;\n",
    "c=2;\n",
    "y=operacion(5,-4,2)"
   ]
  },
  {
   "cell_type": "code",
   "execution_count": 2,
   "metadata": {
    "kernel": "Python 3"
   },
   "outputs": [
    {
     "ename": "NameError",
     "evalue": "name 'operacion' is not defined",
     "output_type": "error",
     "traceback": [
      "\u001b[1;31m---------------------------------------------------------------------------\u001b[0m",
      "\u001b[1;31mNameError\u001b[0m                                 Traceback (most recent call last)",
      "\u001b[1;32m<ipython-input-2-00ec9950c5da>\u001b[0m in \u001b[0;36m<module>\u001b[1;34m\u001b[0m\n\u001b[0;32m      3\u001b[0m \u001b[0mb\u001b[0m\u001b[1;33m=\u001b[0m\u001b[1;33m-\u001b[0m\u001b[1;36m4\u001b[0m\u001b[1;33m\u001b[0m\u001b[1;33m\u001b[0m\u001b[0m\n\u001b[0;32m      4\u001b[0m \u001b[0mc\u001b[0m\u001b[1;33m=\u001b[0m\u001b[1;36m2\u001b[0m\u001b[1;33m\u001b[0m\u001b[1;33m\u001b[0m\u001b[0m\n\u001b[1;32m----> 5\u001b[1;33m \u001b[0my\u001b[0m\u001b[1;33m=\u001b[0m\u001b[0moperacion\u001b[0m\u001b[1;33m(\u001b[0m\u001b[1;36m5\u001b[0m\u001b[1;33m,\u001b[0m\u001b[1;33m-\u001b[0m\u001b[1;36m4\u001b[0m\u001b[1;33m,\u001b[0m\u001b[1;36m2\u001b[0m\u001b[1;33m)\u001b[0m\u001b[1;33m\u001b[0m\u001b[1;33m\u001b[0m\u001b[0m\n\u001b[0m\u001b[0;32m      6\u001b[0m \u001b[0mprint\u001b[0m\u001b[1;33m(\u001b[0m\u001b[0my\u001b[0m\u001b[1;33m)\u001b[0m\u001b[1;33m\u001b[0m\u001b[1;33m\u001b[0m\u001b[0m\n",
      "\u001b[1;31mNameError\u001b[0m: name 'operacion' is not defined"
     ]
    }
   ],
   "source": [
    "# Solución del ejemplo utilizando Python\n",
    "a=5\n",
    "b=-4\n",
    "c=2\n",
    "y=operacion(5,-4,2)\n",
    "print(y)"
   ]
  },
  {
   "cell_type": "code",
   "execution_count": null,
   "metadata": {
    "kernel": "Python 3"
   },
   "outputs": [],
   "source": []
  }
 ],
 "metadata": {
  "kernelspec": {
   "display_name": "SoS",
   "language": "sos",
   "name": "sos"
  },
  "sos": {
   "kernels": [
    [
     "Octave",
     "octave",
     "octave",
     "",
     ""
    ],
    [
     "Python 3",
     "python3",
     "python3",
     "",
     {
      "name": "ipython",
      "version": 3
     }
    ],
    [
     "octave",
     "octave",
     "octave",
     "",
     ""
    ]
   ],
   "panel": {
    "displayed": true,
    "height": 0
   },
   "version": "0.21.7"
  }
 },
 "nbformat": 4,
 "nbformat_minor": 2
}
